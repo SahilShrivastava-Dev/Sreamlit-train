{
 "cells": [
  {
   "cell_type": "code",
   "execution_count": 1,
   "metadata": {},
   "outputs": [],
   "source": [
    "import os\n",
    "import pandas as pd\n",
    "import requests\n",
    "from bs4 import BeautifulSoup\n",
    "from gnews import GNews\n",
    "import aspose.pdf as ap\n",
    "\n"
   ]
  },
  {
   "cell_type": "code",
   "execution_count": 2,
   "metadata": {},
   "outputs": [
    {
     "name": "stdout",
     "output_type": "stream",
     "text": [
      "[{'title': 'Copra: Reinventing Indian Cuisine - San Francisco Bay Times - San Francisco Bay Times', 'description': 'Copra: Reinventing Indian Cuisine - San Francisco Bay Times  San Francisco Bay Times', 'published date': 'Thu, 22 Jun 2023 07:00:00 GMT', 'url': 'https://news.google.com/rss/articles/CBMiOGh0dHBzOi8vc2ZiYXl0aW1lcy5jb20vY29wcmEtcmVpbnZlbnRpbmctaW5kaWFuLWN1aXNpbmUv0gEA?oc=5&hl=en-IN&gl=IN&ceid=IN:en', 'publisher': {'href': 'https://sfbaytimes.com', 'title': 'San Francisco Bay Times'}}, {'title': 'Copra Review - Fillmore - San Francisco - The Infatuation', 'description': 'Copra Review - Fillmore - San Francisco  The Infatuation', 'published date': 'Tue, 11 Jul 2023 07:00:00 GMT', 'url': 'https://news.google.com/rss/articles/CBMiOmh0dHBzOi8vd3d3LnRoZWluZmF0dWF0aW9uLmNvbS9zYW4tZnJhbmNpc2NvL3Jldmlld3MvY29wcmHSAQA?oc=5&hl=en-IN&gl=IN&ceid=IN:en', 'publisher': {'href': 'https://www.theinfatuation.com', 'title': 'The Infatuation'}}, {'title': 'S.F. restaurant Copra astounds with South Indian flavors - San Francisco Chronicle', 'description': 'S.F. restaurant Copra astounds with South Indian flavors  San Francisco Chronicle', 'published date': 'Wed, 26 Apr 2023 07:00:00 GMT', 'url': 'https://news.google.com/rss/articles/CBMiXGh0dHBzOi8vd3d3LnNmY2hyb25pY2xlLmNvbS9mb29kL3Jlc3RhdXJhbnRzL2FydGljbGUvY29wcmEtaW5kaWFuLXNhbi1mcmFuY2lzY28tMTc4OTQxMzkucGhw0gEA?oc=5&hl=en-IN&gl=IN&ceid=IN:en', 'publisher': {'href': 'https://www.sfchronicle.com', 'title': 'San Francisco Chronicle'}}, {'title': 'Indie Spotlight: Michel Fiffe Talks Ten Years of COPRA - CBR - Comic Book Resources', 'description': 'Indie Spotlight: Michel Fiffe Talks Ten Years of COPRA  CBR - Comic Book Resources', 'published date': 'Fri, 23 Jun 2023 07:00:00 GMT', 'url': 'https://news.google.com/rss/articles/CBMiMWh0dHBzOi8vd3d3LmNici5jb20vY29wcmEtbWljaGVsLWZpZmZlLWludGVydmlldy_SAQA?oc=5&hl=en-IN&gl=IN&ceid=IN:en', 'publisher': {'href': 'https://www.cbr.com', 'title': 'CBR - Comic Book Resources'}}, {'title': \"Coastal India Vibes & Relaxed, Modern Indian Cuisine from a Chef Who Ran the U.S.' - thebolditalic\", 'description': \"Coastal India Vibes & Relaxed, Modern Indian Cuisine from a Chef Who Ran the U.S.'  thebolditalic\", 'published date': 'Sat, 25 Mar 2023 07:00:00 GMT', 'url': 'https://news.google.com/rss/articles/CBMidGh0dHBzOi8vdGhlYm9sZGl0YWxpYy5jb20vY29hc3RhbC1pbmRpYS12aWJlcy1yZWxheGVkLW1vZGVybi1pbmRpYW4tY3Vpc2luZS1mcm9tLWEtY2hlZi13aG8tcmFuLXRoZS11LXMtY2M0NzYyZmJjZWMw0gEA?oc=5&hl=en-IN&gl=IN&ceid=IN:en', 'publisher': {'href': 'https://thebolditalic.com', 'title': 'thebolditalic'}}, {'title': 'Centre hikes copra MSP by ₹250-300 hike per quintal for 2024 season - The Hindu', 'description': 'Centre hikes copra MSP by ₹250-300 hike per quintal for 2024 season  The Hindu', 'published date': 'Wed, 27 Dec 2023 08:00:00 GMT', 'url': 'https://news.google.com/rss/articles/CBMihgFodHRwczovL3d3dy50aGVoaW5kdS5jb20vYnVzaW5lc3MvYWdyaS1idXNpbmVzcy9jZW50cmUtaGlrZXMtY29wcmEtbXNwLWJ5LTI1MC0zMDAtaGlrZS1wZXItcXVpbnRhbC1mb3ItMjAyNC1zZWFzb24vYXJ0aWNsZTY3Njc5OTQ5LmVjZdIBiwFodHRwczovL3d3dy50aGVoaW5kdS5jb20vYnVzaW5lc3MvYWdyaS1idXNpbmVzcy9jZW50cmUtaGlrZXMtY29wcmEtbXNwLWJ5LTI1MC0zMDAtaGlrZS1wZXItcXVpbnRhbC1mb3ItMjAyNC1zZWFzb24vYXJ0aWNsZTY3Njc5OTQ5LmVjZS9hbXAv?oc=5&hl=en-IN&gl=IN&ceid=IN:en', 'publisher': {'href': 'https://www.thehindu.com', 'title': 'The Hindu'}}, {'title': \"Ring In Onam With Copra's Fine Coastal Kerala Cuisine - India Currents\", 'description': \"Ring In Onam With Copra's Fine Coastal Kerala Cuisine  India Currents\", 'published date': 'Thu, 24 Aug 2023 07:00:00 GMT', 'url': 'https://news.google.com/rss/articles/CBMiUGh0dHBzOi8vaW5kaWFjdXJyZW50cy5jb20vY29wcmEtYnJpbmdzLWNvYXN0YWwtc291dGgtaW5kaWFuLWN1aXNpbmUtdG8tYmF5LWFyZWEv0gEA?oc=5&hl=en-IN&gl=IN&ceid=IN:en', 'publisher': {'href': 'https://indiacurrents.com', 'title': 'India Currents'}}, {'title': 'Copra farmers in Karnataka on slippery ground as prices fall 50% in 5 months - Deccan Herald', 'description': 'Copra farmers in Karnataka on slippery ground as prices fall 50% in 5 months  Deccan Herald', 'published date': 'Sat, 09 Dec 2023 08:00:00 GMT', 'url': 'https://news.google.com/rss/articles/CBMic2h0dHBzOi8vd3d3LmRlY2NhbmhlcmFsZC5jb20vaW5kaWEva2FybmF0YWthL2NvcHJhLWZhcm1lcnMtb24tc2xpcHBlcnktZ3JvdW5kLWFzLXByaWNlcy1mYWxsLTUwLWluLTUtbW9udGhzLTI4MDQ1NTnSAQA?oc=5&hl=en-IN&gl=IN&ceid=IN:en', 'publisher': {'href': 'https://www.deccanherald.com', 'title': 'Deccan Herald'}}, {'title': 'Copra Meal Market Size & Share Analysis - Growth Trends & Forecasts (2023 - 2028) - GlobeNewswire', 'description': 'Copra Meal Market Size & Share Analysis - Growth Trends & Forecasts (2023 - 2028)  GlobeNewswire', 'published date': 'Tue, 15 Aug 2023 07:00:00 GMT', 'url': 'https://news.google.com/rss/articles/CBMijwFodHRwczovL3d3dy5nbG9iZW5ld3N3aXJlLmNvbS9uZXdzLXJlbGVhc2UvMjAyMy8wOC8xNS8yNzI1ODE4LzAvZW4vQ29wcmEtTWVhbC1NYXJrZXQtU2l6ZS1TaGFyZS1BbmFseXNpcy1Hcm93dGgtVHJlbmRzLUZvcmVjYXN0cy0yMDIzLTIwMjguaHRtbNIBAA?oc=5&hl=en-IN&gl=IN&ceid=IN:en', 'publisher': {'href': 'https://www.globenewswire.com', 'title': 'GlobeNewswire'}}, {'title': 'India: Price crash plunges coconut farmers into despair. They blame imports and low support price - Via Campesina', 'description': 'India: Price crash plunges coconut farmers into despair. They blame imports and low support price  Via Campesina', 'published date': 'Thu, 27 Jul 2023 07:00:00 GMT', 'url': 'https://news.google.com/rss/articles/CBMifGh0dHBzOi8vdmlhY2FtcGVzaW5hLm9yZy9lbi9pbmRpYS1wcmljZS1jcmFzaC1wbHVuZ2VzLWNvY29udXQtZmFybWVycy1pbnRvLWRlc3BhaXItdGhleS1ibGFtZS1pbXBvcnRzLWFuZC1sb3ctc3VwcG9ydC1wcmljZS_SAQA?oc=5&hl=en-IN&gl=IN&ceid=IN:en', 'publisher': {'href': 'https://viacampesina.org', 'title': 'Via Campesina'}}, {'title': 'Cabinet approves increase in Copra MSP for 2024 - CNBCTV18', 'description': 'Cabinet approves increase in Copra MSP for 2024  CNBCTV18', 'published date': 'Wed, 27 Dec 2023 08:00:00 GMT', 'url': 'https://news.google.com/rss/articles/CBMicGh0dHBzOi8vd3d3LmNuYmN0djE4LmNvbS9lY29ub215L2NhYmluZXQtbWVldGluZy1jY2VhLW1pbmltdW0tc3VwcG9ydC1wcmljZXMtbXNwLWZvci1jb3ByYS1mb3ItMjAyNC0xODY1NTUxMS5odG3SAXRodHRwczovL3d3dy5jbmJjdHYxOC5jb20vZWNvbm9teS9jYWJpbmV0LW1lZXRpbmctY2NlYS1taW5pbXVtLXN1cHBvcnQtcHJpY2VzLW1zcC1mb3ItY29wcmEtZm9yLTIwMjQtMTg2NTU1MTEuaHRtL2FtcA?oc=5&hl=en-IN&gl=IN&ceid=IN:en', 'publisher': {'href': 'https://www.cnbctv18.com', 'title': 'CNBCTV18'}}, {'title': 'Restaurateur Behind San Francisco’s Copra and Ettan in Palo Alto Plans New Restaurant at Stanford’s Middle Park - Eater SF', 'description': 'Restaurateur Behind San Francisco’s Copra and Ettan in Palo Alto Plans New Restaurant at Stanford’s Middle Park  Eater SF', 'published date': 'Wed, 15 Mar 2023 07:00:00 GMT', 'url': 'https://news.google.com/rss/articles/CBMiVWh0dHBzOi8vc2YuZWF0ZXIuY29tLzIwMjMvMy8xNS8yMzY0MTQ2Ny9leWxhbi1heWVzaGEtdGhhcGFyLW5ldy1yZXN0YXVyYW50LW1lbmxvLXBhcmvSAQA?oc=5&hl=en-IN&gl=IN&ceid=IN:en', 'publisher': {'href': 'https://sf.eater.com', 'title': 'Eater SF'}}, {'title': 'Ryots welcome Centre’s move to raise copra MSP - The Times of India', 'description': 'Ryots welcome Centre’s move to raise copra MSP  The Times of India', 'published date': 'Thu, 28 Dec 2023 08:00:00 GMT', 'url': 'https://news.google.com/rss/articles/CBMiemh0dHBzOi8vdGltZXNvZmluZGlhLmluZGlhdGltZXMuY29tL2NpdHkvYmVuZ2FsdXJ1L3J5b3RzLXdlbGNvbWUtY2VudHJlcy1tb3ZlLXRvLXJhaXNlLWNvcHJhLW1zcC9hcnRpY2xlc2hvdy8xMDYzMzQ3MDIuY21z0gF-aHR0cHM6Ly90aW1lc29maW5kaWEuaW5kaWF0aW1lcy5jb20vY2l0eS9iZW5nYWx1cnUvcnlvdHMtd2VsY29tZS1jZW50cmVzLW1vdmUtdG8tcmFpc2UtY29wcmEtbXNwL2FtcF9hcnRpY2xlc2hvdy8xMDYzMzQ3MDIuY21z?oc=5&hl=en-IN&gl=IN&ceid=IN:en', 'publisher': {'href': 'https://timesofindia.indiatimes.com', 'title': 'The Times of India'}}, {'title': 'Centre grants permission to procure 7,000 tonnes of ball copra following Karnataka’s appeal - The Hindu', 'description': 'Centre grants permission to procure 7,000 tonnes of ball copra following Karnataka’s appeal  The Hindu', 'published date': 'Sat, 24 Feb 2024 14:01:00 GMT', 'url': 'https://news.google.com/rss/articles/CBMingFodHRwczovL3d3dy50aGVoaW5kdS5jb20vbmV3cy9uYXRpb25hbC9rYXJuYXRha2EvY2VudHJlLWdyYW50cy1wZXJtaXNzaW9uLXRvLXByb2N1cmUtNzAwMC10b25uZXMtb2YtYmFsbC1jcm9wYS1mb2xsb3dpbmcta2FybmF0YWthcy1hcHBlYWwvYXJ0aWNsZTY3ODgxODYwLmVjZdIBowFodHRwczovL3d3dy50aGVoaW5kdS5jb20vbmV3cy9uYXRpb25hbC9rYXJuYXRha2EvY2VudHJlLWdyYW50cy1wZXJtaXNzaW9uLXRvLXByb2N1cmUtNzAwMC10b25uZXMtb2YtYmFsbC1jcm9wYS1mb2xsb3dpbmcta2FybmF0YWthcy1hcHBlYWwvYXJ0aWNsZTY3ODgxODYwLmVjZS9hbXAv?oc=5&hl=en-IN&gl=IN&ceid=IN:en', 'publisher': {'href': 'https://www.thehindu.com', 'title': 'The Hindu'}}, {'title': 'Govt hikes copra MSP by Rs 250-300 per quintal for 2024 season - Deccan Herald', 'description': 'Govt hikes copra MSP by Rs 250-300 per quintal for 2024 season  Deccan Herald', 'published date': 'Wed, 27 Dec 2023 08:00:00 GMT', 'url': 'https://news.google.com/rss/articles/CBMibGh0dHBzOi8vd3d3LmRlY2NhbmhlcmFsZC5jb20vYnVzaW5lc3MvZ292dC1oaWtlcy1jb3ByYS1tc3AtYnktcnMtMjUwLTMwMC1wZXItcXVpbnRhbC1mb3ItMjAyNC1zZWFzb24tMjgyNjUxMNIBAA?oc=5&hl=en-IN&gl=IN&ceid=IN:en', 'publisher': {'href': 'https://www.deccanherald.com', 'title': 'Deccan Herald'}}, {'title': 'The Toughest Reservations In SF Right Now (And How To Get Them) - San Francisco - The Infatuation', 'description': 'The Toughest Reservations In SF Right Now (And How To Get Them) - San Francisco  The Infatuation', 'published date': 'Wed, 03 Jan 2024 08:00:00 GMT', 'url': 'https://news.google.com/rss/articles/CBMiYmh0dHBzOi8vd3d3LnRoZWluZmF0dWF0aW9uLmNvbS9zYW4tZnJhbmNpc2NvL2d1aWRlcy90b3VnaGVzdC1yZXN0YXVyYW50LXJlc2VydmF0aW9ucy1zYW4tZnJhbmNpc2Nv0gEA?oc=5&hl=en-IN&gl=IN&ceid=IN:en', 'publisher': {'href': 'https://www.theinfatuation.com', 'title': 'The Infatuation'}}, {'title': 'Coconut farmers in T.N. unhappy with hike in MSP for copra - The Hindu', 'description': 'Coconut farmers in T.N. unhappy with hike in MSP for copra  The Hindu', 'published date': 'Wed, 27 Dec 2023 08:00:00 GMT', 'url': 'https://news.google.com/rss/articles/CBMifmh0dHBzOi8vd3d3LnRoZWhpbmR1LmNvbS9uZXdzL25hdGlvbmFsL3RhbWlsLW5hZHUvY29jb251dC1mYXJtZXJzLWluLXRuLXVuaGFwcHktd2l0aC1oaWtlLWluLW1zcC1mb3ItY29wcmEvYXJ0aWNsZTY3NjgwNjQ0LmVjZdIBgwFodHRwczovL3d3dy50aGVoaW5kdS5jb20vbmV3cy9uYXRpb25hbC90YW1pbC1uYWR1L2NvY29udXQtZmFybWVycy1pbi10bi11bmhhcHB5LXdpdGgtaGlrZS1pbi1tc3AtZm9yLWNvcHJhL2FydGljbGU2NzY4MDY0NC5lY2UvYW1wLw?oc=5&hl=en-IN&gl=IN&ceid=IN:en', 'publisher': {'href': 'https://www.thehindu.com', 'title': 'The Hindu'}}, {'title': 'Deve Gowda welcomes increase in MSP for copra - The Hindu', 'description': 'Deve Gowda welcomes increase in MSP for copra  The Hindu', 'published date': 'Wed, 27 Dec 2023 08:00:00 GMT', 'url': 'https://news.google.com/rss/articles/CBMicmh0dHBzOi8vd3d3LnRoZWhpbmR1LmNvbS9uZXdzL25hdGlvbmFsL2thcm5hdGFrYS9kZXZlLWdvd2RhLXdlbGNvbWVzLWluY3JlYXNlLWluLW1zcC1mb3ItY29wcmEvYXJ0aWNsZTY3NjgwNzgwLmVjZdIBd2h0dHBzOi8vd3d3LnRoZWhpbmR1LmNvbS9uZXdzL25hdGlvbmFsL2thcm5hdGFrYS9kZXZlLWdvd2RhLXdlbGNvbWVzLWluY3JlYXNlLWluLW1zcC1mb3ItY29wcmEvYXJ0aWNsZTY3NjgwNzgwLmVjZS9hbXAv?oc=5&hl=en-IN&gl=IN&ceid=IN:en', 'publisher': {'href': 'https://www.thehindu.com', 'title': 'The Hindu'}}, {'title': 'JD(S)-Congress clash in Assembly over permission to speak on copra price - The Hindu', 'description': 'JD(S)-Congress clash in Assembly over permission to speak on copra price  The Hindu', 'published date': 'Tue, 05 Dec 2023 08:00:00 GMT', 'url': 'https://news.google.com/rss/articles/CBMiiwFodHRwczovL3d3dy50aGVoaW5kdS5jb20vbmV3cy9uYXRpb25hbC9rYXJuYXRha2EvamRzLWNvbmdyZXNzLWNsYXNoLWluLWFzc2VtYmx5LW92ZXItcGVybWlzc2lvbi10by1zcGVhay1vbi1jb3ByYS1wcmljZS9hcnRpY2xlNjc2MDc4MDQuZWNl0gGQAWh0dHBzOi8vd3d3LnRoZWhpbmR1LmNvbS9uZXdzL25hdGlvbmFsL2thcm5hdGFrYS9qZHMtY29uZ3Jlc3MtY2xhc2gtaW4tYXNzZW1ibHktb3Zlci1wZXJtaXNzaW9uLXRvLXNwZWFrLW9uLWNvcHJhLXByaWNlL2FydGljbGU2NzYwNzgwNC5lY2UvYW1wLw?oc=5&hl=en-IN&gl=IN&ceid=IN:en', 'publisher': {'href': 'https://www.thehindu.com', 'title': 'The Hindu'}}, {'title': 'Coconuts: the reason you may miss your next flight - Condé Nast Traveller India', 'description': 'Coconuts: the reason you may miss your next flight  Condé Nast Traveller India', 'published date': 'Sun, 03 Sep 2023 07:00:00 GMT', 'url': 'https://news.google.com/rss/articles/CBMiZ2h0dHBzOi8vd3d3LmNudHJhdmVsbGVyLmluL3N0b3J5L2NvY29udXRzLXRoZS1yZWFzb24teW91LW1heS1taXNzLXlvdXItbmV4dC1mbGlnaHQtY29wcmEtYWlycG9ydC1kZWxheS_SAQA?oc=5&hl=en-IN&gl=IN&ceid=IN:en', 'publisher': {'href': 'https://www.cntraveller.in', 'title': 'Condé Nast Traveller India'}}, {'title': 'Copra procurement suspended for a week: Minister - The Hindu', 'description': 'Copra procurement suspended for a week: Minister  The Hindu', 'published date': 'Wed, 14 Feb 2024 08:00:00 GMT', 'url': 'https://news.google.com/rss/articles/CBMidGh0dHBzOi8vd3d3LnRoZWhpbmR1LmNvbS9uZXdzL25hdGlvbmFsL2thcm5hdGFrYS9jb3ByYS1wcm9jdXJlbWVudC1zdXNwZW5kZWQtZm9yLWEtd2Vlay1taW5pc3Rlci9hcnRpY2xlNjc4NDU4ODQuZWNl0gF5aHR0cHM6Ly93d3cudGhlaGluZHUuY29tL25ld3MvbmF0aW9uYWwva2FybmF0YWthL2NvcHJhLXByb2N1cmVtZW50LXN1c3BlbmRlZC1mb3ItYS13ZWVrLW1pbmlzdGVyL2FydGljbGU2Nzg0NTg4NC5lY2UvYW1wLw?oc=5&hl=en-IN&gl=IN&ceid=IN:en', 'publisher': {'href': 'https://www.thehindu.com', 'title': 'The Hindu'}}, {'title': 'Copra procurement put off as govt cracks down on fraudulent registration - Deccan Herald', 'description': 'Copra procurement put off as govt cracks down on fraudulent registration  Deccan Herald', 'published date': 'Wed, 14 Feb 2024 08:00:00 GMT', 'url': 'https://news.google.com/rss/articles/CBMifWh0dHBzOi8vd3d3LmRlY2NhbmhlcmFsZC5jb20vaW5kaWEva2FybmF0YWthL2NvcHJhLXByb2N1cmVtZW50LXB1dC1vZmYtYXMtZ292dC1jcmFja3MtZG93bi1vbi1mcmF1ZHVsZW50LXJlZ2lzdHJhdGlvbi0yODk0OTk40gEA?oc=5&hl=en-IN&gl=IN&ceid=IN:en', 'publisher': {'href': 'https://www.deccanherald.com', 'title': 'Deccan Herald'}}, {'title': 'First Taste: Copra, an Enchanting Take on Coastal South Indian + Sri Lankan Eats - 7x7', 'description': 'First Taste: Copra, an Enchanting Take on Coastal South Indian + Sri Lankan Eats  7x7', 'published date': 'Fri, 10 Mar 2023 08:00:00 GMT', 'url': 'https://news.google.com/rss/articles/CBMiQmh0dHBzOi8vd3d3Ljd4Ny5jb20vY29wcmEtcmVzdGF1cmFudC1zYW4tZnJhbmNpc2NvLTI2NTk1NjYyMzguaHRtbNIBQWh0dHBzOi8vd3d3Ljd4Ny5jb20vYW1wL2NvcHJhLXJlc3RhdXJhbnQtc2FuLWZyYW5jaXNjby0yNjU5NTY2MjM4?oc=5&hl=en-IN&gl=IN&ceid=IN:en', 'publisher': {'href': 'https://www.7x7.com', 'title': '7x7'}}, {'title': 'Increase quantity of copra procurement from Tamil Nadu: CM Stalin to PM - Deccan Herald', 'description': 'Increase quantity of copra procurement from Tamil Nadu: CM Stalin to PM  Deccan Herald', 'published date': 'Mon, 10 Jul 2023 07:00:00 GMT', 'url': 'https://news.google.com/rss/articles/CBMidmh0dHBzOi8vd3d3LmRlY2NhbmhlcmFsZC5jb20vaW5kaWEvaW5jcmVhc2UtcXVhbnRpdHktb2YtY29wcmEtcHJvY3VyZW1lbnQtZnJvbS10YW1pbC1uYWR1LWNtLXN0YWxpbi10by1wbS0xMjM1NzI4Lmh0bWzSAQA?oc=5&hl=en-IN&gl=IN&ceid=IN:en', 'publisher': {'href': 'https://www.deccanherald.com', 'title': 'Deccan Herald'}}, {'title': 'Coconut farmers lose sleep as copra price goes from ₹14,500 to ₹7,000 per quintal in 8 months - The Hindu', 'description': 'Coconut farmers lose sleep as copra price goes from ₹14,500 to ₹7,000 per quintal in 8 months  The Hindu', 'published date': 'Tue, 11 Jul 2023 07:00:00 GMT', 'url': 'https://news.google.com/rss/articles/CBMingFodHRwczovL3d3dy50aGVoaW5kdS5jb20vbmV3cy9uYXRpb25hbC9rYXJuYXRha2EvY29jb251dC1mYXJtZXJzLWxvc2Utc2xlZXAtYXMtY29wcmEtcHJpY2UtZ29lcy1mcm9tLTE0NTAwLXRvLTcwMDAtcGVyLXF1aW50YWwtaW4tOC1tb250aHMvYXJ0aWNsZTY3MDY0MTM4LmVjZdIBowFodHRwczovL3d3dy50aGVoaW5kdS5jb20vbmV3cy9uYXRpb25hbC9rYXJuYXRha2EvY29jb251dC1mYXJtZXJzLWxvc2Utc2xlZXAtYXMtY29wcmEtcHJpY2UtZ29lcy1mcm9tLTE0NTAwLXRvLTcwMDAtcGVyLXF1aW50YWwtaW4tOC1tb250aHMvYXJ0aWNsZTY3MDY0MTM4LmVjZS9hbXAv?oc=5&hl=en-IN&gl=IN&ceid=IN:en', 'publisher': {'href': 'https://www.thehindu.com', 'title': 'The Hindu'}}, {'title': 'Stalin writes to Modi over copra procurement - The Hindu', 'description': 'Stalin writes to Modi over copra procurement  The Hindu', 'published date': 'Mon, 10 Jul 2023 07:00:00 GMT', 'url': 'https://news.google.com/rss/articles/CBMicmh0dHBzOi8vd3d3LnRoZWhpbmR1LmNvbS9uZXdzL25hdGlvbmFsL3RhbWlsLW5hZHUvc3RhbGluLXdyaXRlcy10by1tb2RpLW92ZXItY29wcmEtcHJvY3VyZW1lbnQvYXJ0aWNsZTY3MDY0MDY2LmVjZdIBd2h0dHBzOi8vd3d3LnRoZWhpbmR1LmNvbS9uZXdzL25hdGlvbmFsL3RhbWlsLW5hZHUvc3RhbGluLXdyaXRlcy10by1tb2RpLW92ZXItY29wcmEtcHJvY3VyZW1lbnQvYXJ0aWNsZTY3MDY0MDY2LmVjZS9hbXAv?oc=5&hl=en-IN&gl=IN&ceid=IN:en', 'publisher': {'href': 'https://www.thehindu.com', 'title': 'The Hindu'}}, {'title': 'Copra procurement from Tiruppur farmers extended till November 26 - The Hindu', 'description': 'Copra procurement from Tiruppur farmers extended till November 26  The Hindu', 'published date': 'Thu, 19 Oct 2023 07:00:00 GMT', 'url': 'https://news.google.com/rss/articles/CBMihQFodHRwczovL3d3dy50aGVoaW5kdS5jb20vbmV3cy9jaXRpZXMvQ29pbWJhdG9yZS9jb3ByYS1wcm9jdXJlbWVudC1mcm9tLXRpcnVwcHVyLWZhcm1lcnMtZXh0ZW5kZWQtdGlsbC1ub3ZlbWJlci0yNi9hcnRpY2xlNjc0Mzg1NjguZWNl0gGKAWh0dHBzOi8vd3d3LnRoZWhpbmR1LmNvbS9uZXdzL2NpdGllcy9Db2ltYmF0b3JlL2NvcHJhLXByb2N1cmVtZW50LWZyb20tdGlydXBwdXItZmFybWVycy1leHRlbmRlZC10aWxsLW5vdmVtYmVyLTI2L2FydGljbGU2NzQzODU2OC5lY2UvYW1wLw?oc=5&hl=en-IN&gl=IN&ceid=IN:en', 'publisher': {'href': 'https://www.thehindu.com', 'title': 'The Hindu'}}, {'title': 'Step Inside Copra, a Stunning Tropical Oasis Serving Well-Spiced Southern Indian Chutneys and Curries - Eater SF', 'description': 'Step Inside Copra, a Stunning Tropical Oasis Serving Well-Spiced Southern Indian Chutneys and Curries  Eater SF', 'published date': 'Tue, 21 Feb 2023 08:00:00 GMT', 'url': 'https://news.google.com/rss/articles/CBMiZGh0dHBzOi8vc2YuZWF0ZXIuY29tLzIwMjMvMi8yMS8yMzYwODcyNS9jb3ByYS1uZXctaW5kaWFuLXJlc3RhdXJhbnQtc2FuLWZyYW5jaXNjby1zcmlqaXRoLWdvcGluYXRoYW7SAQA?oc=5&hl=en-IN&gl=IN&ceid=IN:en', 'publisher': {'href': 'https://sf.eater.com', 'title': 'Eater SF'}}, {'title': 'Prajwal Revanna favours a probe into irregularities in registration of coconut growers for copra procurement - The Hindu', 'description': 'Prajwal Revanna favours a probe into irregularities in registration of coconut growers for copra procurement  The Hindu', 'published date': 'Thu, 15 Feb 2024 08:00:00 GMT', 'url': 'https://news.google.com/rss/articles/CBMisQFodHRwczovL3d3dy50aGVoaW5kdS5jb20vbmV3cy9uYXRpb25hbC9rYXJuYXRha2EvcHJhandhbC1yZXZhbm5hLWZhdm91cnMtYS1wcm9iZS1pbnRvLWlycmVndWxhcml0aWVzLWluLXJlZ2lzdHJhdGlvbi1vZi1jb2NvbnV0LWdyb3dlcnMtZm9yLWNvcHJhLXByb2N1cmVtZW50L2FydGljbGU2Nzg0OTE1MC5lY2XSAbYBaHR0cHM6Ly93d3cudGhlaGluZHUuY29tL25ld3MvbmF0aW9uYWwva2FybmF0YWthL3ByYWp3YWwtcmV2YW5uYS1mYXZvdXJzLWEtcHJvYmUtaW50by1pcnJlZ3VsYXJpdGllcy1pbi1yZWdpc3RyYXRpb24tb2YtY29jb251dC1ncm93ZXJzLWZvci1jb3ByYS1wcm9jdXJlbWVudC9hcnRpY2xlNjc4NDkxNTAuZWNlL2FtcC8?oc=5&hl=en-IN&gl=IN&ceid=IN:en', 'publisher': {'href': 'https://www.thehindu.com', 'title': 'The Hindu'}}, {'title': 'Irregularities in registration, copra purchase suspended for a week: Karnataka Minister - The New Indian Express', 'description': 'Irregularities in registration, copra purchase suspended for a week: Karnataka Minister  The New Indian Express', 'published date': 'Thu, 15 Feb 2024 08:00:00 GMT', 'url': 'https://news.google.com/rss/articles/CBMikwFodHRwczovL3d3dy5uZXdpbmRpYW5leHByZXNzLmNvbS9zdGF0ZXMva2FybmF0YWthLzIwMjQvRmViLzE1L2lycmVndWxhcml0aWVzLWluLXJlZ2lzdHJhdGlvbi1jb3ByYS1wdXJjaGFzZS1zdXNwZW5kZWQtZm9yLWEtd2Vlay1rYXJuYXRha2EtbWluaXN0ZXLSAZ0BaHR0cHM6Ly93d3cubmV3aW5kaWFuZXhwcmVzcy5jb20vYW1wL3N0b3J5L3N0YXRlcy9rYXJuYXRha2EvMjAyNC9GZWIvMTUvaXJyZWd1bGFyaXRpZXMtaW4tcmVnaXN0cmF0aW9uLWNvcHJhLXB1cmNoYXNlLXN1c3BlbmRlZC1mb3ItYS13ZWVrLWthcm5hdGFrYS1taW5pc3Rlcg?oc=5&hl=en-IN&gl=IN&ceid=IN:en', 'publisher': {'href': 'https://www.newindianexpress.com', 'title': 'The New Indian Express'}}, {'title': 'Hassan MP appeals to Union Minister to continue registration for copra procurement - The Hindu', 'description': 'Hassan MP appeals to Union Minister to continue registration for copra procurement  The Hindu', 'published date': 'Sun, 11 Feb 2024 08:00:00 GMT', 'url': 'https://news.google.com/rss/articles/CBMilwFodHRwczovL3d3dy50aGVoaW5kdS5jb20vbmV3cy9uYXRpb25hbC9rYXJuYXRha2EvaGFzc2FuLW1wLWFwcGVhbHMtdG8tdW5pb24tbWluaXN0ZXItdG8tY29udGludWUtcmVnaXN0cmF0aW9uLWZvci1jb3ByYS1wcm9jdXJlbWVudC9hcnRpY2xlNjc4MzQ2OTMuZWNl0gGcAWh0dHBzOi8vd3d3LnRoZWhpbmR1LmNvbS9uZXdzL25hdGlvbmFsL2thcm5hdGFrYS9oYXNzYW4tbXAtYXBwZWFscy10by11bmlvbi1taW5pc3Rlci10by1jb250aW51ZS1yZWdpc3RyYXRpb24tZm9yLWNvcHJhLXByb2N1cmVtZW50L2FydGljbGU2NzgzNDY5My5lY2UvYW1wLw?oc=5&hl=en-IN&gl=IN&ceid=IN:en', 'publisher': {'href': 'https://www.thehindu.com', 'title': 'The Hindu'}}, {'title': 'Michelin-starred chef Srijith Gopinathan dishes on restaurants, gardening and dead presidents - San Francisco ... - The Business Journals', 'description': 'Michelin-starred chef Srijith Gopinathan dishes on restaurants, gardening and dead presidents - San Francisco ...  The Business Journals', 'published date': 'Fri, 31 Mar 2023 07:00:00 GMT', 'url': 'https://news.google.com/rss/articles/CBMiYGh0dHBzOi8vd3d3LmJpempvdXJuYWxzLmNvbS9zYW5mcmFuY2lzY28vbmV3cy8yMDIzLzAzLzMxL2NoZWYtc3Jpaml0aC1nb3BpbmF0aGFuLWNvcHJhLW1hbXUuaHRtbNIBAA?oc=5&hl=en-IN&gl=IN&ceid=IN:en', 'publisher': {'href': 'https://www.bizjournals.com', 'title': 'The Business Journals'}}, {'title': 'Top Indian and South Asian Restaurants in the Bay Area - San Francisco Chronicle', 'description': 'Top Indian and South Asian Restaurants in the Bay Area  San Francisco Chronicle', 'published date': 'Tue, 19 Sep 2023 07:00:00 GMT', 'url': 'https://news.google.com/rss/articles/CBMiS2h0dHBzOi8vd3d3LnNmY2hyb25pY2xlLmNvbS9wcm9qZWN0cy9iZXN0LWluZGlhbi1mb29kLXJlc3RhdXJhbnRzLWJheS1hcmVhL9IBAA?oc=5&hl=en-IN&gl=IN&ceid=IN:en', 'publisher': {'href': 'https://www.sfchronicle.com', 'title': 'San Francisco Chronicle'}}, {'title': 'Nafed’s copra disposal sparks concern among traders; prices dip to ₹88 in Kerala markets - BusinessLine', 'description': 'Nafed’s copra disposal sparks concern among traders; prices dip to ₹88 in Kerala markets  BusinessLine', 'published date': 'Tue, 12 Dec 2023 08:00:00 GMT', 'url': 'https://news.google.com/rss/articles/CBMipAFodHRwczovL3d3dy50aGVoaW5kdWJ1c2luZXNzbGluZS5jb20vZWNvbm9teS9hZ3JpLWJ1c2luZXNzL25hZmVkcy1jb3ByYS1kaXNwb3NhbC1zcGFya3MtY29uY2Vybi1hbW9uZy10cmFkZXJzLXByaWNlcy1kaXAtdG8tODgtaW4ta2VyYWxhLW1hcmtldHMvYXJ0aWNsZTY3NjI5OTMwLmVjZdIBqQFodHRwczovL3d3dy50aGVoaW5kdWJ1c2luZXNzbGluZS5jb20vZWNvbm9teS9hZ3JpLWJ1c2luZXNzL25hZmVkcy1jb3ByYS1kaXNwb3NhbC1zcGFya3MtY29uY2Vybi1hbW9uZy10cmFkZXJzLXByaWNlcy1kaXAtdG8tODgtaW4ta2VyYWxhLW1hcmtldHMvYXJ0aWNsZTY3NjI5OTMwLmVjZS9hbXAv?oc=5&hl=en-IN&gl=IN&ceid=IN:en', 'publisher': {'href': 'https://www.thehindubusinessline.com', 'title': 'BusinessLine'}}, {'title': 'KRRS demands increase in support price for copra - The Hindu', 'description': 'KRRS demands increase in support price for copra  The Hindu', 'published date': 'Tue, 11 Jul 2023 07:00:00 GMT', 'url': 'https://news.google.com/rss/articles/CBMidWh0dHBzOi8vd3d3LnRoZWhpbmR1LmNvbS9uZXdzL25hdGlvbmFsL2thcm5hdGFrYS9rcnJzLWRlbWFuZHMtaW5jcmVhc2UtaW4tc3VwcG9ydC1wcmljZS1mb3ItY29wcmEvYXJ0aWNsZTY3MDY4MzI0LmVjZdIBemh0dHBzOi8vd3d3LnRoZWhpbmR1LmNvbS9uZXdzL25hdGlvbmFsL2thcm5hdGFrYS9rcnJzLWRlbWFuZHMtaW5jcmVhc2UtaW4tc3VwcG9ydC1wcmljZS1mb3ItY29wcmEvYXJ0aWNsZTY3MDY4MzI0LmVjZS9hbXAv?oc=5&hl=en-IN&gl=IN&ceid=IN:en', 'publisher': {'href': 'https://www.thehindu.com', 'title': 'The Hindu'}}, {'title': 'Northern Mindanao remains hopeful despite decline in copra prices - Rappler', 'description': 'Northern Mindanao remains hopeful despite decline in copra prices  Rappler', 'published date': 'Wed, 30 Aug 2023 07:00:00 GMT', 'url': 'https://news.google.com/rss/articles/CBMiV2h0dHBzOi8vd3d3LnJhcHBsZXIuY29tL25hdGlvbi9taW5kYW5hby9ub3J0aGVybi1taW5kYW5hby1ob3BlZnVsLWRlY2xpbmUtY29wcmEtcHJpY2VzL9IBAA?oc=5&hl=en-IN&gl=IN&ceid=IN:en', 'publisher': {'href': 'https://www.rappler.com', 'title': 'Rappler'}}, {'title': 'Union cabinet approves increase in copra MSP for upcoming 2024 season - Business Standard', 'description': 'Union cabinet approves increase in copra MSP for upcoming 2024 season  Business Standard', 'published date': 'Wed, 27 Dec 2023 08:00:00 GMT', 'url': 'https://news.google.com/rss/articles/CBMiiAFodHRwczovL3d3dy5idXNpbmVzcy1zdGFuZGFyZC5jb20vZWNvbm9teS9uZXdzL3VuaW9uLWNhYmluZXQtYXBwcm92ZXMtaW5jcmVhc2UtaW4tY29wcmEtbXNwLWZvci11cGNvbWluZy0yMDI0LXNlYXNvbi0xMjMxMjI3MDA3NTRfMS5odG1s0gGMAWh0dHBzOi8vd3d3LmJ1c2luZXNzLXN0YW5kYXJkLmNvbS9hbXAvZWNvbm9teS9uZXdzL3VuaW9uLWNhYmluZXQtYXBwcm92ZXMtaW5jcmVhc2UtaW4tY29wcmEtbXNwLWZvci11cGNvbWluZy0yMDI0LXNlYXNvbi0xMjMxMjI3MDA3NTRfMS5odG1s?oc=5&hl=en-IN&gl=IN&ceid=IN:en', 'publisher': {'href': 'https://www.business-standard.com', 'title': 'Business Standard'}}, {'title': 'Coconut farmers’ call to NAFED - The Hindu', 'description': 'Coconut farmers’ call to NAFED  The Hindu', 'published date': 'Wed, 06 Dec 2023 08:00:00 GMT', 'url': 'https://news.google.com/rss/articles/CBMiZWh0dHBzOi8vd3d3LnRoZWhpbmR1LmNvbS9uZXdzL2NpdGllcy9UaXJ1Y2hpcmFwYWxsaS9jb2NvbnV0LWZhcm1lcnMtY2FsbC10by1uYWZlZC9hcnRpY2xlNjc2MTA3NjguZWNl0gFqaHR0cHM6Ly93d3cudGhlaGluZHUuY29tL25ld3MvY2l0aWVzL1RpcnVjaGlyYXBhbGxpL2NvY29udXQtZmFybWVycy1jYWxsLXRvLW5hZmVkL2FydGljbGU2NzYxMDc2OC5lY2UvYW1wLw?oc=5&hl=en-IN&gl=IN&ceid=IN:en', 'publisher': {'href': 'https://www.thehindu.com', 'title': 'The Hindu'}}, {'title': \"Central government increased 'Copra' price to support south Indian coconut growers - The New Indian Express\", 'description': \"Central government increased 'Copra' price to support south Indian coconut growers  The New Indian Express\", 'published date': 'Thu, 28 Dec 2023 08:00:00 GMT', 'url': 'https://news.google.com/rss/articles/CBMikQFodHRwczovL3d3dy5uZXdpbmRpYW5leHByZXNzLmNvbS9uYXRpb24vMjAyMy9EZWMvMjgvY2VudHJhbC1nb3Zlcm5tZW50LWluY3JlYXNlZC1jb3ByYS1wcmljZS10by1zdXBwb3J0LXNvdXRoLWluZGlhbi1jb2NvbnV0LWdyb3dlcnMtMjY0NTcwMi5odG1s0gGbAWh0dHBzOi8vd3d3Lm5ld2luZGlhbmV4cHJlc3MuY29tL2FtcC9zdG9yeS9uYXRpb24vMjAyMy9EZWMvMjgvY2VudHJhbC1nb3Zlcm5tZW50LWluY3JlYXNlZC1jb3ByYS1wcmljZS10by1zdXBwb3J0LXNvdXRoLWluZGlhbi1jb2NvbnV0LWdyb3dlcnMtMjY0NTcwMi5odG1s?oc=5&hl=en-IN&gl=IN&ceid=IN:en', 'publisher': {'href': 'https://www.newindianexpress.com', 'title': 'The New Indian Express'}}, {'title': 'State government urged to procure copra from NAFED - The Hindu', 'description': 'State government urged to procure copra from NAFED  The Hindu', 'published date': 'Wed, 27 Dec 2023 08:00:00 GMT', 'url': 'https://news.google.com/rss/articles/CBMiemh0dHBzOi8vd3d3LnRoZWhpbmR1LmNvbS9uZXdzL2NpdGllcy9UaXJ1Y2hpcmFwYWxsaS9zdGF0ZS1nb3Zlcm5tZW50LXVyZ2VkLXRvLXByb2N1cmUtY29wcmEtZnJvbS1uYWZlZC9hcnRpY2xlNjc2Nzk5NTUuZWNl0gF_aHR0cHM6Ly93d3cudGhlaGluZHUuY29tL25ld3MvY2l0aWVzL1RpcnVjaGlyYXBhbGxpL3N0YXRlLWdvdmVybm1lbnQtdXJnZWQtdG8tcHJvY3VyZS1jb3ByYS1mcm9tLW5hZmVkL2FydGljbGU2NzY3OTk1NS5lY2UvYW1wLw?oc=5&hl=en-IN&gl=IN&ceid=IN:en', 'publisher': {'href': 'https://www.thehindu.com', 'title': 'The Hindu'}}, {'title': 'Concern over copra price rises again as NAFED set to auction its stock - Mathrubhumi English', 'description': 'Concern over copra price rises again as NAFED set to auction its stock  Mathrubhumi English', 'published date': 'Thu, 07 Dec 2023 08:00:00 GMT', 'url': 'https://news.google.com/rss/articles/CBMifWh0dHBzOi8vZW5nbGlzaC5tYXRocnViaHVtaS5jb20vbmV3cy9rZXJhbGEvY29uY2Vybi1vdmVyLWNvcHJhLXByaWNlcy1yaXNlcy1hZ2Fpbi1hcy1uYWZlZC1zZXQtdG8tYXVjdGlvbi1vZmYtc3RvY2stMS45MTM1MDIz0gGBAWh0dHBzOi8vZW5nbGlzaC5tYXRocnViaHVtaS5jb20vYW1wL25ld3Mva2VyYWxhL2NvbmNlcm4tb3Zlci1jb3ByYS1wcmljZXMtcmlzZXMtYWdhaW4tYXMtbmFmZWQtc2V0LXRvLWF1Y3Rpb24tb2ZmLXN0b2NrLTEuOTEzNTAyMw?oc=5&hl=en-IN&gl=IN&ceid=IN:en', 'publisher': {'href': 'https://english.mathrubhumi.com', 'title': 'Mathrubhumi English'}}, {'title': \"Nine of the Bay Area's best new restaurants: April - San Francisco Chronicle\", 'description': \"Nine of the Bay Area's best new restaurants: April  San Francisco Chronicle\", 'published date': 'Wed, 05 Apr 2023 07:00:00 GMT', 'url': 'https://news.google.com/rss/articles/CBMiVmh0dHBzOi8vd3d3LnNmY2hyb25pY2xlLmNvbS9mb29kL3Jlc3RhdXJhbnRzL2FydGljbGUvbmV3LWJheS1hcmVhLW9wZW5pbmctMTc4NTYyNzkucGhw0gEA?oc=5&hl=en-IN&gl=IN&ceid=IN:en', 'publisher': {'href': 'https://www.sfchronicle.com', 'title': 'San Francisco Chronicle'}}, {'title': 'Karnataka offers ₹1,250 per quintal for copra in addition to MSP of Centre - The Hindu', 'description': 'Karnataka offers ₹1,250 per quintal for copra in addition to MSP of Centre  The Hindu', 'published date': 'Wed, 12 Jul 2023 07:00:00 GMT', 'url': 'https://news.google.com/rss/articles/CBMihAFodHRwczovL3d3dy50aGVoaW5kdS5jb20vbmV3cy9uYXRpb25hbC9rYXJuYXRha2Eva2FybmF0YWthLWFubm91bmNlcy1zdXBwb3J0LXByaWNlLW9mLTEyNTAtcGVyLXF1aW50YWwtZm9yLWNvcHJhL2FydGljbGU2NzA3MTEwMy5lY2XSAYkBaHR0cHM6Ly93d3cudGhlaGluZHUuY29tL25ld3MvbmF0aW9uYWwva2FybmF0YWthL2thcm5hdGFrYS1hbm5vdW5jZXMtc3VwcG9ydC1wcmljZS1vZi0xMjUwLXBlci1xdWludGFsLWZvci1jb3ByYS9hcnRpY2xlNjcwNzExMDMuZWNlL2FtcC8?oc=5&hl=en-IN&gl=IN&ceid=IN:en', 'publisher': {'href': 'https://www.thehindu.com', 'title': 'The Hindu'}}, {'title': 'Stalin urges PM to increase procurement of copra from Tamil Nadu - The Times of India', 'description': 'Stalin urges PM to increase procurement of copra from Tamil Nadu  The Times of India', 'published date': 'Mon, 10 Jul 2023 07:00:00 GMT', 'url': 'https://news.google.com/rss/articles/CBMijAFodHRwczovL3RpbWVzb2ZpbmRpYS5pbmRpYXRpbWVzLmNvbS9jaXR5L2NoZW5uYWkvc3RhbGluLXVyZ2VzLXBtLXRvLWluY3JlYXNlLXByb2N1cmVtZW50LW9mLWNvcHJhLWZyb20tdGFtaWwtbmFkdS0vYXJ0aWNsZXNob3cvMTAxNjQwMTQ4LmNtc9IBkAFodHRwczovL3RpbWVzb2ZpbmRpYS5pbmRpYXRpbWVzLmNvbS9jaXR5L2NoZW5uYWkvc3RhbGluLXVyZ2VzLXBtLXRvLWluY3JlYXNlLXByb2N1cmVtZW50LW9mLWNvcHJhLWZyb20tdGFtaWwtbmFkdS0vYW1wX2FydGljbGVzaG93LzEwMTY0MDE0OC5jbXM?oc=5&hl=en-IN&gl=IN&ceid=IN:en', 'publisher': {'href': 'https://timesofindia.indiatimes.com', 'title': 'The Times of India'}}, {'title': 'Nafed’s move to sell procured copra irks coconut oil traders - BusinessLine', 'description': 'Nafed’s move to sell procured copra irks coconut oil traders  BusinessLine', 'published date': 'Thu, 05 Oct 2023 07:00:00 GMT', 'url': 'https://news.google.com/rss/articles/CBMiigFodHRwczovL3d3dy50aGVoaW5kdWJ1c2luZXNzbGluZS5jb20vZWNvbm9teS9hZ3JpLWJ1c2luZXNzL25hZmVkcy1tb3ZlLXRvLXNlbGwtcHJvY3VyZWQtY29wcmEtaXJrcy1jb2NvbnV0LW9pbC10cmFkZXJzL2FydGljbGU2NzM4NDE0OS5lY2XSAY8BaHR0cHM6Ly93d3cudGhlaGluZHVidXNpbmVzc2xpbmUuY29tL2Vjb25vbXkvYWdyaS1idXNpbmVzcy9uYWZlZHMtbW92ZS10by1zZWxsLXByb2N1cmVkLWNvcHJhLWlya3MtY29jb251dC1vaWwtdHJhZGVycy9hcnRpY2xlNjczODQxNDkuZWNlL2FtcC8?oc=5&hl=en-IN&gl=IN&ceid=IN:en', 'publisher': {'href': 'https://www.thehindubusinessline.com', 'title': 'BusinessLine'}}, {'title': 'This Chef Left His Michelin Two-Star Restaurant to Cook the Food of His Native South India - Robb Report', 'description': 'This Chef Left His Michelin Two-Star Restaurant to Cook the Food of His Native South India  Robb Report', 'published date': 'Wed, 01 Mar 2023 08:00:00 GMT', 'url': 'https://news.google.com/rss/articles/CBMibGh0dHBzOi8vcm9iYnJlcG9ydC5jb20vZm9vZC1kcmluay9kaW5pbmcvY29wcmEtc2YtY2hlZi1zcmlqaXRoLWdvcGluYXRoYW4tY29hc3RhbC1pbmRpYW4tY3Vpc2luZS0xMjM0ODEyNjQ2L9IBcGh0dHBzOi8vcm9iYnJlcG9ydC5jb20vZm9vZC1kcmluay9kaW5pbmcvY29wcmEtc2YtY2hlZi1zcmlqaXRoLWdvcGluYXRoYW4tY29hc3RhbC1pbmRpYW4tY3Vpc2luZS0xMjM0ODEyNjQ2L2FtcC8?oc=5&hl=en-IN&gl=IN&ceid=IN:en', 'publisher': {'href': 'https://robbreport.com', 'title': 'Robb Report'}}, {'title': 'Govt hikes copra MSP by Rs 250-300 per quintal for 2024 season - Zee Business', 'description': 'Govt hikes copra MSP by Rs 250-300 per quintal for 2024 season  Zee Business', 'published date': 'Wed, 27 Dec 2023 08:00:00 GMT', 'url': 'https://news.google.com/rss/articles/CBMib2h0dHBzOi8vd3d3LnplZWJpei5jb20vZWNvbm9teS1pbmZyYS9uZXdzLWdvdnQtaGlrZXMtY29wcmEtbXNwLWJ5LXJzLTI1MC0zMDAtcGVyLXF1aW50YWwtZm9yLTIwMjQtc2Vhc29uLTI3MDE1NdIBc2h0dHBzOi8vd3d3LnplZWJpei5jb20vZWNvbm9teS1pbmZyYS9uZXdzLWdvdnQtaGlrZXMtY29wcmEtbXNwLWJ5LXJzLTI1MC0zMDAtcGVyLXF1aW50YWwtZm9yLTIwMjQtc2Vhc29uLTI3MDE1NS9hbXA?oc=5&hl=en-IN&gl=IN&ceid=IN:en', 'publisher': {'href': 'https://www.zeebiz.com', 'title': 'Zee Business'}}, {'title': 'Oil mill with 2.3k tons of copra burns all day - manilastandard.net', 'description': 'Oil mill with 2.3k tons of copra burns all day  manilastandard.net', 'published date': 'Tue, 16 Jan 2024 08:00:00 GMT', 'url': 'https://news.google.com/rss/articles/CBMiXGh0dHBzOi8vbWFuaWxhc3RhbmRhcmQubmV0L2xndS8zMTQ0MDc2MDQvb2lsLW1pbGwtd2l0aC0yLTNrLXRvbnMtb2YtY29wcmEtYnVybnMtYWxsLWRheS5odG1s0gEA?oc=5&hl=en-IN&gl=IN&ceid=IN:en', 'publisher': {'href': 'https://manilastandard.net', 'title': 'manilastandard.net'}}, {'title': 'Eye on polls, copra MSP up, Bihar bridge okayed - The New Indian Express', 'description': 'Eye on polls, copra MSP up, Bihar bridge okayed  The New Indian Express', 'published date': 'Thu, 28 Dec 2023 08:00:00 GMT', 'url': 'https://news.google.com/rss/articles/CBMibmh0dHBzOi8vd3d3Lm5ld2luZGlhbmV4cHJlc3MuY29tL25hdGlvbi8yMDIzL0RlYy8yOC9leWUtb24tcG9sbHMtY29wcmEtbXNwLXVwLWJpaGFyLWJyaWRnZS1va2F5ZWQtMjY0NTU3Ny5odG1s0gF4aHR0cHM6Ly93d3cubmV3aW5kaWFuZXhwcmVzcy5jb20vYW1wL3N0b3J5L25hdGlvbi8yMDIzL0RlYy8yOC9leWUtb24tcG9sbHMtY29wcmEtbXNwLXVwLWJpaGFyLWJyaWRnZS1va2F5ZWQtMjY0NTU3Ny5odG1s?oc=5&hl=en-IN&gl=IN&ceid=IN:en', 'publisher': {'href': 'https://www.newindianexpress.com', 'title': 'The New Indian Express'}}, {'title': 'A taste of Malabar in San Francisco -- from betel leaf toast to fish head curry - The New Indian Express', 'description': 'A taste of Malabar in San Francisco -- from betel leaf toast to fish head curry  The New Indian Express', 'published date': 'Sat, 15 Jul 2023 07:00:00 GMT', 'url': 'https://news.google.com/rss/articles/CBMijwFodHRwczovL3d3dy5uZXdpbmRpYW5leHByZXNzLmNvbS93ZWItb25seS8yMDIzL0p1bC8xNS9hLXRhc3RlLW9mLW1hbGFiYXItaW4tc2FuLWZyYW5jaXNjby1mcm9tLWJldGVsLWxlYWYtdG9hc3QtdG8tZmlzaC1oZWFkLWN1cnJ5LTI1OTUxNTkuaHRtbNIBmQFodHRwczovL3d3dy5uZXdpbmRpYW5leHByZXNzLmNvbS9hbXAvc3Rvcnkvd2ViLW9ubHkvMjAyMy9KdWwvMTUvYS10YXN0ZS1vZi1tYWxhYmFyLWluLXNhbi1mcmFuY2lzY28tZnJvbS1iZXRlbC1sZWFmLXRvYXN0LXRvLWZpc2gtaGVhZC1jdXJyeS0yNTk1MTU5Lmh0bWw?oc=5&hl=en-IN&gl=IN&ceid=IN:en', 'publisher': {'href': 'https://www.newindianexpress.com', 'title': 'The New Indian Express'}}, {'title': 'MSP for copra revised again - DTNEXT', 'description': 'MSP for copra revised again  DTNEXT', 'published date': 'Sun, 24 Sep 2023 07:00:00 GMT', 'url': 'https://news.google.com/rss/articles/CBMiR2h0dHBzOi8vd3d3LmR0bmV4dC5pbi9uZXdzL3RhbWlsbmFkdS9tc3AtZm9yLWNvcHJhLXJldmlzZWQtYWdhaW4tNzM4MjA10gFLaHR0cHM6Ly93d3cuZHRuZXh0LmluL2FtcC9uZXdzL3RhbWlsbmFkdS9tc3AtZm9yLWNvcHJhLXJldmlzZWQtYWdhaW4tNzM4MjA1?oc=5&hl=en-IN&gl=IN&ceid=IN:en', 'publisher': {'href': 'https://www.dtnext.in', 'title': 'DTNEXT'}}, {'title': 'Karnataka Government Investigates Copra Farmer Registration Irregularities, Suspends Procurement for a Week - BNN Breaking', 'description': 'Karnataka Government Investigates Copra Farmer Registration Irregularities, Suspends Procurement for a Week  BNN Breaking', 'published date': 'Thu, 15 Feb 2024 04:30:07 GMT', 'url': 'https://news.google.com/rss/articles/CBMiiwFodHRwczovL2JubmJyZWFraW5nLmNvbS9wb2xpdGljcy9rYXJuYXRha2EtZ292ZXJubWVudC1pbnZlc3RpZ2F0ZXMtY29wcmEtZmFybWVyLXJlZ2lzdHJhdGlvbi1pcnJlZ3VsYXJpdGllcy1zdXNwZW5kcy1wcm9jdXJlbWVudC1mb3ItYS13ZWVr0gGLAWh0dHBzOi8vYm5uYnJlYWtpbmcuY29tL3BvbGl0aWNzL2thcm5hdGFrYS1nb3Zlcm5tZW50LWludmVzdGlnYXRlcy1jb3ByYS1mYXJtZXItcmVnaXN0cmF0aW9uLWlycmVndWxhcml0aWVzLXN1c3BlbmRzLXByb2N1cmVtZW50LWZvci1hLXdlZWs?oc=5&hl=en-IN&gl=IN&ceid=IN:en', 'publisher': {'href': 'https://bnnbreaking.com', 'title': 'BNN Breaking'}}, {'title': 'Cabinet approves minimum support price for copra for 2024 season - The Economic Times', 'description': 'Cabinet approves minimum support price for copra for 2024 season  The Economic Times', 'published date': 'Wed, 27 Dec 2023 08:00:00 GMT', 'url': 'https://news.google.com/rss/articles/CBMijwFodHRwczovL20uZWNvbm9taWN0aW1lcy5jb20vbmV3cy9lY29ub215L2FncmljdWx0dXJlL2NhYmluZXQtYXBwcm92ZXMtbWluaW11bS1zdXBwb3J0LXByaWNlLWZvci1jb3ByYS1mb3ItMjAyNC1zZWFzb24vYXJ0aWNsZXNob3cvMTA2MzIzMzM5LmNtc9IBkwFodHRwczovL20uZWNvbm9taWN0aW1lcy5jb20vbmV3cy9lY29ub215L2FncmljdWx0dXJlL2NhYmluZXQtYXBwcm92ZXMtbWluaW11bS1zdXBwb3J0LXByaWNlLWZvci1jb3ByYS1mb3ItMjAyNC1zZWFzb24vYW1wX2FydGljbGVzaG93LzEwNjMyMzMzOS5jbXM?oc=5&hl=en-IN&gl=IN&ceid=IN:en', 'publisher': {'href': 'https://m.economictimes.com', 'title': 'The Economic Times'}}, {'title': 'Govt hikes MSP for milling copra by Rs 300 per quintal for 2024 season - Moneycontrol', 'description': 'Govt hikes MSP for milling copra by Rs 300 per quintal for 2024 season  Moneycontrol', 'published date': 'Wed, 27 Dec 2023 08:00:00 GMT', 'url': 'https://news.google.com/rss/articles/CBMigQFodHRwczovL3d3dy5tb25leWNvbnRyb2wuY29tL25ld3MvZWNvbm9teS9wb2xpY3kvZ292dC1oaWtlcy1tc3AtZm9yLW1pbGxpbmctY29wcmEtYnktcnMtMzAwLXF1aW50YWwtZm9yLTIwMjQtc2Vhc29uLTExOTYyNjgxLmh0bWzSAYUBaHR0cHM6Ly93d3cubW9uZXljb250cm9sLmNvbS9uZXdzL2Vjb25vbXkvcG9saWN5L2dvdnQtaGlrZXMtbXNwLWZvci1taWxsaW5nLWNvcHJhLWJ5LXJzLTMwMC1xdWludGFsLWZvci0yMDI0LXNlYXNvbi0xMTk2MjY4MS5odG1sL2FtcA?oc=5&hl=en-IN&gl=IN&ceid=IN:en', 'publisher': {'href': 'https://www.moneycontrol.com', 'title': 'Moneycontrol'}}, {'title': 'Coconut, copra prices likely to rule stable this season - BusinessLine', 'description': 'Coconut, copra prices likely to rule stable this season  BusinessLine', 'published date': 'Tue, 10 Oct 2023 07:00:00 GMT', 'url': 'https://news.google.com/rss/articles/CBMihQFodHRwczovL3d3dy50aGVoaW5kdWJ1c2luZXNzbGluZS5jb20vZWNvbm9teS9hZ3JpLWJ1c2luZXNzL2NvY29udXQtY29wcmEtcHJpY2VzLWxpa2VseS10by1ydWxlLXN0YWJsZS10aGlzLXNlYXNvbi9hcnRpY2xlNjc0MDM5MjguZWNl0gGKAWh0dHBzOi8vd3d3LnRoZWhpbmR1YnVzaW5lc3NsaW5lLmNvbS9lY29ub215L2FncmktYnVzaW5lc3MvY29jb251dC1jb3ByYS1wcmljZXMtbGlrZWx5LXRvLXJ1bGUtc3RhYmxlLXRoaXMtc2Vhc29uL2FydGljbGU2NzQwMzkyOC5lY2UvYW1wLw?oc=5&hl=en-IN&gl=IN&ceid=IN:en', 'publisher': {'href': 'https://www.thehindubusinessline.com', 'title': 'BusinessLine'}}, {'title': \"Copra procurement in Kerala moves at snail's pace with only three months remaining - Mathrubhumi English\", 'description': \"Copra procurement in Kerala moves at snail's pace with only three months remaining  Mathrubhumi English\", 'published date': 'Thu, 07 Sep 2023 07:00:00 GMT', 'url': 'https://news.google.com/rss/articles/CBMiiAFodHRwczovL2VuZ2xpc2gubWF0aHJ1Ymh1bWkuY29tL25ld3Mva2VyYWxhL2NvcHJhLXByb2N1cmVtZW50LWluLWtlcmFsYS1tb3Zlcy1hdC1zbmFpbC1zLXBhY2Utd2l0aC1vbmx5LXRocmVlLW1vbnRocy1yZW1haW5pbmctMS44ODgzMzQ30gGMAWh0dHBzOi8vZW5nbGlzaC5tYXRocnViaHVtaS5jb20vYW1wL25ld3Mva2VyYWxhL2NvcHJhLXByb2N1cmVtZW50LWluLWtlcmFsYS1tb3Zlcy1hdC1zbmFpbC1zLXBhY2Utd2l0aC1vbmx5LXRocmVlLW1vbnRocy1yZW1haW5pbmctMS44ODgzMzQ3?oc=5&hl=en-IN&gl=IN&ceid=IN:en', 'publisher': {'href': 'https://english.mathrubhumi.com', 'title': 'Mathrubhumi English'}}, {'title': 'Coconut farmers in Tiruppur to take part in indefinite fast at New Delhi for course-correction in copra policy - The Hindu', 'description': 'Coconut farmers in Tiruppur to take part in indefinite fast at New Delhi for course-correction in copra policy  The Hindu', 'published date': 'Mon, 11 Dec 2023 08:00:00 GMT', 'url': 'https://news.google.com/rss/articles/CBMisgFodHRwczovL3d3dy50aGVoaW5kdS5jb20vbmV3cy9jaXRpZXMvQ29pbWJhdG9yZS9jb2NvbnV0LWZhcm1lcnMtaW4tdGlydXBwdXItdG8tdGFrZS1wYXJ0LWluLWluZGVmaW5pdGUtZmFzdC1hdC1uZXctZGVsaGktZm9yLWNvdXJzZS1jb3JyZWN0aW9uLWluLWNvcHJhLXBvbGljeS9hcnRpY2xlNjc2Mjc1NTAuZWNl0gG3AWh0dHBzOi8vd3d3LnRoZWhpbmR1LmNvbS9uZXdzL2NpdGllcy9Db2ltYmF0b3JlL2NvY29udXQtZmFybWVycy1pbi10aXJ1cHB1ci10by10YWtlLXBhcnQtaW4taW5kZWZpbml0ZS1mYXN0LWF0LW5ldy1kZWxoaS1mb3ItY291cnNlLWNvcnJlY3Rpb24taW4tY29wcmEtcG9saWN5L2FydGljbGU2NzYyNzU1MC5lY2UvYW1wLw?oc=5&hl=en-IN&gl=IN&ceid=IN:en', 'publisher': {'href': 'https://www.thehindu.com', 'title': 'The Hindu'}}, {'title': 'Copra, a new Indian restaurant from chef Sri Gopinathan, opens in S.F. - San Francisco Chronicle', 'description': 'Copra, a new Indian restaurant from chef Sri Gopinathan, opens in S.F.  San Francisco Chronicle', 'published date': 'Fri, 17 Feb 2023 08:00:00 GMT', 'url': 'https://news.google.com/rss/articles/CBMiXGh0dHBzOi8vd3d3LnNmY2hyb25pY2xlLmNvbS9mb29kL3Jlc3RhdXJhbnRzL2FydGljbGUvY29wcmEtaW5kaWFuLXNhbi1mcmFuY2lzY28tMTc3ODYxMjIucGhw0gEA?oc=5&hl=en-IN&gl=IN&ceid=IN:en', 'publisher': {'href': 'https://www.sfchronicle.com', 'title': 'San Francisco Chronicle'}}, {'title': 'JD(S) leaders, and workers stage protest in Hassan; demand suitable support price for copra - The Hindu', 'description': 'JD(S) leaders, and workers stage protest in Hassan; demand suitable support price for copra  The Hindu', 'published date': 'Sat, 02 Dec 2023 08:00:00 GMT', 'url': 'https://news.google.com/rss/articles/CBMinAFodHRwczovL3d3dy50aGVoaW5kdS5jb20vbmV3cy9uYXRpb25hbC9rYXJuYXRha2EvamRzLWxlYWRlcnMtYW5kLXdvcmtlcnMtc3RhZ2UtcHJvdGVzdC1pbi1oYXNzYW4tZGVtYW5kLXN1aXRhYmxlLXN1cHBvcnQtcHJpY2UtZm9yLWNvcHJhL2FydGljbGU2NzU5Nzg5NS5lY2XSAaEBaHR0cHM6Ly93d3cudGhlaGluZHUuY29tL25ld3MvbmF0aW9uYWwva2FybmF0YWthL2pkcy1sZWFkZXJzLWFuZC13b3JrZXJzLXN0YWdlLXByb3Rlc3QtaW4taGFzc2FuLWRlbWFuZC1zdWl0YWJsZS1zdXBwb3J0LXByaWNlLWZvci1jb3ByYS9hcnRpY2xlNjc1OTc4OTUuZWNlL2FtcC8?oc=5&hl=en-IN&gl=IN&ceid=IN:en', 'publisher': {'href': 'https://www.thehindu.com', 'title': 'The Hindu'}}, {'title': 'Sen. Cantwell Leads With New Consumer Data Privacy Bill - EFF', 'description': 'Sen. Cantwell Leads With New Consumer Data Privacy Bill  EFF', 'published date': 'Tue, 03 Dec 2019 08:00:00 GMT', 'url': 'https://news.google.com/rss/articles/CBMiV2h0dHBzOi8vd3d3LmVmZi5vcmcvZGVlcGxpbmtzLzIwMTkvMTIvc2VuLWNhbnR3ZWxsLWxlYWRzLW5ldy1jb25zdW1lci1kYXRhLXByaXZhY3ktYmlsbNIBAA?oc=5&hl=en-IN&gl=IN&ceid=IN:en', 'publisher': {'href': 'https://www.eff.org', 'title': 'EFF'}}, {'title': 'Copra, a Southern Indian Food Destination From a Michelin-Star Chef, About to Make Its Debut on Lower Fillmore - SFist', 'description': 'Copra, a Southern Indian Food Destination From a Michelin-Star Chef, About to Make Its Debut on Lower Fillmore  SFist', 'published date': 'Mon, 13 Feb 2023 08:00:00 GMT', 'url': 'https://news.google.com/rss/articles/CBMiigFodHRwczovL3NmaXN0LmNvbS8yMDIzLzAyLzEzL2NvcHJhLWEtc291dGhlcm4taW5kaWFuLWZvb2QtZGVzdGluYXRpb24tZnJvbS1hLW1pY2hlbGluLXN0YXItY2hlZi1hYm91dC10by1tYWtlLWl0cy1kZWJ1dC1vbi1sb3dlci1maWxsbW9yZS_SAQA?oc=5&hl=en-IN&gl=IN&ceid=IN:en', 'publisher': {'href': 'https://sfist.com', 'title': 'SFist'}}, {'title': 'Rs 250-300 per quintal: Union Cabinet hikes MSP for copra - Mathrubhumi English', 'description': 'Rs 250-300 per quintal: Union Cabinet hikes MSP for copra  Mathrubhumi English', 'published date': 'Wed, 27 Dec 2023 08:00:00 GMT', 'url': 'https://news.google.com/rss/articles/CBMid2h0dHBzOi8vZW5nbGlzaC5tYXRocnViaHVtaS5jb20vZmVhdHVyZXMvYWdyaWN1bHR1cmUvcnMtMjUwLTMwMC1wZXItcXVpbnRhbC11bmlvbi1jYWJpbmV0LWhpa2VzLW1zcC1mb3ItY29wcmEtMS45MTg4Nzk00gF7aHR0cHM6Ly9lbmdsaXNoLm1hdGhydWJodW1pLmNvbS9hbXAvZmVhdHVyZXMvYWdyaWN1bHR1cmUvcnMtMjUwLTMwMC1wZXItcXVpbnRhbC11bmlvbi1jYWJpbmV0LWhpa2VzLW1zcC1mb3ItY29wcmEtMS45MTg4Nzk0?oc=5&hl=en-IN&gl=IN&ceid=IN:en', 'publisher': {'href': 'https://english.mathrubhumi.com', 'title': 'Mathrubhumi English'}}, {'title': 'Copra in Photos – Robb Report - Robb Report', 'description': 'Copra in Photos – Robb Report  Robb Report', 'published date': 'Wed, 01 Mar 2023 08:00:00 GMT', 'url': 'https://news.google.com/rss/articles/CBMiTGh0dHBzOi8vcm9iYnJlcG9ydC5jb20vZm9vZC1kcmluay9kaW5pbmcvZ2FsbGVyeS9jb3ByYS1pbi1waG90b3MtMTIzNDgxMjkxNC_SAQA?oc=5&hl=en-IN&gl=IN&ceid=IN:en', 'publisher': {'href': 'https://robbreport.com', 'title': 'Robb Report'}}, {'title': 'Coconut farmers make a case for replacing palm oil with coconut oil for supply through PDS outlets - The Hindu', 'description': 'Coconut farmers make a case for replacing palm oil with coconut oil for supply through PDS outlets  The Hindu', 'published date': 'Tue, 31 Oct 2023 07:00:00 GMT', 'url': 'https://news.google.com/rss/articles/CBMipgFodHRwczovL3d3dy50aGVoaW5kdS5jb20vbmV3cy9jaXRpZXMvQ29pbWJhdG9yZS9jb2NvbnV0LWZhcm1lcnMtbWFrZS1hLWNhc2UtZm9yLXJlcGxhY2luZy1wYWxtLW9pbC13aXRoLWNvY29udXQtb2lsLWZvci1zdXBwbHktdGhyb3VnaC1wZHMtb3V0bGV0cy9hcnRpY2xlNjc0ODEzOTQuZWNl0gGrAWh0dHBzOi8vd3d3LnRoZWhpbmR1LmNvbS9uZXdzL2NpdGllcy9Db2ltYmF0b3JlL2NvY29udXQtZmFybWVycy1tYWtlLWEtY2FzZS1mb3ItcmVwbGFjaW5nLXBhbG0tb2lsLXdpdGgtY29jb251dC1vaWwtZm9yLXN1cHBseS10aHJvdWdoLXBkcy1vdXRsZXRzL2FydGljbGU2NzQ4MTM5NC5lY2UvYW1wLw?oc=5&hl=en-IN&gl=IN&ceid=IN:en', 'publisher': {'href': 'https://www.thehindu.com', 'title': 'The Hindu'}}, {'title': 'Centre raises minimum support price for copra - ThePrint', 'description': 'Centre raises minimum support price for copra  ThePrint', 'published date': 'Wed, 27 Dec 2023 08:00:00 GMT', 'url': 'https://news.google.com/rss/articles/CBMiUmh0dHBzOi8vdGhlcHJpbnQuaW4vZWNvbm9teS9jZW50cmUtcmFpc2VzLW1pbmltdW0tc3VwcG9ydC1wcmljZS1mb3ItY29wcmEvMTkwMjEwNy_SAVZodHRwczovL3RoZXByaW50LmluL2Vjb25vbXkvY2VudHJlLXJhaXNlcy1taW5pbXVtLXN1cHBvcnQtcHJpY2UtZm9yLWNvcHJhLzE5MDIxMDcvP2FtcA?oc=5&hl=en-IN&gl=IN&ceid=IN:en', 'publisher': {'href': 'https://theprint.in', 'title': 'ThePrint'}}, {'title': 'Coconut farmers plan hunger strike seeking Rs 170 per kg of copra - DTNEXT', 'description': 'Coconut farmers plan hunger strike seeking Rs 170 per kg of copra  DTNEXT', 'published date': 'Tue, 05 Dec 2023 08:00:00 GMT', 'url': 'https://news.google.com/rss/articles/CBMibWh0dHBzOi8vd3d3LmR0bmV4dC5pbi9uZXdzL3RhbWlsbmFkdS9jb2NvbnV0LWZhcm1lcnMtcGxhbi1odW5nZXItc3RyaWtlLXNlZWtpbmctcnMtMTcwLXBlci1rZy1vZi1jb3ByYS03NTI1NzLSAXFodHRwczovL3d3dy5kdG5leHQuaW4vYW1wL25ld3MvdGFtaWxuYWR1L2NvY29udXQtZmFybWVycy1wbGFuLWh1bmdlci1zdHJpa2Utc2Vla2luZy1ycy0xNzAtcGVyLWtnLW9mLWNvcHJhLTc1MjU3Mg?oc=5&hl=en-IN&gl=IN&ceid=IN:en', 'publisher': {'href': 'https://www.dtnext.in', 'title': 'DTNEXT'}}, {'title': 'Tamil Nadu BJP Asks DMK To Fulfill Poll Promise To Procure Copra As CM Stalin Writes To PM Modi Asking Him To Increase Purchase In The State - Swarajya', 'description': 'Tamil Nadu BJP Asks DMK To Fulfill Poll Promise To Procure Copra As CM Stalin Writes To PM Modi Asking Him To Increase Purchase In The State  Swarajya', 'published date': 'Mon, 10 Jul 2023 07:00:00 GMT', 'url': 'https://news.google.com/rss/articles/CBMirQFodHRwczovL3N3YXJhanlhbWFnLmNvbS9uZXdzLWJyaWVmL3RhbWlsLW5hZHUtYmpwLWFza3MtZG1rLXRvLWZ1bGZpbGwtcG9sbC1wcm9taXNlLXRvLXByb2N1cmUtY29wcmEtYXMtY20tc3RhbGluLXdyaXRlcy10by1jZW50cmUtYXNraW5nLWl0LXRvLWluY3JlYXNlLXB1cmNoYXNlLWluLXRoZS1zdGF0ZdIBtwFodHRwczovL3N3YXJhanlhbWFnLmNvbS9hbXAvc3RvcnkvbmV3cy1icmllZi90YW1pbC1uYWR1LWJqcC1hc2tzLWRtay10by1mdWxmaWxsLXBvbGwtcHJvbWlzZS10by1wcm9jdXJlLWNvcHJhLWFzLWNtLXN0YWxpbi13cml0ZXMtdG8tY2VudHJlLWFza2luZy1pdC10by1pbmNyZWFzZS1wdXJjaGFzZS1pbi10aGUtc3RhdGU?oc=5&hl=en-IN&gl=IN&ceid=IN:en', 'publisher': {'href': 'https://swarajyamag.com', 'title': 'Swarajya'}}, {'title': \"Ball copra prices plummet, Kerala awaits Centre's nod for MSP-based procurement - Mathrubhumi English\", 'description': \"Ball copra prices plummet, Kerala awaits Centre's nod for MSP-based procurement  Mathrubhumi English\", 'published date': 'Wed, 12 Jul 2023 07:00:00 GMT', 'url': 'https://news.google.com/rss/articles/CBMibGh0dHBzOi8vZW5nbGlzaC5tYXRocnViaHVtaS5jb20vbmV3cy9rZXJhbGEva2VyYWxhLWF3YWl0cy1ub2QtZm9yLW1zcC1wcm9jdXJlbWVudC1vZi1jb3ByYS12YXJpZXR5LTEuODcyMzk2MtIBcGh0dHBzOi8vZW5nbGlzaC5tYXRocnViaHVtaS5jb20vYW1wL25ld3Mva2VyYWxhL2tlcmFsYS1hd2FpdHMtbm9kLWZvci1tc3AtcHJvY3VyZW1lbnQtb2YtY29wcmEtdmFyaWV0eS0xLjg3MjM5NjI?oc=5&hl=en-IN&gl=IN&ceid=IN:en', 'publisher': {'href': 'https://english.mathrubhumi.com', 'title': 'Mathrubhumi English'}}, {'title': 'National Round Table on coconut sector blames “flawed” trade policies for present crisis - The Hindu', 'description': 'National Round Table on coconut sector blames “flawed” trade policies for present crisis  The Hindu', 'published date': 'Sun, 05 Nov 2023 07:00:00 GMT', 'url': 'https://news.google.com/rss/articles/CBMimwFodHRwczovL3d3dy50aGVoaW5kdS5jb20vbmV3cy9uYXRpb25hbC9rYXJuYXRha2EvbmF0aW9uYWwtcm91bmQtdGFibGUtb24tY29jb251dC1zZWN0b3ItYmxhbWVzLWZsYXdlZC10cmFkZS1wb2xpY2llcy1mb3ItcHJlc2VudC1jcmlzaXMvYXJ0aWNsZTY3NTAxODI0LmVjZdIBoAFodHRwczovL3d3dy50aGVoaW5kdS5jb20vbmV3cy9uYXRpb25hbC9rYXJuYXRha2EvbmF0aW9uYWwtcm91bmQtdGFibGUtb24tY29jb251dC1zZWN0b3ItYmxhbWVzLWZsYXdlZC10cmFkZS1wb2xpY2llcy1mb3ItcHJlc2VudC1jcmlzaXMvYXJ0aWNsZTY3NTAxODI0LmVjZS9hbXAv?oc=5&hl=en-IN&gl=IN&ceid=IN:en', 'publisher': {'href': 'https://www.thehindu.com', 'title': 'The Hindu'}}, {'title': 'Copra procurement date extended till November 26 in Madurai - The New Indian Express', 'description': 'Copra procurement date extended till November 26 in Madurai  The New Indian Express', 'published date': 'Thu, 12 Oct 2023 07:00:00 GMT', 'url': 'https://news.google.com/rss/articles/CBMihwFodHRwczovL3d3dy5uZXdpbmRpYW5leHByZXNzLmNvbS9zdGF0ZXMvdGFtaWwtbmFkdS8yMDIzL29jdC8xMi9jb3ByYS1wcm9jdXJlbWVudC1kYXRlLWV4dGVuZGVkLXRpbGwtbm92ZW1iZXItMjYtaW4tbWFkdXJhaS0yNjIyOTk5Lmh0bWzSAZEBaHR0cHM6Ly93d3cubmV3aW5kaWFuZXhwcmVzcy5jb20vYW1wL3N0b3J5L3N0YXRlcy90YW1pbC1uYWR1LzIwMjMvT2N0LzEyL2NvcHJhLXByb2N1cmVtZW50LWRhdGUtZXh0ZW5kZWQtdGlsbC1ub3ZlbWJlci0yNi1pbi1tYWR1cmFpLTI2MjI5OTkuaHRtbA?oc=5&hl=en-IN&gl=IN&ceid=IN:en', 'publisher': {'href': 'https://www.newindianexpress.com', 'title': 'The New Indian Express'}}, {'title': 'Cabinet approves ₹250-300 per quintal hike in copra MSP for 2024 season - BusinessLine', 'description': 'Cabinet approves ₹250-300 per quintal hike in copra MSP for 2024 season  BusinessLine', 'published date': 'Wed, 27 Dec 2023 08:00:00 GMT', 'url': 'https://news.google.com/rss/articles/CBMilQFodHRwczovL3d3dy50aGVoaW5kdWJ1c2luZXNzbGluZS5jb20vZWNvbm9teS9hZ3JpLWJ1c2luZXNzL2NhYmluZXQtYXBwcm92ZXMtMjUwLTMwMC1wZXItcXVpbnRhbC1oaWtlLWluLWNvcHJhLW1zcC1mb3ItMjAyNC1zZWFzb24vYXJ0aWNsZTY3Njc5OTg0LmVjZdIBmgFodHRwczovL3d3dy50aGVoaW5kdWJ1c2luZXNzbGluZS5jb20vZWNvbm9teS9hZ3JpLWJ1c2luZXNzL2NhYmluZXQtYXBwcm92ZXMtMjUwLTMwMC1wZXItcXVpbnRhbC1oaWtlLWluLWNvcHJhLW1zcC1mb3ItMjAyNC1zZWFzb24vYXJ0aWNsZTY3Njc5OTg0LmVjZS9hbXAv?oc=5&hl=en-IN&gl=IN&ceid=IN:en', 'publisher': {'href': 'https://www.thehindubusinessline.com', 'title': 'BusinessLine'}}, {'title': 'PCA confirms copra price slump; 500,000 farmers affected - Philstar.com', 'description': 'PCA confirms copra price slump; 500,000 farmers affected  Philstar.com', 'published date': 'Tue, 27 Jun 2023 07:00:00 GMT', 'url': 'https://news.google.com/rss/articles/CBMibGh0dHBzOi8vd3d3LnBoaWxzdGFyLmNvbS9oZWFkbGluZXMvMjAyMy8wNi8yNy8yMjc2ODA5L3BjYS1jb25maXJtcy1jb3ByYS1wcmljZS1zbHVtcC01MDAwMDAtZmFybWVycy1hZmZlY3RlZNIBcWh0dHBzOi8vd3d3LnBoaWxzdGFyLmNvbS9oZWFkbGluZXMvMjAyMy8wNi8yNy8yMjc2ODA5L3BjYS1jb25maXJtcy1jb3ByYS1wcmljZS1zbHVtcC01MDAwMDAtZmFybWVycy1hZmZlY3RlZC9hbXAv?oc=5&hl=en-IN&gl=IN&ceid=IN:en', 'publisher': {'href': 'https://www.philstar.com', 'title': 'Philstar.com'}}, {'title': 'House probe urged on persistent low copra prices - Philstar.com', 'description': 'House probe urged on persistent low copra prices  Philstar.com', 'published date': 'Tue, 13 Jun 2023 07:00:00 GMT', 'url': 'https://news.google.com/rss/articles/CBMiY2h0dHBzOi8vd3d3LnBoaWxzdGFyLmNvbS9oZWFkbGluZXMvMjAyMy8wNi8xMy8yMjczNDY4L2hvdXNlLXByb2JlLXVyZ2VkLXBlcnNpc3RlbnQtbG93LWNvcHJhLXByaWNlc9IBaGh0dHBzOi8vd3d3LnBoaWxzdGFyLmNvbS9oZWFkbGluZXMvMjAyMy8wNi8xMy8yMjczNDY4L2hvdXNlLXByb2JlLXVyZ2VkLXBlcnNpc3RlbnQtbG93LWNvcHJhLXByaWNlcy9hbXAv?oc=5&hl=en-IN&gl=IN&ceid=IN:en', 'publisher': {'href': 'https://www.philstar.com', 'title': 'Philstar.com'}}, {'title': 'CM writes to PM to procure more copra from TN - The Times of India', 'description': 'CM writes to PM to procure more copra from TN  The Times of India', 'published date': 'Tue, 11 Jul 2023 07:00:00 GMT', 'url': 'https://news.google.com/rss/articles/CBMieGh0dHBzOi8vdGltZXNvZmluZGlhLmluZGlhdGltZXMuY29tL2NpdHkvY2hlbm5haS9jbS13cml0ZXMtdG8tcG0tdG8tcHJvY3VyZS1tb3JlLWNvcHJhLWZyb20tdG4vYXJ0aWNsZXNob3cvMTAxNjUyNDY0LmNtc9IBfGh0dHBzOi8vdGltZXNvZmluZGlhLmluZGlhdGltZXMuY29tL2NpdHkvY2hlbm5haS9jbS13cml0ZXMtdG8tcG0tdG8tcHJvY3VyZS1tb3JlLWNvcHJhLWZyb20tdG4vYW1wX2FydGljbGVzaG93LzEwMTY1MjQ2NC5jbXM?oc=5&hl=en-IN&gl=IN&ceid=IN:en', 'publisher': {'href': 'https://timesofindia.indiatimes.com', 'title': 'The Times of India'}}, {'title': 'Coconut farmers plan Raj Bhavan Chalo agitation tomorrow - The Hindu', 'description': 'Coconut farmers plan Raj Bhavan Chalo agitation tomorrow  The Hindu', 'published date': 'Sun, 01 Oct 2023 07:00:00 GMT', 'url': 'https://news.google.com/rss/articles/CBMifWh0dHBzOi8vd3d3LnRoZWhpbmR1LmNvbS9uZXdzL25hdGlvbmFsL2thcm5hdGFrYS9jb2NvbnV0LWZhcm1lcnMtcGxhbi1yYWotYmhhdmFuLWNoYWxvLWFnaXRhdGlvbi10b21vcnJvdy9hcnRpY2xlNjczNjk1NjAuZWNl0gGCAWh0dHBzOi8vd3d3LnRoZWhpbmR1LmNvbS9uZXdzL25hdGlvbmFsL2thcm5hdGFrYS9jb2NvbnV0LWZhcm1lcnMtcGxhbi1yYWotYmhhdmFuLWNoYWxvLWFnaXRhdGlvbi10b21vcnJvdy9hcnRpY2xlNjczNjk1NjAuZWNlL2FtcC8?oc=5&hl=en-IN&gl=IN&ceid=IN:en', 'publisher': {'href': 'https://www.thehindu.com', 'title': 'The Hindu'}}, {'title': \"How Kerala revived its lost copra & coconut oil market, disrupted Tamil Nadu's Kangayam - Onmanorama\", 'description': \"How Kerala revived its lost copra & coconut oil market, disrupted Tamil Nadu's Kangayam  Onmanorama\", 'published date': 'Thu, 08 Jun 2023 07:00:00 GMT', 'url': 'https://news.google.com/rss/articles/CBMiZmh0dHBzOi8vd3d3Lm9ubWFub3JhbWEuY29tL25ld3Mva2VyYWxhLzIwMjMvMDYvMDgvY29jb251dC1jb3ByYS1tYXJrZXQta2VyYWxhLWthbmdheWFtLXRhbWlsLW5hZHUuaHRtbNIBZmh0dHBzOi8vd3d3Lm9ubWFub3JhbWEuY29tL25ld3Mva2VyYWxhLzIwMjMvMDYvMDgvY29jb251dC1jb3ByYS1tYXJrZXQta2VyYWxhLWthbmdheWFtLXRhbWlsLW5hZHUuaHRtbA?oc=5&hl=en-IN&gl=IN&ceid=IN:en', 'publisher': {'href': 'https://www.onmanorama.com', 'title': 'Onmanorama'}}, {'title': 'Govt hikes MSP for copra - SME Times', 'description': 'Govt hikes MSP for copra  SME Times', 'published date': 'Thu, 28 Dec 2023 08:00:00 GMT', 'url': 'https://news.google.com/rss/articles/CBMiW2h0dHA6Ly93d3cuc21ldGltZXMuaW4vc21ldGltZXMvbmV3cy9pbmRpYW4tZWNvbm9teS1uZXdzLzIwMjMvRGVjLzI4L2NvcHJhLW1zcDA0MDAzOTQ5Lmh0bWzSAQA?oc=5&hl=en-IN&gl=IN&ceid=IN:en', 'publisher': {'href': 'http://www.smetimes.in', 'title': 'SME Times'}}, {'title': 'TN: Coconut Farmers Demand Increased Support Price for Copra, Direct Procurement - NewsClick', 'description': 'TN: Coconut Farmers Demand Increased Support Price for Copra, Direct Procurement  NewsClick', 'published date': 'Tue, 30 May 2023 07:00:00 GMT', 'url': 'https://news.google.com/rss/articles/CBMiY2h0dHBzOi8vd3d3Lm5ld3NjbGljay5pbi90bi1jb2NvbnV0LWZhcm1lcnMtZGVtYW5kLWluY3JlYXNlZC1zdXBwb3J0LXByaWNlLWNvcHJhLWRpcmVjdC1wcm9jdXJlbWVudNIBZ2h0dHBzOi8vd3d3Lm5ld3NjbGljay5pbi90bi1jb2NvbnV0LWZhcm1lcnMtZGVtYW5kLWluY3JlYXNlZC1zdXBwb3J0LXByaWNlLWNvcHJhLWRpcmVjdC1wcm9jdXJlbWVudD9hbXA?oc=5&hl=en-IN&gl=IN&ceid=IN:en', 'publisher': {'href': 'https://www.newsclick.in', 'title': 'NewsClick'}}, {'title': 'Cabinet clears ₹5,000-crore infra projects; approves higher minimum price for dried coconut | Mint - Mint', 'description': 'Cabinet clears ₹5,000-crore infra projects; approves higher minimum price for dried coconut | Mint  Mint', 'published date': 'Wed, 27 Dec 2023 08:00:00 GMT', 'url': 'https://news.google.com/rss/articles/CBMilAFodHRwczovL3d3dy5saXZlbWludC5jb20vbmV3cy9pbmRpYS9jYWJpbmV0LWNsZWFycy1ycy01LTAwMC1jcm9yZS1pbmZyYS1wcm9qZWN0cy1hcHByb3Zlcy1oaWdoZXItbWluaW11bS1wcmljZS1mb3ItZHJpZWQtY29jb251dC0xMTcwMzY3ODcwMzM5OC5odG1s0gGYAWh0dHBzOi8vd3d3LmxpdmVtaW50LmNvbS9uZXdzL2luZGlhL2NhYmluZXQtY2xlYXJzLXJzLTUtMDAwLWNyb3JlLWluZnJhLXByb2plY3RzLWFwcHJvdmVzLWhpZ2hlci1taW5pbXVtLXByaWNlLWZvci1kcmllZC1jb2NvbnV0L2FtcC0xMTcwMzY3ODcwMzM5OC5odG1s?oc=5&hl=en-IN&gl=IN&ceid=IN:en', 'publisher': {'href': 'https://www.livemint.com', 'title': 'Mint'}}, {'title': 'Modi Cabinet hikes MSP for copra, announces new road projects in Bihar, Tripura in CCEA meet - India TV News', 'description': 'Modi Cabinet hikes MSP for copra, announces new road projects in Bihar, Tripura in CCEA meet  India TV News', 'published date': 'Wed, 27 Dec 2023 08:00:00 GMT', 'url': 'https://news.google.com/rss/articles/CBMisAFodHRwczovL3d3dy5pbmRpYXR2bmV3cy5jb20vYnVzaW5lc3MvbmV3cy9tb2RpLWNhYmluZXQtaGlrZXMtbXNwLWZvci1jb3ByYS1hbm5vdW5jZXMtbmV3LXJvYWQtZmx5b3Zlci1wcm9qZWN0cy1pbi1iaWhhci10cmlwdXJhLWNjZWEtbWVldC1vdXRjb21lcy1sYXRlc3QtbmV3cy0yMDIzLTEyLTI3LTkwOTE3MNIBtAFodHRwczovL3d3dy5pbmRpYXR2bmV3cy5jb20vYW1wL2J1c2luZXNzL25ld3MvbW9kaS1jYWJpbmV0LWhpa2VzLW1zcC1mb3ItY29wcmEtYW5ub3VuY2VzLW5ldy1yb2FkLWZseW92ZXItcHJvamVjdHMtaW4tYmloYXItdHJpcHVyYS1jY2VhLW1lZXQtb3V0Y29tZXMtbGF0ZXN0LW5ld3MtMjAyMy0xMi0yNy05MDkxNzA?oc=5&hl=en-IN&gl=IN&ceid=IN:en', 'publisher': {'href': 'https://www.indiatvnews.com', 'title': 'India TV News'}}, {'title': 'Copra industry is suffering: Rayalu – FBC News - FBC News', 'description': 'Copra industry is suffering: Rayalu – FBC News  FBC News', 'published date': 'Tue, 29 Aug 2023 07:00:00 GMT', 'url': 'https://news.google.com/rss/articles/CBMiQ2h0dHBzOi8vd3d3LmZiY25ld3MuY29tLmZqL25ld3MvY29wcmEtaW5kdXN0cnktaXMtc3VmZmVyaW5nLXJheWFsdS_SAQA?oc=5&hl=en-IN&gl=IN&ceid=IN:en', 'publisher': {'href': 'https://www.fbcnews.com.fj', 'title': 'FBC News'}}, {'title': 'Cabinet approves increase in Copra MSP for 2024 - The Asian Age', 'description': 'Cabinet approves increase in Copra MSP for 2024  The Asian Age', 'published date': 'Thu, 28 Dec 2023 08:00:00 GMT', 'url': 'https://news.google.com/rss/articles/CBMia2h0dHBzOi8vd3d3LmFzaWFuYWdlLmNvbS9idXNpbmVzcy9pbi1vdGhlci1uZXdzLzI4MTIyMy9jYWJpbmV0LWFwcHJvdmVzLWluY3JlYXNlLWluLWNvcHJhLW1zcC1mb3ItMjAyNC5odG1s0gFvaHR0cHM6Ly93d3cuYXNpYW5hZ2UuY29tL2FtcC9idXNpbmVzcy9pbi1vdGhlci1uZXdzLzI4MTIyMy9jYWJpbmV0LWFwcHJvdmVzLWluY3JlYXNlLWluLWNvcHJhLW1zcC1mb3ItMjAyNC5odG1s?oc=5&hl=en-IN&gl=IN&ceid=IN:en', 'publisher': {'href': 'https://www.asianage.com', 'title': 'The Asian Age'}}, {'title': 'Hike ceiling for copra procurement, Tamil Nadu CM Stalin tells PM - The New Indian Express', 'description': 'Hike ceiling for copra procurement, Tamil Nadu CM Stalin tells PM  The New Indian Express', 'published date': 'Tue, 11 Jul 2023 07:00:00 GMT', 'url': 'https://news.google.com/rss/articles/CBMijAFodHRwczovL3d3dy5uZXdpbmRpYW5leHByZXNzLmNvbS9zdGF0ZXMvdGFtaWwtbmFkdS8yMDIzL0p1bC8xMS9oaWtlLWNlaWxpbmctZm9yLWNvcHJhLXByb2N1cmVtZW50LXRhbWlsLW5hZHUtY20tc3RhbGluLXRlbGxzLXBtLTI1OTM1ODUuaHRtbNIBlgFodHRwczovL3d3dy5uZXdpbmRpYW5leHByZXNzLmNvbS9hbXAvc3Rvcnkvc3RhdGVzL3RhbWlsLW5hZHUvMjAyMy9KdWwvMTEvaGlrZS1jZWlsaW5nLWZvci1jb3ByYS1wcm9jdXJlbWVudC10YW1pbC1uYWR1LWNtLXN0YWxpbi10ZWxscy1wbS0yNTkzNTg1Lmh0bWw?oc=5&hl=en-IN&gl=IN&ceid=IN:en', 'publisher': {'href': 'https://www.newindianexpress.com', 'title': 'The New Indian Express'}}, {'title': 'Cabinet Approves Minimum Support Price For Copra For 2024 Season - Zee News', 'description': 'Cabinet Approves Minimum Support Price For Copra For 2024 Season  Zee News', 'published date': 'Wed, 27 Dec 2023 08:00:00 GMT', 'url': 'https://news.google.com/rss/articles/CBMib2h0dHBzOi8vemVlbmV3cy5pbmRpYS5jb20vZWNvbm9teS9jYWJpbmV0LWFwcHJvdmVzLW1pbmltdW0tc3VwcG9ydC1wcmljZS1mb3ItY29wcmEtZm9yLTIwMjQtc2Vhc29uLTI3MDMzMzUuaHRtbNIBc2h0dHBzOi8vemVlbmV3cy5pbmRpYS5jb20vZWNvbm9teS9jYWJpbmV0LWFwcHJvdmVzLW1pbmltdW0tc3VwcG9ydC1wcmljZS1mb3ItY29wcmEtZm9yLTIwMjQtc2Vhc29uLTI3MDMzMzUuaHRtbC9hbXA?oc=5&hl=en-IN&gl=IN&ceid=IN:en', 'publisher': {'href': 'https://zeenews.india.com', 'title': 'Zee News'}}, {'title': 'Integrated white copra and coconut oil processing facility breaks ground - NewsLine Philippines', 'description': 'Integrated white copra and coconut oil processing facility breaks ground  NewsLine Philippines', 'published date': 'Sat, 26 Aug 2023 07:00:00 GMT', 'url': 'https://news.google.com/rss/articles/CBMidGh0dHBzOi8vbmV3c2xpbmUucGgvdG9wLXN0b3JpZXMvMjAyMy8wOC8yNi9pbnRlZ3JhdGVkLXdoaXRlLWNvcHJhLWFuZC1jb2NvbnV0LW9pbC1wcm9jZXNzaW5nLWZhY2lsaXR5LWJyZWFrcy1ncm91bmQv0gEA?oc=5&hl=en-IN&gl=IN&ceid=IN:en', 'publisher': {'href': 'https://newsline.ph', 'title': 'NewsLine Philippines'}}, {'title': 'Come up with new coconut oil brand: Vaiko - The Times of India', 'description': 'Come up with new coconut oil brand: Vaiko  The Times of India', 'published date': 'Wed, 13 Dec 2023 08:00:00 GMT', 'url': 'https://news.google.com/rss/articles/CBMinwFodHRwczovL3RpbWVzb2ZpbmRpYS5pbmRpYXRpbWVzLmNvbS9jaXR5L2NoZW5uYWkvdmFpa28tZGVtYW5kcy1uYWZlZC10by1pbnRyb2R1Y2UtYmhhcmF0LWNvY29udXQtb2lsLWJyYW5kLXRvLXN1cHBvcnQtY29jb251dC1mYXJtZXJzL2FydGljbGVzaG93LzEwNTk0NzEwNi5jbXPSAaMBaHR0cHM6Ly90aW1lc29maW5kaWEuaW5kaWF0aW1lcy5jb20vY2l0eS9jaGVubmFpL3ZhaWtvLWRlbWFuZHMtbmFmZWQtdG8taW50cm9kdWNlLWJoYXJhdC1jb2NvbnV0LW9pbC1icmFuZC10by1zdXBwb3J0LWNvY29udXQtZmFybWVycy9hbXBfYXJ0aWNsZXNob3cvMTA1OTQ3MTA2LmNtcw?oc=5&hl=en-IN&gl=IN&ceid=IN:en', 'publisher': {'href': 'https://timesofindia.indiatimes.com', 'title': 'The Times of India'}}, {'title': \"Consumer group backs House probe into 'persistent' low prices of copra | Raadee S. Sausa - BusinessMirror\", 'description': \"Consumer group backs House probe into 'persistent' low prices of copra | Raadee S. Sausa  BusinessMirror\", 'published date': 'Mon, 19 Jun 2023 07:00:00 GMT', 'url': 'https://news.google.com/rss/articles/CBMibmh0dHBzOi8vYnVzaW5lc3NtaXJyb3IuY29tLnBoLzIwMjMvMDYvMTkvY29uc3VtZXItZ3JvdXAtYmFja3MtaG91c2UtcHJvYmUtaW50by1wZXJzaXN0ZW50LWxvdy1wcmljZXMtb2YtY29wcmEv0gEA?oc=5&hl=en-IN&gl=IN&ceid=IN:en', 'publisher': {'href': 'https://businessmirror.com.ph', 'title': 'BusinessMirror'}}, {'title': 'Cabinet approves Minimum Support Price for Copra for 2024 season - Narendra Modi', 'description': 'Cabinet approves Minimum Support Price for Copra for 2024 season  Narendra Modi', 'published date': 'Wed, 27 Dec 2023 08:00:00 GMT', 'url': 'https://news.google.com/rss/articles/CBMiY2h0dHBzOi8vd3d3Lm5hcmVuZHJhbW9kaS5pbi9jYWJpbmV0LWFwcHJvdmVzLW1pbmltdW0tc3VwcG9ydC1wcmljZS1mb3ItY29wcmEtZm9yLTIwMjQtc2Vhc29uLTU3NzQ5M9IBZ2h0dHBzOi8vd3d3Lm5hcmVuZHJhbW9kaS5pbi9hbXAvY2FiaW5ldC1hcHByb3Zlcy1taW5pbXVtLXN1cHBvcnQtcHJpY2UtZm9yLWNvcHJhLWZvci0yMDI0LXNlYXNvbi01Nzc0OTM?oc=5&hl=en-IN&gl=IN&ceid=IN:en', 'publisher': {'href': 'https://www.narendramodi.in', 'title': 'Narendra Modi'}}, {'title': 'Govt hikes MSP for copra - DTNEXT', 'description': 'Govt hikes MSP for copra  DTNEXT', 'published date': 'Wed, 27 Dec 2023 08:00:00 GMT', 'url': 'https://news.google.com/rss/articles/CBMiQ2h0dHBzOi8vd3d3LmR0bmV4dC5pbi9uZXdzL2J1c2luZXNzL2dvdnQtaGlrZXMtbXNwLWZvci1jb3ByYS03NTcxMjPSAUdodHRwczovL3d3dy5kdG5leHQuaW4vYW1wL25ld3MvYnVzaW5lc3MvZ292dC1oaWtlcy1tc3AtZm9yLWNvcHJhLTc1NzEyMw?oc=5&hl=en-IN&gl=IN&ceid=IN:en', 'publisher': {'href': 'https://www.dtnext.in', 'title': 'DTNEXT'}}, {'title': \"Major boost for coconut farmers: Union Cabinet raises MSP for ‘Milling Copra' and 'Ball Copra' - Republic World\", 'description': \"Major boost for coconut farmers: Union Cabinet raises MSP for ‘Milling Copra' and 'Ball Copra'  Republic World\", 'published date': 'Wed, 27 Dec 2023 08:00:00 GMT', 'url': 'https://news.google.com/rss/articles/CBMifmh0dHBzOi8vd3d3LnJlcHVibGljd29ybGQuY29tL2luZGlhL21ham9yLWJvb3N0LWZvci1jb2NvbnV0LWZhcm1lcnMtdW5pb24tY2FiaW5ldC1yYWlzZXMtbXNwLWZvci1taWxsaW5nLWNvcHJhLWFuZC1iYWxsLWNvcHJhL9IBhAFodHRwczovL3d3dy5yZXB1YmxpY3dvcmxkLmNvbS9pbmRpYS9tYWpvci1ib29zdC1mb3ItY29jb251dC1mYXJtZXJzLXVuaW9uLWNhYmluZXQtcmFpc2VzLW1zcC1mb3ItbWlsbGluZy1jb3ByYS1hbmQtYmFsbC1jb3ByYS8_YW1wPTE?oc=5&hl=en-IN&gl=IN&ceid=IN:en', 'publisher': {'href': 'https://www.republicworld.com', 'title': 'Republic World'}}, {'title': 'Govt Hikes Copra MSP by Rs 250-300 Per Quintal for 2024 Season - News18', 'description': 'Govt Hikes Copra MSP by Rs 250-300 Per Quintal for 2024 Season  News18', 'published date': 'Wed, 27 Dec 2023 08:00:00 GMT', 'url': 'https://news.google.com/rss/articles/CBMia2h0dHBzOi8vd3d3Lm5ld3MxOC5jb20vYnVzaW5lc3MvZ292dC1oaWtlcy1jb3ByYS1tc3AtYnktcnMtMjUwLTMwMC1wZXItcXVpbnRhbC1mb3ItMjAyNC1zZWFzb24tODcxOTIzOC5odG1s0gFvaHR0cHM6Ly93d3cubmV3czE4LmNvbS9hbXAvYnVzaW5lc3MvZ292dC1oaWtlcy1jb3ByYS1tc3AtYnktcnMtMjUwLTMwMC1wZXItcXVpbnRhbC1mb3ItMjAyNC1zZWFzb24tODcxOTIzOC5odG1s?oc=5&hl=en-IN&gl=IN&ceid=IN:en', 'publisher': {'href': 'https://www.news18.com', 'title': 'News18'}}, {'title': 'Annamalai thanks Modi for increasing MSP of Copra - DTNEXT', 'description': 'Annamalai thanks Modi for increasing MSP of Copra  DTNEXT', 'published date': 'Wed, 27 Dec 2023 08:00:00 GMT', 'url': 'https://news.google.com/rss/articles/CBMiXWh0dHBzOi8vd3d3LmR0bmV4dC5pbi9uZXdzL3RhbWlsbmFkdS9hbm5hbWFsYWktdGhhbmtzLW1vZGktZm9yLWluY3JlYXNpbmctbXNwLW9mLWNvcHJhLTc1NzEzM9IBYWh0dHBzOi8vd3d3LmR0bmV4dC5pbi9hbXAvbmV3cy90YW1pbG5hZHUvYW5uYW1hbGFpLXRoYW5rcy1tb2RpLWZvci1pbmNyZWFzaW5nLW1zcC1vZi1jb3ByYS03NTcxMzM?oc=5&hl=en-IN&gl=IN&ceid=IN:en', 'publisher': {'href': 'https://www.dtnext.in', 'title': 'DTNEXT'}}, {'title': 'Fix MSP for copra, sell coconut oil via PDS: Ryots - DTNEXT', 'description': 'Fix MSP for copra, sell coconut oil via PDS: Ryots  DTNEXT', 'published date': 'Fri, 04 Aug 2023 07:00:00 GMT', 'url': 'https://news.google.com/rss/articles/CBMiXGh0dHBzOi8vd3d3LmR0bmV4dC5pbi9uZXdzL3RhbWlsbmFkdS9maXgtbXNwLWZvci1jb3ByYS1zZWxsLWNvY29udXQtb2lsLXZpYS1wZHMtcnlvdHMtNzI4MTUx0gFgaHR0cHM6Ly93d3cuZHRuZXh0LmluL2FtcC9uZXdzL3RhbWlsbmFkdS9maXgtbXNwLWZvci1jb3ByYS1zZWxsLWNvY29udXQtb2lsLXZpYS1wZHMtcnlvdHMtNzI4MTUx?oc=5&hl=en-IN&gl=IN&ceid=IN:en', 'publisher': {'href': 'https://www.dtnext.in', 'title': 'DTNEXT'}}, {'title': 'EPS demands DMK govt to increase MSP of copra to ₹ 150/kg - DTNEXT', 'description': 'EPS demands DMK govt to increase MSP of copra to ₹ 150/kg  DTNEXT', 'published date': 'Fri, 30 Jun 2023 07:00:00 GMT', 'url': 'https://news.google.com/rss/articles/CBMiYmh0dHBzOi8vd3d3LmR0bmV4dC5pbi9uZXdzL3RhbWlsbmFkdS9lcHMtZGVtYW5kcy1kbWstZ292dC10by1pbmNyZWFzZS1tc3Atb2YtY29wcmEtdG8tMTUwa2ctNzIxNDI40gFmaHR0cHM6Ly93d3cuZHRuZXh0LmluL2FtcC9uZXdzL3RhbWlsbmFkdS9lcHMtZGVtYW5kcy1kbWstZ292dC10by1pbmNyZWFzZS1tc3Atb2YtY29wcmEtdG8tMTUwa2ctNzIxNDI4?oc=5&hl=en-IN&gl=IN&ceid=IN:en', 'publisher': {'href': 'https://www.dtnext.in', 'title': 'DTNEXT'}}, {'title': \"Copra prices to bounce back during 'ber' months: PCA - pna.gov.ph\", 'description': \"Copra prices to bounce back during 'ber' months: PCA  pna.gov.ph\", 'published date': 'Mon, 26 Jun 2023 07:00:00 GMT', 'url': 'https://news.google.com/rss/articles/CBMiJ2h0dHBzOi8vd3d3LnBuYS5nb3YucGgvYXJ0aWNsZXMvMTIwNDI1OdIBAA?oc=5&hl=en-IN&gl=IN&ceid=IN:en', 'publisher': {'href': 'https://www.pna.gov.ph', 'title': 'pna.gov.ph'}}, {'title': 'MSP for Copra for 2024 season hiked. - Etemaad', 'description': 'MSP for Copra for 2024 season hiked.  Etemaad', 'published date': 'Thu, 28 Dec 2023 08:00:00 GMT', 'url': 'https://news.google.com/rss/articles/CBMiU2h0dHBzOi8vd3d3LmVuLmV0ZW1hYWRkYWlseS5jb20vYnVzaW5lc3MvbXNwLWZvci1jb3ByYS1mb3ItMjAyNC1zZWFzb24taGlrZWQ6MTQ0ODEw0gEA?oc=5&hl=en-IN&gl=IN&ceid=IN:en', 'publisher': {'href': 'https://www.en.etemaaddaily.com', 'title': 'Etemaad'}}, {'title': 'Business News, Strategy, Finance and Corporate Insight - Fortune India', 'description': 'Business News, Strategy, Finance and Corporate Insight  Fortune India', 'published date': 'Wed, 27 Dec 2023 08:00:00 GMT', 'url': 'https://news.google.com/rss/articles/CBMiZGh0dHBzOi8vd3d3LmZvcnR1bmVpbmRpYS5jb20vbWFjcm8vY2FiaW5ldC1hcHByb3Zlcy0zMDBxdWludGFsLW1zcC1pbmNyZWFzZS1mb3ItY29wcmEtaW4tMjAyNC8xMTUyMzfSAQA?oc=5&hl=en-IN&gl=IN&ceid=IN:en', 'publisher': {'href': 'https://www.fortuneindia.com', 'title': 'Fortune India'}}, {'title': 'Enriched copra meal production for animal feed targeted for Q4 - BusinessWorld Online', 'description': 'Enriched copra meal production for animal feed targeted for Q4  BusinessWorld Online', 'published date': 'Mon, 01 May 2023 07:00:00 GMT', 'url': 'https://news.google.com/rss/articles/CBMidmh0dHBzOi8vd3d3LmJ3b3JsZG9ubGluZS5jb20vZWNvbm9teS8yMDIzLzA1LzAxLzUyMDI1MS9lbnJpY2hlZC1jb3ByYS1tZWFsLXByb2R1Y3Rpb24tZm9yLWFuaW1hbC1mZWVkLXRhcmdldGVkLWZvci1xNC_SAXpodHRwczovL3d3dy5id29ybGRvbmxpbmUuY29tL2Vjb25vbXkvMjAyMy8wNS8wMS81MjAyNTEvZW5yaWNoZWQtY29wcmEtbWVhbC1wcm9kdWN0aW9uLWZvci1hbmltYWwtZmVlZC10YXJnZXRlZC1mb3ItcTQvP2FtcA?oc=5&hl=en-IN&gl=IN&ceid=IN:en', 'publisher': {'href': 'https://www.bworldonline.com', 'title': 'BusinessWorld Online'}}, {'title': \"Cut in duty 'kills' copra - DTNEXT\", 'description': \"Cut in duty 'kills' copra  DTNEXT\", 'published date': 'Sun, 16 Jul 2023 07:00:00 GMT', 'url': 'https://news.google.com/rss/articles/CBMiLWh0dHBzOi8vd3d3LmR0bmV4dC5pbi9jdXQtaW4tZHV0eS1raWxscy1jb3ByYdIBMWh0dHBzOi8vd3d3LmR0bmV4dC5pbi9hbXAvY3V0LWluLWR1dHkta2lsbHMtY29wcmE?oc=5&hl=en-IN&gl=IN&ceid=IN:en', 'publisher': {'href': 'https://www.dtnext.in', 'title': 'DTNEXT'}}]\n",
      "                                                title   \n",
      "0   Copra: Reinventing Indian Cuisine - San Franci...  \\\n",
      "1   Copra Review - Fillmore - San Francisco - The ...   \n",
      "2   S.F. restaurant Copra astounds with South Indi...   \n",
      "3   Indie Spotlight: Michel Fiffe Talks Ten Years ...   \n",
      "4   Coastal India Vibes & Relaxed, Modern Indian C...   \n",
      "..                                                ...   \n",
      "94  Copra prices to bounce back during 'ber' month...   \n",
      "95     MSP for Copra for 2024 season hiked. - Etemaad   \n",
      "96  Business News, Strategy, Finance and Corporate...   \n",
      "97  Enriched copra meal production for animal feed...   \n",
      "98                 Cut in duty 'kills' copra - DTNEXT   \n",
      "\n",
      "                                          description   \n",
      "0   Copra: Reinventing Indian Cuisine - San Franci...  \\\n",
      "1   Copra Review - Fillmore - San Francisco  The I...   \n",
      "2   S.F. restaurant Copra astounds with South Indi...   \n",
      "3   Indie Spotlight: Michel Fiffe Talks Ten Years ...   \n",
      "4   Coastal India Vibes & Relaxed, Modern Indian C...   \n",
      "..                                                ...   \n",
      "94  Copra prices to bounce back during 'ber' month...   \n",
      "95      MSP for Copra for 2024 season hiked.  Etemaad   \n",
      "96  Business News, Strategy, Finance and Corporate...   \n",
      "97  Enriched copra meal production for animal feed...   \n",
      "98                  Cut in duty 'kills' copra  DTNEXT   \n",
      "\n",
      "                   published date   \n",
      "0   Thu, 22 Jun 2023 07:00:00 GMT  \\\n",
      "1   Tue, 11 Jul 2023 07:00:00 GMT   \n",
      "2   Wed, 26 Apr 2023 07:00:00 GMT   \n",
      "3   Fri, 23 Jun 2023 07:00:00 GMT   \n",
      "4   Sat, 25 Mar 2023 07:00:00 GMT   \n",
      "..                            ...   \n",
      "94  Mon, 26 Jun 2023 07:00:00 GMT   \n",
      "95  Thu, 28 Dec 2023 08:00:00 GMT   \n",
      "96  Wed, 27 Dec 2023 08:00:00 GMT   \n",
      "97  Mon, 01 May 2023 07:00:00 GMT   \n",
      "98  Sun, 16 Jul 2023 07:00:00 GMT   \n",
      "\n",
      "                                                  url   \n",
      "0   https://news.google.com/rss/articles/CBMiOGh0d...  \\\n",
      "1   https://news.google.com/rss/articles/CBMiOmh0d...   \n",
      "2   https://news.google.com/rss/articles/CBMiXGh0d...   \n",
      "3   https://news.google.com/rss/articles/CBMiMWh0d...   \n",
      "4   https://news.google.com/rss/articles/CBMidGh0d...   \n",
      "..                                                ...   \n",
      "94  https://news.google.com/rss/articles/CBMiJ2h0d...   \n",
      "95  https://news.google.com/rss/articles/CBMiU2h0d...   \n",
      "96  https://news.google.com/rss/articles/CBMiZGh0d...   \n",
      "97  https://news.google.com/rss/articles/CBMidmh0d...   \n",
      "98  https://news.google.com/rss/articles/CBMiLWh0d...   \n",
      "\n",
      "                                            publisher  \n",
      "0   {'href': 'https://sfbaytimes.com', 'title': 'S...  \n",
      "1   {'href': 'https://www.theinfatuation.com', 'ti...  \n",
      "2   {'href': 'https://www.sfchronicle.com', 'title...  \n",
      "3   {'href': 'https://www.cbr.com', 'title': 'CBR ...  \n",
      "4   {'href': 'https://thebolditalic.com', 'title':...  \n",
      "..                                                ...  \n",
      "94  {'href': 'https://www.pna.gov.ph', 'title': 'p...  \n",
      "95  {'href': 'https://www.en.etemaaddaily.com', 't...  \n",
      "96  {'href': 'https://www.fortuneindia.com', 'titl...  \n",
      "97  {'href': 'https://www.bworldonline.com', 'titl...  \n",
      "98  {'href': 'https://www.dtnext.in', 'title': 'DT...  \n",
      "\n",
      "[99 rows x 5 columns]\n"
     ]
    }
   ],
   "source": [
    "\n",
    "google_news = GNews()\n",
    "search_query = 'Copra '  # Replace 'Your Product' with the product you want to search for\n",
    "product_news = google_news.get_news(search_query)\n",
    "\n",
    "print(product_news) \n",
    "\n",
    "# Converting JSON data into DataFrame\n",
    "df = pd.DataFrame(product_news)\n",
    "print(df)"
   ]
  },
  {
   "cell_type": "code",
   "execution_count": 3,
   "metadata": {},
   "outputs": [
    {
     "name": "stderr",
     "output_type": "stream",
     "text": [
      "c:\\Users\\sahil\\AppData\\Local\\Programs\\Python\\Python311\\Lib\\site-packages\\urllib3\\connectionpool.py:1045: InsecureRequestWarning: Unverified HTTPS request is being made to host 'news.google.com'. Adding certificate verification is strongly advised. See: https://urllib3.readthedocs.io/en/1.26.x/advanced-usage.html#ssl-warnings\n",
      "  warnings.warn(\n",
      "c:\\Users\\sahil\\AppData\\Local\\Programs\\Python\\Python311\\Lib\\site-packages\\urllib3\\connectionpool.py:1045: InsecureRequestWarning: Unverified HTTPS request is being made to host 'www.fijitimes.com.fj'. Adding certificate verification is strongly advised. See: https://urllib3.readthedocs.io/en/1.26.x/advanced-usage.html#ssl-warnings\n",
      "  warnings.warn(\n"
     ]
    }
   ],
   "source": [
    "url = \"https://news.google.com/rss/articles/CBMiL2h0dHBzOi8vd3d3LmZpaml0aW1lcy5jb20uZmovY29wcmEtdHJhZGUtZHlpbmcv0gEA?oc=5&hl=en-IN&gl=IN&ceid=IN:en\"\n",
    "res = requests.get(url, verify=False)\n",
    "html_page = res.content\n",
    "\n",
    "        # Use BeautifulSoup to parse the HTML content\n",
    "soup = BeautifulSoup(html_page, 'html.parser')\n",
    "text_content = soup.get_text()"
   ]
  },
  {
   "cell_type": "code",
   "execution_count": 4,
   "metadata": {},
   "outputs": [
    {
     "data": {
      "text/plain": [
       "b'<!DOCTYPE html>\\n<html lang=\"en-US\">\\n<head>\\n\\t<meta charset=\"UTF-8\" />\\n\\t<meta name=\"viewport\" content=\"width=device-width, initial-scale=1\" />\\n<meta name=\\'robots\\' content=\\'index, follow, max-image-preview:large, max-snippet:-1, max-video-preview:-1\\' />\\n\\n\\t<!-- This site is optimized with the Yoast SEO plugin v21.7 - https://yoast.com/wordpress/plugins/seo/ -->\\n\\t<title>Copra trade \\xe2\\x80\\x98dying\\xe2\\x80\\x99 - The Fiji Times</title>\\n\\t<link rel=\"canonical\" href=\"https://www.fijitimes.com.fj/copra-trade-dying/\" />\\n\\t<meta property=\"og:locale\" content=\"en_US\" />\\n\\t<meta property=\"og:type\" content=\"article\" />\\n\\t<meta property=\"og:title\" content=\"Copra trade \\xe2\\x80\\x98dying\\xe2\\x80\\x99 - The Fiji Times\" />\\n\\t<meta property=\"og:description\" content=\"Copra farmers in Cakaudrove have questioned the Government&#8217;s appointment of the new board and management of Fiji Coconut Millers Ltd. The farmers are concerned about issues that followed the appointment, including the absence of copra deals over the past two months. Frustrated farmers have called on the Government to fix the problem because the issues [&hellip;]\" />\\n\\t<meta property=\"og:url\" content=\"https://www.fijitimes.com.fj/copra-trade-dying/\" />\\n\\t<meta property=\"og:site_name\" content=\"The Fiji Times\" />\\n\\t<meta property=\"article:published_time\" content=\"2023-12-12T00:15:20+00:00\" />\\n\\t<meta property=\"article:modified_time\" content=\"2023-12-11T23:15:31+00:00\" />\\n\\t<meta property=\"og:image\" content=\"https://www.fijitimes.com.fj/wp-content/uploads/2023/12/Copra-mill-Labasa-02-1024x485.jpg\" />\\n\\t<meta property=\"og:image:width\" content=\"1080\" />\\n\\t<meta property=\"og:image:height\" content=\"511\" />\\n\\t<meta property=\"og:image:type\" content=\"image/jpeg\" />\\n\\t<meta name=\"author\" content=\"Serafina Silaitoga\" />\\n\\t<meta name=\"twitter:card\" content=\"summary_large_image\" />\\n\\t<meta name=\"twitter:image\" content=\"https://www.fijitimes.com.fj/wp-content/uploads/2023/12/Copra-mill-Labasa-02-1024x485.jpg\" />\\n\\t<meta name=\"twitter:label1\" content=\"Written by\" />\\n\\t<meta name=\"twitter:data1\" content=\"Serafina Silaitoga\" />\\n\\t<meta name=\"twitter:label2\" content=\"Est. reading time\" />\\n\\t<meta name=\"twitter:data2\" content=\"2 minutes\" />\\n\\t<script type=\"application/ld+json\" class=\"yoast-schema-graph\">{\"@context\":\"https://schema.org\",\"@graph\":[{\"@type\":\"Article\",\"@id\":\"https://www.fijitimes.com.fj/copra-trade-dying/#article\",\"isPartOf\":{\"@id\":\"https://www.fijitimes.com.fj/copra-trade-dying/\"},\"author\":{\"name\":\"Serafina Silaitoga\",\"@id\":\"https://www.fijitimes.com.fj/#/schema/person/45266e99c6f2399adc3e776402bd71eb\"},\"headline\":\"Copra trade \\xe2\\x80\\x98dying\\xe2\\x80\\x99\",\"datePublished\":\"2023-12-12T00:15:20+00:00\",\"dateModified\":\"2023-12-11T23:15:31+00:00\",\"mainEntityOfPage\":{\"@id\":\"https://www.fijitimes.com.fj/copra-trade-dying/\"},\"wordCount\":306,\"publisher\":{\"@id\":\"https://www.fijitimes.com.fj/#organization\"},\"image\":{\"@id\":\"https://www.fijitimes.com.fj/copra-trade-dying/#primaryimage\"},\"thumbnailUrl\":\"https://www.fijitimes.com.fj/wp-content/uploads/2023/12/Copra-mill-Labasa-02.jpg\",\"keywords\":[\"Copra trade \\xe2\\x80\\x98dying\\xe2\\x80\\x99\",\"Fiji Coconut Millers Ltd\",\"Fiji News\",\"Ministry of Public Enterprise permanent secretary Parmesh Chand\",\"Times News\"],\"articleSection\":[\"Local News\",\"News\"],\"inLanguage\":\"en-US\"},{\"@type\":\"WebPage\",\"@id\":\"https://www.fijitimes.com.fj/copra-trade-dying/\",\"url\":\"https://www.fijitimes.com.fj/copra-trade-dying/\",\"name\":\"Copra trade \\xe2\\x80\\x98dying\\xe2\\x80\\x99 - The Fiji Times\",\"isPartOf\":{\"@id\":\"https://www.fijitimes.com.fj/#website\"},\"primaryImageOfPage\":{\"@id\":\"https://www.fijitimes.com.fj/copra-trade-dying/#primaryimage\"},\"image\":{\"@id\":\"https://www.fijitimes.com.fj/copra-trade-dying/#primaryimage\"},\"thumbnailUrl\":\"https://www.fijitimes.com.fj/wp-content/uploads/2023/12/Copra-mill-Labasa-02.jpg\",\"datePublished\":\"2023-12-12T00:15:20+00:00\",\"dateModified\":\"2023-12-11T23:15:31+00:00\",\"breadcrumb\":{\"@id\":\"https://www.fijitimes.com.fj/copra-trade-dying/#breadcrumb\"},\"inLanguage\":\"en-US\",\"potentialAction\":[{\"@type\":\"ReadAction\",\"target\":[\"https://www.fijitimes.com.fj/copra-trade-dying/\"]}]},{\"@type\":\"ImageObject\",\"inLanguage\":\"en-US\",\"@id\":\"https://www.fijitimes.com.fj/copra-trade-dying/#primaryimage\",\"url\":\"https://www.fijitimes.com.fj/wp-content/uploads/2023/12/Copra-mill-Labasa-02.jpg\",\"contentUrl\":\"https://www.fijitimes.com.fj/wp-content/uploads/2023/12/Copra-mill-Labasa-02.jpg\",\"width\":1080,\"height\":511,\"caption\":\"The copra mill in Labasa which processes copra and coconuts purchased from farmers in Cakaudrove. Picture SUPPLIED\"},{\"@type\":\"BreadcrumbList\",\"@id\":\"https://www.fijitimes.com.fj/copra-trade-dying/#breadcrumb\",\"itemListElement\":[{\"@type\":\"ListItem\",\"position\":1,\"name\":\"Home\",\"item\":\"https://www.fijitimes.com.fj/\"},{\"@type\":\"ListItem\",\"position\":2,\"name\":\"Copra trade \\xe2\\x80\\x98dying\\xe2\\x80\\x99\"}]},{\"@type\":\"WebSite\",\"@id\":\"https://www.fijitimes.com.fj/#website\",\"url\":\"https://www.fijitimes.com.fj/\",\"name\":\"The Fiji Times\",\"description\":\"Latest Fiji News, Sports and Weather\",\"publisher\":{\"@id\":\"https://www.fijitimes.com.fj/#organization\"},\"potentialAction\":[{\"@type\":\"SearchAction\",\"target\":{\"@type\":\"EntryPoint\",\"urlTemplate\":\"https://www.fijitimes.com.fj/?s={search_term_string}\"},\"query-input\":\"required name=search_term_string\"}],\"inLanguage\":\"en-US\"},{\"@type\":\"Organization\",\"@id\":\"https://www.fijitimes.com.fj/#organization\",\"name\":\"The Fiji Times\",\"url\":\"https://www.fijitimes.com.fj/\",\"logo\":{\"@type\":\"ImageObject\",\"inLanguage\":\"en-US\",\"@id\":\"https://www.fijitimes.com.fj/#/schema/logo/image/\",\"url\":\"https://www.fijitimes.com.fj/wp-content/uploads/2018/03/Fiji_Times_Logo.png\",\"contentUrl\":\"https://www.fijitimes.com.fj/wp-content/uploads/2018/03/Fiji_Times_Logo.png\",\"width\":400,\"height\":80,\"caption\":\"The Fiji Times\"},\"image\":{\"@id\":\"https://www.fijitimes.com.fj/#/schema/logo/image/\"}},{\"@type\":\"Person\",\"@id\":\"https://www.fijitimes.com.fj/#/schema/person/45266e99c6f2399adc3e776402bd71eb\",\"name\":\"Serafina Silaitoga\",\"image\":{\"@type\":\"ImageObject\",\"inLanguage\":\"en-US\",\"@id\":\"https://www.fijitimes.com.fj/#/schema/person/image/\",\"url\":\"https://secure.gravatar.com/avatar/b54ed06b84fc5d3ef52a84ea9067a6f3?s=96&d=mm&r=g\",\"contentUrl\":\"https://secure.gravatar.com/avatar/b54ed06b84fc5d3ef52a84ea9067a6f3?s=96&d=mm&r=g\",\"caption\":\"Serafina Silaitoga\"},\"url\":\"https://www.fijitimes.com.fj/author/ssilatoga/\"}]}</script>\\n\\t<!-- / Yoast SEO plugin. -->\\n\\n\\n<title>Copra trade \\xe2\\x80\\x98dying\\xe2\\x80\\x99 - The Fiji Times</title>\\n<link rel=\\'dns-prefetch\\' href=\\'//cdnjs.cloudflare.com\\' />\\n<link rel=\\'dns-prefetch\\' href=\\'//www.googletagservices.com\\' />\\n<link rel=\\'dns-prefetch\\' href=\\'//www.fijitimes.com.fj\\' />\\n<link rel=\"alternate\" type=\"application/rss+xml\" title=\"The Fiji Times &raquo; Feed\" href=\"https://www.fijitimes.com.fj/feed/\" />\\n<link rel=\"alternate\" type=\"application/rss+xml\" title=\"The Fiji Times &raquo; Comments Feed\" href=\"https://www.fijitimes.com.fj/comments/feed/\" />\\n<script>\\nwindow._wpemojiSettings = {\"baseUrl\":\"https:\\\\/\\\\/s.w.org\\\\/images\\\\/core\\\\/emoji\\\\/14.0.0\\\\/72x72\\\\/\",\"ext\":\".png\",\"svgUrl\":\"https:\\\\/\\\\/s.w.org\\\\/images\\\\/core\\\\/emoji\\\\/14.0.0\\\\/svg\\\\/\",\"svgExt\":\".svg\",\"source\":{\"concatemoji\":\"https:\\\\/\\\\/www.fijitimes.com.fj\\\\/wp-includes\\\\/js\\\\/wp-emoji-release.min.js?ver=6.3.2\"}};\\n/*! This file is auto-generated */\\n!function(i,n){var o,s,e;function c(e){try{var t={supportTests:e,timestamp:(new Date).valueOf()};sessionStorage.setItem(o,JSON.stringify(t))}catch(e){}}function p(e,t,n){e.clearRect(0,0,e.canvas.width,e.canvas.height),e.fillText(t,0,0);var t=new Uint32Array(e.getImageData(0,0,e.canvas.width,e.canvas.height).data),r=(e.clearRect(0,0,e.canvas.width,e.canvas.height),e.fillText(n,0,0),new Uint32Array(e.getImageData(0,0,e.canvas.width,e.canvas.height).data));return t.every(function(e,t){return e===r[t]})}function u(e,t,n){switch(t){case\"flag\":return n(e,\"\\\\ud83c\\\\udff3\\\\ufe0f\\\\u200d\\\\u26a7\\\\ufe0f\",\"\\\\ud83c\\\\udff3\\\\ufe0f\\\\u200b\\\\u26a7\\\\ufe0f\")?!1:!n(e,\"\\\\ud83c\\\\uddfa\\\\ud83c\\\\uddf3\",\"\\\\ud83c\\\\uddfa\\\\u200b\\\\ud83c\\\\uddf3\")&&!n(e,\"\\\\ud83c\\\\udff4\\\\udb40\\\\udc67\\\\udb40\\\\udc62\\\\udb40\\\\udc65\\\\udb40\\\\udc6e\\\\udb40\\\\udc67\\\\udb40\\\\udc7f\",\"\\\\ud83c\\\\udff4\\\\u200b\\\\udb40\\\\udc67\\\\u200b\\\\udb40\\\\udc62\\\\u200b\\\\udb40\\\\udc65\\\\u200b\\\\udb40\\\\udc6e\\\\u200b\\\\udb40\\\\udc67\\\\u200b\\\\udb40\\\\udc7f\");case\"emoji\":return!n(e,\"\\\\ud83e\\\\udef1\\\\ud83c\\\\udffb\\\\u200d\\\\ud83e\\\\udef2\\\\ud83c\\\\udfff\",\"\\\\ud83e\\\\udef1\\\\ud83c\\\\udffb\\\\u200b\\\\ud83e\\\\udef2\\\\ud83c\\\\udfff\")}return!1}function f(e,t,n){var r=\"undefined\"!=typeof WorkerGlobalScope&&self instanceof WorkerGlobalScope?new OffscreenCanvas(300,150):i.createElement(\"canvas\"),a=r.getContext(\"2d\",{willReadFrequently:!0}),o=(a.textBaseline=\"top\",a.font=\"600 32px Arial\",{});return e.forEach(function(e){o[e]=t(a,e,n)}),o}function t(e){var t=i.createElement(\"script\");t.src=e,t.defer=!0,i.head.appendChild(t)}\"undefined\"!=typeof Promise&&(o=\"wpEmojiSettingsSupports\",s=[\"flag\",\"emoji\"],n.supports={everything:!0,everythingExceptFlag:!0},e=new Promise(function(e){i.addEventListener(\"DOMContentLoaded\",e,{once:!0})}),new Promise(function(t){var n=function(){try{var e=JSON.parse(sessionStorage.getItem(o));if(\"object\"==typeof e&&\"number\"==typeof e.timestamp&&(new Date).valueOf()<e.timestamp+604800&&\"object\"==typeof e.supportTests)return e.supportTests}catch(e){}return null}();if(!n){if(\"undefined\"!=typeof Worker&&\"undefined\"!=typeof OffscreenCanvas&&\"undefined\"!=typeof URL&&URL.createObjectURL&&\"undefined\"!=typeof Blob)try{var e=\"postMessage(\"+f.toString()+\"(\"+[JSON.stringify(s),u.toString(),p.toString()].join(\",\")+\"));\",r=new Blob([e],{type:\"text/javascript\"}),a=new Worker(URL.createObjectURL(r),{name:\"wpTestEmojiSupports\"});return void(a.onmessage=function(e){c(n=e.data),a.terminate(),t(n)})}catch(e){}c(n=f(s,u,p))}t(n)}).then(function(e){for(var t in e)n.supports[t]=e[t],n.supports.everything=n.supports.everything&&n.supports[t],\"flag\"!==t&&(n.supports.everythingExceptFlag=n.supports.everythingExceptFlag&&n.supports[t]);n.supports.everythingExceptFlag=n.supports.everythingExceptFlag&&!n.supports.flag,n.DOMReady=!1,n.readyCallback=function(){n.DOMReady=!0}}).then(function(){return e}).then(function(){var e;n.supports.everything||(n.readyCallback(),(e=n.source||{}).concatemoji?t(e.concatemoji):e.wpemoji&&e.twemoji&&(t(e.twemoji),t(e.wpemoji)))}))}((window,document),window._wpemojiSettings);\\n</script>\\n<style>\\nimg.wp-smiley,\\nimg.emoji {\\n\\tdisplay: inline !important;\\n\\tborder: none !important;\\n\\tbox-shadow: none !important;\\n\\theight: 1em !important;\\n\\twidth: 1em !important;\\n\\tmargin: 0 0.07em !important;\\n\\tvertical-align: -0.1em !important;\\n\\tbackground: none !important;\\n\\tpadding: 0 !important;\\n}\\n</style>\\n\\t<style id=\\'wp-block-group-inline-css\\'>\\n.wp-block-group{box-sizing:border-box}\\n</style>\\n<style id=\\'wp-block-group-theme-inline-css\\'>\\n:where(.wp-block-group.has-background){padding:1.25em 2.375em}\\n</style>\\n<style id=\\'wp-block-template-part-theme-inline-css\\'>\\n.wp-block-template-part.has-background{margin-bottom:0;margin-top:0;padding:1.25em 2.375em}\\n</style>\\n<style id=\\'wp-block-spacer-inline-css\\'>\\n.wp-block-spacer{clear:both}\\n</style>\\n<style id=\\'wp-block-post-title-inline-css\\'>\\n.wp-block-post-title{box-sizing:border-box;word-break:break-word}.wp-block-post-title a{display:inline-block}\\n</style>\\n<style id=\\'wp-block-columns-inline-css\\'>\\n.wp-block-columns{align-items:normal!important;box-sizing:border-box;display:flex;flex-wrap:wrap!important}@media (min-width:782px){.wp-block-columns{flex-wrap:nowrap!important}}.wp-block-columns.are-vertically-aligned-top{align-items:flex-start}.wp-block-columns.are-vertically-aligned-center{align-items:center}.wp-block-columns.are-vertically-aligned-bottom{align-items:flex-end}@media (max-width:781px){.wp-block-columns:not(.is-not-stacked-on-mobile)>.wp-block-column{flex-basis:100%!important}}@media (min-width:782px){.wp-block-columns:not(.is-not-stacked-on-mobile)>.wp-block-column{flex-basis:0;flex-grow:1}.wp-block-columns:not(.is-not-stacked-on-mobile)>.wp-block-column[style*=flex-basis]{flex-grow:0}}.wp-block-columns.is-not-stacked-on-mobile{flex-wrap:nowrap!important}.wp-block-columns.is-not-stacked-on-mobile>.wp-block-column{flex-basis:0;flex-grow:1}.wp-block-columns.is-not-stacked-on-mobile>.wp-block-column[style*=flex-basis]{flex-grow:0}:where(.wp-block-columns){margin-bottom:1.75em}:where(.wp-block-columns.has-background){padding:1.25em 2.375em}.wp-block-column{flex-grow:1;min-width:0;overflow-wrap:break-word;word-break:break-word}.wp-block-column.is-vertically-aligned-top{align-self:flex-start}.wp-block-column.is-vertically-aligned-center{align-self:center}.wp-block-column.is-vertically-aligned-bottom{align-self:flex-end}.wp-block-column.is-vertically-aligned-bottom,.wp-block-column.is-vertically-aligned-center,.wp-block-column.is-vertically-aligned-top{width:100%}\\n:where(.wp-block-columns.is-layout-flex){gap: 2em;}:where(.wp-block-columns.is-layout-grid){gap: 2em;}\\n</style>\\n<style id=\\'wp-block-library-inline-css\\'>\\n:root{--wp-admin-theme-color:#007cba;--wp-admin-theme-color--rgb:0,124,186;--wp-admin-theme-color-darker-10:#006ba1;--wp-admin-theme-color-darker-10--rgb:0,107,161;--wp-admin-theme-color-darker-20:#005a87;--wp-admin-theme-color-darker-20--rgb:0,90,135;--wp-admin-border-width-focus:2px;--wp-block-synced-color:#7a00df;--wp-block-synced-color--rgb:122,0,223}@media (min-resolution:192dpi){:root{--wp-admin-border-width-focus:1.5px}}.wp-element-button{cursor:pointer}:root{--wp--preset--font-size--normal:16px;--wp--preset--font-size--huge:42px}:root .has-very-light-gray-background-color{background-color:#eee}:root .has-very-dark-gray-background-color{background-color:#313131}:root .has-very-light-gray-color{color:#eee}:root .has-very-dark-gray-color{color:#313131}:root .has-vivid-green-cyan-to-vivid-cyan-blue-gradient-background{background:linear-gradient(135deg,#00d084,#0693e3)}:root .has-purple-crush-gradient-background{background:linear-gradient(135deg,#34e2e4,#4721fb 50%,#ab1dfe)}:root .has-hazy-dawn-gradient-background{background:linear-gradient(135deg,#faaca8,#dad0ec)}:root .has-subdued-olive-gradient-background{background:linear-gradient(135deg,#fafae1,#67a671)}:root .has-atomic-cream-gradient-background{background:linear-gradient(135deg,#fdd79a,#004a59)}:root .has-nightshade-gradient-background{background:linear-gradient(135deg,#330968,#31cdcf)}:root .has-midnight-gradient-background{background:linear-gradient(135deg,#020381,#2874fc)}.has-regular-font-size{font-size:1em}.has-larger-font-size{font-size:2.625em}.has-normal-font-size{font-size:var(--wp--preset--font-size--normal)}.has-huge-font-size{font-size:var(--wp--preset--font-size--huge)}.has-text-align-center{text-align:center}.has-text-align-left{text-align:left}.has-text-align-right{text-align:right}#end-resizable-editor-section{display:none}.aligncenter{clear:both}.items-justified-left{justify-content:flex-start}.items-justified-center{justify-content:center}.items-justified-right{justify-content:flex-end}.items-justified-space-between{justify-content:space-between}.screen-reader-text{clip:rect(1px,1px,1px,1px);word-wrap:normal!important;border:0;-webkit-clip-path:inset(50%);clip-path:inset(50%);height:1px;margin:-1px;overflow:hidden;padding:0;position:absolute;width:1px}.screen-reader-text:focus{clip:auto!important;background-color:#ddd;-webkit-clip-path:none;clip-path:none;color:#444;display:block;font-size:1em;height:auto;left:5px;line-height:normal;padding:15px 23px 14px;text-decoration:none;top:5px;width:auto;z-index:100000}html :where(.has-border-color){border-style:solid}html :where([style*=border-top-color]){border-top-style:solid}html :where([style*=border-right-color]){border-right-style:solid}html :where([style*=border-bottom-color]){border-bottom-style:solid}html :where([style*=border-left-color]){border-left-style:solid}html :where([style*=border-width]){border-style:solid}html :where([style*=border-top-width]){border-top-style:solid}html :where([style*=border-right-width]){border-right-style:solid}html :where([style*=border-bottom-width]){border-bottom-style:solid}html :where([style*=border-left-width]){border-left-style:solid}html :where(img[class*=wp-image-]){height:auto;max-width:100%}:where(figure){margin:0 0 1em}html :where(.is-position-sticky){--wp-admin--admin-bar--position-offset:var(--wp-admin--admin-bar--height,0px)}@media screen and (max-width:600px){html :where(.is-position-sticky){--wp-admin--admin-bar--position-offset:0px}}\\n</style>\\n<link rel=\\'stylesheet\\' id=\\'ps-block-styles-css\\' href=\\'https://www.fijitimes.com.fj/wp-content/plugins/pagesuite-blocks/build/index.css?ver=1.5\\' media=\\'\\' />\\n<style id=\\'ps-block-styles-inline-css\\'>\\n\\r\\n    .wp-block-ps-post-category article:hover .post-content  a > h3,\\r\\n    .wp-block-ps-most-read-posts article:hover .post-content  a > h3,\\r\\n    .wp-block-ps-videos-gallery article:hover .post-content  a > h3,\\r\\n    .wp-block-ps-gallery-album article:hover .post-content  a > h3,\\r\\n    .wp-block-ps-trending-posts article:hover .post-content a  {\\r\\n            color: #1e73be!important;\\r\\n    }\\r\\n    \\r\\n    .wp-block-ps-post-category .ps-post-category__more-btn a:hover,\\r\\n    .wp-block-ps-most-read-posts .ps-post-category__more-btn a:hover,\\r\\n    .wp-block-ps-call-to-action .ps-content-left a:hover,\\r\\n    .wp-block-ps-videos-gallery .ps-videos-gallery__more-btn a:hover,\\r\\n    .wp-block-ps-gallery-album .ps-gallery-album__more-btn a:hover{\\r\\n        background-color: #1e73be;\\r\\n    }\\r\\n    \\n</style>\\n<style id=\\'global-styles-inline-css\\'>\\nbody{--wp--preset--color--black: #000000;--wp--preset--color--cyan-bluish-gray: #abb8c3;--wp--preset--color--white: #ffffff;--wp--preset--color--pale-pink: #f78da7;--wp--preset--color--vivid-red: #cf2e2e;--wp--preset--color--luminous-vivid-orange: #ff6900;--wp--preset--color--luminous-vivid-amber: #fcb900;--wp--preset--color--light-green-cyan: #7bdcb5;--wp--preset--color--vivid-green-cyan: #00d084;--wp--preset--color--pale-cyan-blue: #8ed1fc;--wp--preset--color--vivid-cyan-blue: #0693e3;--wp--preset--color--vivid-purple: #9b51e0;--wp--preset--gradient--vivid-cyan-blue-to-vivid-purple: linear-gradient(135deg,rgba(6,147,227,1) 0%,rgb(155,81,224) 100%);--wp--preset--gradient--light-green-cyan-to-vivid-green-cyan: linear-gradient(135deg,rgb(122,220,180) 0%,rgb(0,208,130) 100%);--wp--preset--gradient--luminous-vivid-amber-to-luminous-vivid-orange: linear-gradient(135deg,rgba(252,185,0,1) 0%,rgba(255,105,0,1) 100%);--wp--preset--gradient--luminous-vivid-orange-to-vivid-red: linear-gradient(135deg,rgba(255,105,0,1) 0%,rgb(207,46,46) 100%);--wp--preset--gradient--very-light-gray-to-cyan-bluish-gray: linear-gradient(135deg,rgb(238,238,238) 0%,rgb(169,184,195) 100%);--wp--preset--gradient--cool-to-warm-spectrum: linear-gradient(135deg,rgb(74,234,220) 0%,rgb(151,120,209) 20%,rgb(207,42,186) 40%,rgb(238,44,130) 60%,rgb(251,105,98) 80%,rgb(254,248,76) 100%);--wp--preset--gradient--blush-light-purple: linear-gradient(135deg,rgb(255,206,236) 0%,rgb(152,150,240) 100%);--wp--preset--gradient--blush-bordeaux: linear-gradient(135deg,rgb(254,205,165) 0%,rgb(254,45,45) 50%,rgb(107,0,62) 100%);--wp--preset--gradient--luminous-dusk: linear-gradient(135deg,rgb(255,203,112) 0%,rgb(199,81,192) 50%,rgb(65,88,208) 100%);--wp--preset--gradient--pale-ocean: linear-gradient(135deg,rgb(255,245,203) 0%,rgb(182,227,212) 50%,rgb(51,167,181) 100%);--wp--preset--gradient--electric-grass: linear-gradient(135deg,rgb(202,248,128) 0%,rgb(113,206,126) 100%);--wp--preset--gradient--midnight: linear-gradient(135deg,rgb(2,3,129) 0%,rgb(40,116,252) 100%);--wp--preset--font-size--small: 13px;--wp--preset--font-size--medium: 20px;--wp--preset--font-size--large: 36px;--wp--preset--font-size--x-large: 42px;--wp--preset--spacing--20: 0.44rem;--wp--preset--spacing--30: 0.67rem;--wp--preset--spacing--40: 1rem;--wp--preset--spacing--50: 1.5rem;--wp--preset--spacing--60: 2.25rem;--wp--preset--spacing--70: 3.38rem;--wp--preset--spacing--80: 5.06rem;--wp--preset--shadow--natural: 6px 6px 9px rgba(0, 0, 0, 0.2);--wp--preset--shadow--deep: 12px 12px 50px rgba(0, 0, 0, 0.4);--wp--preset--shadow--sharp: 6px 6px 0px rgba(0, 0, 0, 0.2);--wp--preset--shadow--outlined: 6px 6px 0px -3px rgba(255, 255, 255, 1), 6px 6px rgba(0, 0, 0, 1);--wp--preset--shadow--crisp: 6px 6px 0px rgba(0, 0, 0, 1);}body { margin: 0;--wp--style--global--content-size: 1068px;--wp--style--global--wide-size: 1500px; }.wp-site-blocks > .alignleft { float: left; margin-right: 2em; }.wp-site-blocks > .alignright { float: right; margin-left: 2em; }.wp-site-blocks > .aligncenter { justify-content: center; margin-left: auto; margin-right: auto; }:where(.is-layout-flex){gap: 0.5em;}:where(.is-layout-grid){gap: 0.5em;}body .is-layout-flow > .alignleft{float: left;margin-inline-start: 0;margin-inline-end: 2em;}body .is-layout-flow > .alignright{float: right;margin-inline-start: 2em;margin-inline-end: 0;}body .is-layout-flow > .aligncenter{margin-left: auto !important;margin-right: auto !important;}body .is-layout-constrained > .alignleft{float: left;margin-inline-start: 0;margin-inline-end: 2em;}body .is-layout-constrained > .alignright{float: right;margin-inline-start: 2em;margin-inline-end: 0;}body .is-layout-constrained > .aligncenter{margin-left: auto !important;margin-right: auto !important;}body .is-layout-constrained > :where(:not(.alignleft):not(.alignright):not(.alignfull)){max-width: var(--wp--style--global--content-size);margin-left: auto !important;margin-right: auto !important;}body .is-layout-constrained > .alignwide{max-width: var(--wp--style--global--wide-size);}body .is-layout-flex{display: flex;}body .is-layout-flex{flex-wrap: wrap;align-items: center;}body .is-layout-flex > *{margin: 0;}body .is-layout-grid{display: grid;}body .is-layout-grid > *{margin: 0;}body{padding-top: 0px;padding-right: 0px;padding-bottom: 0px;padding-left: 0px;}a:where(:not(.wp-element-button)){text-decoration: underline;}.wp-element-button, .wp-block-button__link{background-color: #32373c;border-width: 0;color: #fff;font-family: inherit;font-size: inherit;line-height: inherit;padding: calc(0.667em + 2px) calc(1.333em + 2px);text-decoration: none;}.has-black-color{color: var(--wp--preset--color--black) !important;}.has-cyan-bluish-gray-color{color: var(--wp--preset--color--cyan-bluish-gray) !important;}.has-white-color{color: var(--wp--preset--color--white) !important;}.has-pale-pink-color{color: var(--wp--preset--color--pale-pink) !important;}.has-vivid-red-color{color: var(--wp--preset--color--vivid-red) !important;}.has-luminous-vivid-orange-color{color: var(--wp--preset--color--luminous-vivid-orange) !important;}.has-luminous-vivid-amber-color{color: var(--wp--preset--color--luminous-vivid-amber) !important;}.has-light-green-cyan-color{color: var(--wp--preset--color--light-green-cyan) !important;}.has-vivid-green-cyan-color{color: var(--wp--preset--color--vivid-green-cyan) !important;}.has-pale-cyan-blue-color{color: var(--wp--preset--color--pale-cyan-blue) !important;}.has-vivid-cyan-blue-color{color: var(--wp--preset--color--vivid-cyan-blue) !important;}.has-vivid-purple-color{color: var(--wp--preset--color--vivid-purple) !important;}.has-black-background-color{background-color: var(--wp--preset--color--black) !important;}.has-cyan-bluish-gray-background-color{background-color: var(--wp--preset--color--cyan-bluish-gray) !important;}.has-white-background-color{background-color: var(--wp--preset--color--white) !important;}.has-pale-pink-background-color{background-color: var(--wp--preset--color--pale-pink) !important;}.has-vivid-red-background-color{background-color: var(--wp--preset--color--vivid-red) !important;}.has-luminous-vivid-orange-background-color{background-color: var(--wp--preset--color--luminous-vivid-orange) !important;}.has-luminous-vivid-amber-background-color{background-color: var(--wp--preset--color--luminous-vivid-amber) !important;}.has-light-green-cyan-background-color{background-color: var(--wp--preset--color--light-green-cyan) !important;}.has-vivid-green-cyan-background-color{background-color: var(--wp--preset--color--vivid-green-cyan) !important;}.has-pale-cyan-blue-background-color{background-color: var(--wp--preset--color--pale-cyan-blue) !important;}.has-vivid-cyan-blue-background-color{background-color: var(--wp--preset--color--vivid-cyan-blue) !important;}.has-vivid-purple-background-color{background-color: var(--wp--preset--color--vivid-purple) !important;}.has-black-border-color{border-color: var(--wp--preset--color--black) !important;}.has-cyan-bluish-gray-border-color{border-color: var(--wp--preset--color--cyan-bluish-gray) !important;}.has-white-border-color{border-color: var(--wp--preset--color--white) !important;}.has-pale-pink-border-color{border-color: var(--wp--preset--color--pale-pink) !important;}.has-vivid-red-border-color{border-color: var(--wp--preset--color--vivid-red) !important;}.has-luminous-vivid-orange-border-color{border-color: var(--wp--preset--color--luminous-vivid-orange) !important;}.has-luminous-vivid-amber-border-color{border-color: var(--wp--preset--color--luminous-vivid-amber) !important;}.has-light-green-cyan-border-color{border-color: var(--wp--preset--color--light-green-cyan) !important;}.has-vivid-green-cyan-border-color{border-color: var(--wp--preset--color--vivid-green-cyan) !important;}.has-pale-cyan-blue-border-color{border-color: var(--wp--preset--color--pale-cyan-blue) !important;}.has-vivid-cyan-blue-border-color{border-color: var(--wp--preset--color--vivid-cyan-blue) !important;}.has-vivid-purple-border-color{border-color: var(--wp--preset--color--vivid-purple) !important;}.has-vivid-cyan-blue-to-vivid-purple-gradient-background{background: var(--wp--preset--gradient--vivid-cyan-blue-to-vivid-purple) !important;}.has-light-green-cyan-to-vivid-green-cyan-gradient-background{background: var(--wp--preset--gradient--light-green-cyan-to-vivid-green-cyan) !important;}.has-luminous-vivid-amber-to-luminous-vivid-orange-gradient-background{background: var(--wp--preset--gradient--luminous-vivid-amber-to-luminous-vivid-orange) !important;}.has-luminous-vivid-orange-to-vivid-red-gradient-background{background: var(--wp--preset--gradient--luminous-vivid-orange-to-vivid-red) !important;}.has-very-light-gray-to-cyan-bluish-gray-gradient-background{background: var(--wp--preset--gradient--very-light-gray-to-cyan-bluish-gray) !important;}.has-cool-to-warm-spectrum-gradient-background{background: var(--wp--preset--gradient--cool-to-warm-spectrum) !important;}.has-blush-light-purple-gradient-background{background: var(--wp--preset--gradient--blush-light-purple) !important;}.has-blush-bordeaux-gradient-background{background: var(--wp--preset--gradient--blush-bordeaux) !important;}.has-luminous-dusk-gradient-background{background: var(--wp--preset--gradient--luminous-dusk) !important;}.has-pale-ocean-gradient-background{background: var(--wp--preset--gradient--pale-ocean) !important;}.has-electric-grass-gradient-background{background: var(--wp--preset--gradient--electric-grass) !important;}.has-midnight-gradient-background{background: var(--wp--preset--gradient--midnight) !important;}.has-small-font-size{font-size: var(--wp--preset--font-size--small) !important;}.has-medium-font-size{font-size: var(--wp--preset--font-size--medium) !important;}.has-large-font-size{font-size: var(--wp--preset--font-size--large) !important;}.has-x-large-font-size{font-size: var(--wp--preset--font-size--x-large) !important;}\\n</style>\\n<style id=\\'core-block-supports-inline-css\\'>\\n.wp-container-5.wp-container-5{flex-wrap:nowrap;}\\n</style>\\n<link rel=\\'stylesheet\\' id=\\'ps-lightbox2-styles-css\\' href=\\'https://cdnjs.cloudflare.com/ajax/libs/lightbox2/2.11.4/css/lightbox.min.css?ver=1.5\\' media=\\'\\' />\\n<link rel=\\'stylesheet\\' id=\\'fijitimes_main_styles-css\\' href=\\'https://www.fijitimes.com.fj/wp-content/themes/fijitimes-fse/build/style-index.css?ver=6.3.2\\' media=\\'all\\' />\\n<script src=\\'https://www.fijitimes.com.fj/wp-includes/js/jquery/jquery.min.js?ver=3.7.0\\' id=\\'jquery-core-js\\'></script>\\n<script src=\\'https://www.fijitimes.com.fj/wp-includes/js/jquery/jquery-migrate.min.js?ver=3.4.1\\' id=\\'jquery-migrate-js\\'></script>\\n<script src=\\'https://www.googletagservices.com/tag/js/gpt.js?ver=6.3.2\\' id=\\'fijitimes_google_ads_pub-js\\'></script>\\n<script src=\\'https://www.fijitimes.com.fj/wp-content/themes/fijitimes-fse/google-ads/ads.js?ver=6.3.2\\' id=\\'fijitimes_ads_script-js\\'></script>\\n<link rel=\"https://api.w.org/\" href=\"https://www.fijitimes.com.fj/wp-json/\" /><link rel=\"alternate\" type=\"application/json\" href=\"https://www.fijitimes.com.fj/wp-json/wp/v2/posts/700618\" /><link rel=\"EditURI\" type=\"application/rsd+xml\" title=\"RSD\" href=\"https://www.fijitimes.com.fj/xmlrpc.php?rsd\" />\\n<meta name=\"generator\" content=\"WordPress 6.3.2\" />\\n<link rel=\\'shortlink\\' href=\\'https://www.fijitimes.com.fj/?p=700618\\' />\\n<link rel=\"alternate\" type=\"application/json+oembed\" href=\"https://www.fijitimes.com.fj/wp-json/oembed/1.0/embed?url=https%3A%2F%2Fwww.fijitimes.com.fj%2Fcopra-trade-dying%2F\" />\\n<link rel=\"alternate\" type=\"text/xml+oembed\" href=\"https://www.fijitimes.com.fj/wp-json/oembed/1.0/embed?url=https%3A%2F%2Fwww.fijitimes.com.fj%2Fcopra-trade-dying%2F&#038;format=xml\" />\\n    <!-- Google tag (gtag.js) --> \\n    <script async src=https://www.googletagmanager.com/gtag/js?id=G-2L7G20M5BL></script> \\n    <script> window.dataLayer = window.dataLayer || []; function gtag(){dataLayer.push(arguments);} gtag(\\'js\\', new Date()); gtag(\\'config\\', \\'G-2L7G20M5BL\\'); </script>\\n    <a id=\"__fireplace-left\"></a>\\n    <a id=\"__fireplace-right\"></a>\\n    <link rel=\"icon\" href=\"https://www.fijitimes.com.fj/wp-content/uploads/2023/12/cropped-Fiji_fav-1-32x32.png\" sizes=\"32x32\" />\\n<link rel=\"icon\" href=\"https://www.fijitimes.com.fj/wp-content/uploads/2023/12/cropped-Fiji_fav-1-192x192.png\" sizes=\"192x192\" />\\n<link rel=\"apple-touch-icon\" href=\"https://www.fijitimes.com.fj/wp-content/uploads/2023/12/cropped-Fiji_fav-1-180x180.png\" />\\n<meta name=\"msapplication-TileImage\" content=\"https://www.fijitimes.com.fj/wp-content/uploads/2023/12/cropped-Fiji_fav-1-270x270.png\" />\\n</head>\\n\\n<body class=\"post-template-default single single-post postid-700618 single-format-standard wp-custom-logo wp-embed-responsive\">\\n\\n<div class=\"wp-site-blocks\"><header class=\"print_hide wp-block-template-part\">\\n<div class=\"wp-block-group is-layout-constrained wp-block-group-is-layout-constrained\">\\n<header id=\"fijitimes-header\" class=\"container\">\\n\\t<div class=\"row top-menu\">\\n\\t\\t<div class=\"col-md-12 col-sm-12\">\\n\\t\\t\\t<div class=\"has-search\">\\n\\t\\t\\t\\t<a href=\"https://www.fijitimes.com.fj/?s=\"><span class=\"bi bi-search form-control-feedback\"></span></a>\\n\\t\\t\\t</div>\\n\\t\\t\\t\\t\\t</div> <!-- .col -->\\n\\t\\t\\n\\t</div> <!-- .row -->\\n\\n\\t<div class=\"row logo-wrapper\">\\n\\t\\t<div class=\"col-sm-12\">\\n\\t\\t\\t<a href=\"https://www.fijitimes.com.fj/\" class=\"custom-logo-link\" rel=\"home\"><img loading=\"lazy\" width=\"400\" height=\"80\" src=\"https://www.fijitimes.com.fj/wp-content/uploads/2018/03/Fiji_Times_Logo.png\" class=\"custom-logo\" alt=\"The Fiji Times\" decoding=\"async\" srcset=\"https://www.fijitimes.com.fj/wp-content/uploads/2018/03/Fiji_Times_Logo.png 400w, https://www.fijitimes.com.fj/wp-content/uploads/2018/03/Fiji_Times_Logo-300x60.png 300w\" sizes=\"(max-width: 400px) 100vw, 400px\" /></a>\\t\\t</div>\\n\\t</div> <!-- .row -->\\n\\t\\n\\t<div class=\"row\">\\n\\t\\t<div class=\"col-md-12 col-sm-12\">\\n\\t\\t\\t\\t<nav id=\"fijitimes-primary\" class=\"menu-primary-navigation-container\"><ul id=\"main-menu\" class=\"menu\"><li id=\"menu-item-29297\" class=\"menu-item menu-item-type-custom menu-item-object-custom menu-item-home menu-item-29297\"><a href=\"https://www.fijitimes.com.fj/\">Home</a></li>\\n<li id=\"menu-item-155583\" class=\"menu-item menu-item-type-taxonomy menu-item-object-category current-post-ancestor current-menu-parent current-post-parent menu-item-has-children fijitimes-has-children menu-item-155583\"><a href=\"https://www.fijitimes.com.fj/category/news/\">News</a>\\n<ul class=\"sub-menu\">\\n\\t<li id=\"menu-item-155586\" class=\"menu-item menu-item-type-taxonomy menu-item-object-category current-post-ancestor current-menu-parent current-post-parent menu-item-155586\"><a href=\"https://www.fijitimes.com.fj/category/news/local-news/\">Local News</a></li>\\n\\t<li id=\"menu-item-286561\" class=\"menu-item menu-item-type-taxonomy menu-item-object-category menu-item-286561\"><a href=\"https://www.fijitimes.com.fj/category/news/business/\">Business</a></li>\\n\\t<li id=\"menu-item-155588\" class=\"menu-item menu-item-type-taxonomy menu-item-object-category menu-item-155588\"><a href=\"https://www.fijitimes.com.fj/category/news/regional/\">Regional</a></li>\\n\\t<li id=\"menu-item-155587\" class=\"menu-item menu-item-type-taxonomy menu-item-object-category menu-item-155587\"><a href=\"https://www.fijitimes.com.fj/category/news/politics/\">Politics</a></li>\\n\\t<li id=\"menu-item-155589\" class=\"menu-item menu-item-type-taxonomy menu-item-object-category menu-item-155589\"><a href=\"https://www.fijitimes.com.fj/category/news/world/\">World</a></li>\\n</ul>\\n</li>\\n<li id=\"menu-item-155590\" class=\"menu-item menu-item-type-taxonomy menu-item-object-category menu-item-has-children fijitimes-has-children menu-item-155590\"><a href=\"https://www.fijitimes.com.fj/category/sport/\">Sport</a>\\n<ul class=\"sub-menu\">\\n\\t<li id=\"menu-item-155594\" class=\"menu-item menu-item-type-taxonomy menu-item-object-category menu-item-155594\"><a href=\"https://www.fijitimes.com.fj/category/sport/rugby/\">Rugby</a></li>\\n\\t<li id=\"menu-item-155595\" class=\"menu-item menu-item-type-taxonomy menu-item-object-category menu-item-155595\"><a href=\"https://www.fijitimes.com.fj/category/sport/rugby-league/\">Rugby League</a></li>\\n\\t<li id=\"menu-item-155591\" class=\"menu-item menu-item-type-taxonomy menu-item-object-category menu-item-155591\"><a href=\"https://www.fijitimes.com.fj/category/sport/football/\">Football</a></li>\\n\\t<li id=\"menu-item-155592\" class=\"menu-item menu-item-type-taxonomy menu-item-object-category menu-item-155592\"><a href=\"https://www.fijitimes.com.fj/category/sport/netball/\">Netball</a></li>\\n\\t<li id=\"menu-item-699119\" class=\"menu-item menu-item-type-taxonomy menu-item-object-category menu-item-699119\"><a href=\"https://www.fijitimes.com.fj/category/sport/coca-cola-games/\">Coca-Cola Games</a></li>\\n\\t<li id=\"menu-item-699121\" class=\"menu-item menu-item-type-taxonomy menu-item-object-category menu-item-699121\"><a href=\"https://www.fijitimes.com.fj/category/sport/fijian-drua-sport/\">Fijian Drua</a></li>\\n\\t<li id=\"menu-item-699122\" class=\"menu-item menu-item-type-taxonomy menu-item-object-category menu-item-699122\"><a href=\"https://www.fijitimes.com.fj/category/sport/other-sports/\">Other Sports</a></li>\\n</ul>\\n</li>\\n<li id=\"menu-item-155596\" class=\"menu-item menu-item-type-taxonomy menu-item-object-category menu-item-has-children fijitimes-has-children menu-item-155596\"><a href=\"https://www.fijitimes.com.fj/category/lifestyle/\">Lifestyle</a>\\n<ul class=\"sub-menu\">\\n\\t<li id=\"menu-item-387983\" class=\"menu-item menu-item-type-taxonomy menu-item-object-category menu-item-387983\"><a href=\"https://www.fijitimes.com.fj/category/lifestyle/cartoons/\">Cartoons</a></li>\\n\\t<li id=\"menu-item-155602\" class=\"menu-item menu-item-type-taxonomy menu-item-object-category menu-item-155602\"><a href=\"https://www.fijitimes.com.fj/category/lifestyle/music/\">Music</a></li>\\n\\t<li id=\"menu-item-155599\" class=\"menu-item menu-item-type-taxonomy menu-item-object-category menu-item-155599\"><a href=\"https://www.fijitimes.com.fj/category/lifestyle/fashion-art/\">Fashion Art</a></li>\\n\\t<li id=\"menu-item-155601\" class=\"menu-item menu-item-type-taxonomy menu-item-object-category menu-item-155601\"><a href=\"https://www.fijitimes.com.fj/category/lifestyle/motoring/\">Motoring</a></li>\\n\\t<li id=\"menu-item-155597\" class=\"menu-item menu-item-type-taxonomy menu-item-object-category menu-item-155597\"><a href=\"https://www.fijitimes.com.fj/category/lifestyle/bollybaat/\">Bollybaat</a></li>\\n\\t<li id=\"menu-item-155604\" class=\"menu-item menu-item-type-taxonomy menu-item-object-category menu-item-155604\"><a href=\"https://www.fijitimes.com.fj/category/lifestyle/the-shopper/\">The Shopper</a></li>\\n\\t<li id=\"menu-item-387984\" class=\"menu-item menu-item-type-taxonomy menu-item-object-category menu-item-387984\"><a href=\"https://www.fijitimes.com.fj/category/lifestyle/games-puzzles/\">Games Puzzles</a></li>\\n\\t<li id=\"menu-item-155603\" class=\"menu-item menu-item-type-taxonomy menu-item-object-category menu-item-155603\"><a href=\"https://www.fijitimes.com.fj/category/lifestyle/property-guide/\">Property Guide</a></li>\\n</ul>\\n</li>\\n<li id=\"menu-item-155606\" class=\"menu-item menu-item-type-taxonomy menu-item-object-category menu-item-has-children fijitimes-has-children menu-item-155606\"><a href=\"https://www.fijitimes.com.fj/category/kaila/\">Kaila</a>\\n<ul class=\"sub-menu\">\\n\\t<li id=\"menu-item-155607\" class=\"menu-item menu-item-type-taxonomy menu-item-object-category menu-item-155607\"><a href=\"https://www.fijitimes.com.fj/category/kaila/competitions/\">Competitions</a></li>\\n\\t<li id=\"menu-item-155608\" class=\"menu-item menu-item-type-taxonomy menu-item-object-category menu-item-155608\"><a href=\"https://www.fijitimes.com.fj/category/kaila/dyon/\">DYON</a></li>\\n</ul>\\n</li>\\n<li id=\"menu-item-387893\" class=\"menu-item menu-item-type-taxonomy menu-item-object-category menu-item-387893\"><a href=\"https://www.fijitimes.com.fj/category/people/\">People</a></li>\\n<li id=\"menu-item-387969\" class=\"menu-item menu-item-type-taxonomy menu-item-object-category menu-item-387969\"><a href=\"https://www.fijitimes.com.fj/category/travel/\">Local Travel</a></li>\\n<li id=\"menu-item-405636\" class=\"menu-item menu-item-type-taxonomy menu-item-object-category menu-item-405636\"><a href=\"https://www.fijitimes.com.fj/category/dining-entertainment/\">Dining &amp; Entertainment</a></li>\\n<li id=\"menu-item-625889\" class=\"menu-item menu-item-type-taxonomy menu-item-object-category menu-item-625889\"><a href=\"https://www.fijitimes.com.fj/category/fijian-drua/\">Fijian Drua</a></li>\\n<li id=\"menu-item-155609\" class=\"menu-item menu-item-type-taxonomy menu-item-object-category menu-item-has-children fijitimes-has-children menu-item-155609\"><a href=\"https://www.fijitimes.com.fj/category/opinion/\">Opinion</a>\\n<ul class=\"sub-menu\">\\n\\t<li id=\"menu-item-29296\" class=\"menu-item menu-item-type-post_type menu-item-object-page menu-item-has-children fijitimes-has-children menu-item-29296\"><a href=\"https://www.fijitimes.com.fj/archive/\">Archive</a>\\n\\t<ul class=\"sub-menu\">\\n\\t\\t<li id=\"menu-item-155614\" class=\"menu-item menu-item-type-taxonomy menu-item-object-category menu-item-155614\"><a href=\"https://www.fijitimes.com.fj/category/nai-lalakai/\">Nai Lalakai</a></li>\\n\\t</ul>\\n</li>\\n\\t<li id=\"menu-item-155612\" class=\"menu-item menu-item-type-taxonomy menu-item-object-category menu-item-155612\"><a href=\"https://www.fijitimes.com.fj/category/opinion/letters-to-the-editors/\">Letters To The Editors</a></li>\\n\\t<li id=\"menu-item-155610\" class=\"menu-item menu-item-type-taxonomy menu-item-object-category menu-item-155610\"><a href=\"https://www.fijitimes.com.fj/category/opinion/editors-comment/\">Editors Comment</a></li>\\n\\t<li id=\"menu-item-155611\" class=\"menu-item menu-item-type-taxonomy menu-item-object-category menu-item-155611\"><a href=\"https://www.fijitimes.com.fj/category/opinion/from-the-crowd/\">From The Crowd</a></li>\\n</ul>\\n</li>\\n</ul></nav>\\t\\n\\t\\t</div> <!-- .col -->\\n\\t</div>\\n</header> <!-- #fijitimes-header -->\\n<div class=\"container\">\\n\\t<div class=\"row position-relative\">\\n\\t\\t<div class=\"search-box\">\\n\\t\\t  \\t\\t<form class=\"search-form\" method=\"get\" action=\"https://www.fijitimes.com.fj/\">\\r\\n    <input class=\"s\" type=\"search\" name=\"s\" placeholder=\"What are you looking for?\">\\r\\n    <button class=\"search-submit\" type=\"submit\">\\r\\n        Search\\r\\n        <i class=\"bi bi-chevron-compact-right\"></i>\\r\\n    </button> \\r\\n</form>\\t\\t</div> <!-- .col -->\\n\\t</div> <!-- .row -->\\n</div> <!-- .container -->\\n\\n<!-- Mobile Menu -->\\n<div id=\"fijitimes-mobile-menu\" class=\"container\">\\n\\t<div class=\"row justify-content-center align-items-center\">\\n\\t\\t<!-- Navbar -->\\n\\t\\t<div class=\"col-2\">\\n\\t\\t\\t<button class=\"fijitimes-mobile-menu__navbar\">\\n\\t\\t\\t\\t<i class=\"bi bi-list\"></i>\\n\\t\\t\\t</button>\\n\\t\\t</div>\\n\\t\\t<!-- Mobile Logo -->\\n\\t\\t<div class=\"col-8\">\\n\\t\\t\\t<a href=\"https://www.fijitimes.com.fj/\" class=\"custom-logo-link\" rel=\"home\"><img loading=\"lazy\" width=\"400\" height=\"80\" src=\"https://www.fijitimes.com.fj/wp-content/uploads/2018/03/Fiji_Times_Logo.png\" class=\"custom-logo\" alt=\"The Fiji Times\" decoding=\"async\" srcset=\"https://www.fijitimes.com.fj/wp-content/uploads/2018/03/Fiji_Times_Logo.png 400w, https://www.fijitimes.com.fj/wp-content/uploads/2018/03/Fiji_Times_Logo-300x60.png 300w\" sizes=\"(max-width: 400px) 100vw, 400px\" /></a>\\t\\t</div>\\n\\t\\t<!-- Search -->\\n\\t\\t<div class=\"col-2\">\\n\\t\\t\\t<button class=\"fijitimes-mobile-menu__search\">\\n\\t\\t\\t\\t<i class=\"bi bi-search\"></i>\\n\\t\\t\\t</button>\\n\\t\\t</div>\\n\\t</div>\\n</div>\\n\\n<div class=\"fijitimes-navbar-overlay\">\\n\\t<div class=\"fijitimes-navbar-overlay__close-container\">\\n\\t\\t<button class=\"fijitimes-navbar-overlay__close-menu\">\\n\\t\\t\\t<i class=\"bi bi-x-circle\"></i>\\n\\t\\t</button>\\n\\t\\t<div class=\"fijitimes-navbar-overlay__social-icons\">\\n\\t\\t\\t<span class=\"fijitimes-navbar-overlay__social-icons-wrap\"><a href=\"https://www.facebook.com/fijitimesonline/\" target=\"_blank\" rel=\"noopener noreferrer\"><i class=\"bi bi-facebook\"></i></a><span>\\n\\t\\t\\t<span class=\"fijitimes-navbar-overlay__social-icons-wrap\"><a href=\"https://www.instagram.com/thefijitimes/\" target=\"_blank\" rel=\"noopener noreferrer\"><i class=\"bi bi-instagram\"></i></a><span>\\n\\t\\t\\t<span class=\"fijitimes-navbar-overlay__social-icons-wrap\"><a href=\"https://www.linkedin.com/in/fijitimesonline/\" target=\"_blank\" rel=\"noopener noreferrer\"><i class=\"bi bi-linkedin\"></i></a><span>\\n\\t\\t\\t<span class=\"fijitimes-navbar-overlay__social-icons-wrap\"><a href=\"https://twitter.com/fijitimes/\" target=\"_blank\" rel=\"noopener noreferrer\"><i class=\"bi bi-twitter\"></i></a><span>\\n\\t\\t</div>\\n\\t</div>\\n\\t\\n\\t<nav id=\"fijitimes-navbar-overlay__nav\" class=\"menu-primary-navigation-container\"><ul id=\"menu-primary-navigation\" class=\"menu\"><li class=\"menu-item menu-item-type-custom menu-item-object-custom menu-item-home menu-item-29297\"><a href=\"https://www.fijitimes.com.fj/\">Home</a></li>\\n<li class=\"menu-item menu-item-type-taxonomy menu-item-object-category current-post-ancestor current-menu-parent current-post-parent menu-item-has-children menu-item-155583\"><a href=\"https://www.fijitimes.com.fj/category/news/\">News</a>\\n<ul class=\"sub-menu\">\\n\\t<li class=\"menu-item menu-item-type-taxonomy menu-item-object-category current-post-ancestor current-menu-parent current-post-parent menu-item-155586\"><a href=\"https://www.fijitimes.com.fj/category/news/local-news/\">Local News</a></li>\\n\\t<li class=\"menu-item menu-item-type-taxonomy menu-item-object-category menu-item-286561\"><a href=\"https://www.fijitimes.com.fj/category/news/business/\">Business</a></li>\\n\\t<li class=\"menu-item menu-item-type-taxonomy menu-item-object-category menu-item-155588\"><a href=\"https://www.fijitimes.com.fj/category/news/regional/\">Regional</a></li>\\n\\t<li class=\"menu-item menu-item-type-taxonomy menu-item-object-category menu-item-155587\"><a href=\"https://www.fijitimes.com.fj/category/news/politics/\">Politics</a></li>\\n\\t<li class=\"menu-item menu-item-type-taxonomy menu-item-object-category menu-item-155589\"><a href=\"https://www.fijitimes.com.fj/category/news/world/\">World</a></li>\\n</ul>\\n</li>\\n<li class=\"menu-item menu-item-type-taxonomy menu-item-object-category menu-item-has-children menu-item-155590\"><a href=\"https://www.fijitimes.com.fj/category/sport/\">Sport</a>\\n<ul class=\"sub-menu\">\\n\\t<li class=\"menu-item menu-item-type-taxonomy menu-item-object-category menu-item-155594\"><a href=\"https://www.fijitimes.com.fj/category/sport/rugby/\">Rugby</a></li>\\n\\t<li class=\"menu-item menu-item-type-taxonomy menu-item-object-category menu-item-155595\"><a href=\"https://www.fijitimes.com.fj/category/sport/rugby-league/\">Rugby League</a></li>\\n\\t<li class=\"menu-item menu-item-type-taxonomy menu-item-object-category menu-item-155591\"><a href=\"https://www.fijitimes.com.fj/category/sport/football/\">Football</a></li>\\n\\t<li class=\"menu-item menu-item-type-taxonomy menu-item-object-category menu-item-155592\"><a href=\"https://www.fijitimes.com.fj/category/sport/netball/\">Netball</a></li>\\n\\t<li class=\"menu-item menu-item-type-taxonomy menu-item-object-category menu-item-699119\"><a href=\"https://www.fijitimes.com.fj/category/sport/coca-cola-games/\">Coca-Cola Games</a></li>\\n\\t<li class=\"menu-item menu-item-type-taxonomy menu-item-object-category menu-item-699121\"><a href=\"https://www.fijitimes.com.fj/category/sport/fijian-drua-sport/\">Fijian Drua</a></li>\\n\\t<li class=\"menu-item menu-item-type-taxonomy menu-item-object-category menu-item-699122\"><a href=\"https://www.fijitimes.com.fj/category/sport/other-sports/\">Other Sports</a></li>\\n</ul>\\n</li>\\n<li class=\"menu-item menu-item-type-taxonomy menu-item-object-category menu-item-has-children menu-item-155596\"><a href=\"https://www.fijitimes.com.fj/category/lifestyle/\">Lifestyle</a>\\n<ul class=\"sub-menu\">\\n\\t<li class=\"menu-item menu-item-type-taxonomy menu-item-object-category menu-item-387983\"><a href=\"https://www.fijitimes.com.fj/category/lifestyle/cartoons/\">Cartoons</a></li>\\n\\t<li class=\"menu-item menu-item-type-taxonomy menu-item-object-category menu-item-155602\"><a href=\"https://www.fijitimes.com.fj/category/lifestyle/music/\">Music</a></li>\\n\\t<li class=\"menu-item menu-item-type-taxonomy menu-item-object-category menu-item-155599\"><a href=\"https://www.fijitimes.com.fj/category/lifestyle/fashion-art/\">Fashion Art</a></li>\\n\\t<li class=\"menu-item menu-item-type-taxonomy menu-item-object-category menu-item-155601\"><a href=\"https://www.fijitimes.com.fj/category/lifestyle/motoring/\">Motoring</a></li>\\n\\t<li class=\"menu-item menu-item-type-taxonomy menu-item-object-category menu-item-155597\"><a href=\"https://www.fijitimes.com.fj/category/lifestyle/bollybaat/\">Bollybaat</a></li>\\n\\t<li class=\"menu-item menu-item-type-taxonomy menu-item-object-category menu-item-155604\"><a href=\"https://www.fijitimes.com.fj/category/lifestyle/the-shopper/\">The Shopper</a></li>\\n\\t<li class=\"menu-item menu-item-type-taxonomy menu-item-object-category menu-item-387984\"><a href=\"https://www.fijitimes.com.fj/category/lifestyle/games-puzzles/\">Games Puzzles</a></li>\\n\\t<li class=\"menu-item menu-item-type-taxonomy menu-item-object-category menu-item-155603\"><a href=\"https://www.fijitimes.com.fj/category/lifestyle/property-guide/\">Property Guide</a></li>\\n</ul>\\n</li>\\n<li class=\"menu-item menu-item-type-taxonomy menu-item-object-category menu-item-has-children menu-item-155606\"><a href=\"https://www.fijitimes.com.fj/category/kaila/\">Kaila</a>\\n<ul class=\"sub-menu\">\\n\\t<li class=\"menu-item menu-item-type-taxonomy menu-item-object-category menu-item-155607\"><a href=\"https://www.fijitimes.com.fj/category/kaila/competitions/\">Competitions</a></li>\\n\\t<li class=\"menu-item menu-item-type-taxonomy menu-item-object-category menu-item-155608\"><a href=\"https://www.fijitimes.com.fj/category/kaila/dyon/\">DYON</a></li>\\n</ul>\\n</li>\\n<li class=\"menu-item menu-item-type-taxonomy menu-item-object-category menu-item-387893\"><a href=\"https://www.fijitimes.com.fj/category/people/\">People</a></li>\\n<li class=\"menu-item menu-item-type-taxonomy menu-item-object-category menu-item-387969\"><a href=\"https://www.fijitimes.com.fj/category/travel/\">Local Travel</a></li>\\n<li class=\"menu-item menu-item-type-taxonomy menu-item-object-category menu-item-405636\"><a href=\"https://www.fijitimes.com.fj/category/dining-entertainment/\">Dining &amp; Entertainment</a></li>\\n<li class=\"menu-item menu-item-type-taxonomy menu-item-object-category menu-item-625889\"><a href=\"https://www.fijitimes.com.fj/category/fijian-drua/\">Fijian Drua</a></li>\\n<li class=\"menu-item menu-item-type-taxonomy menu-item-object-category menu-item-has-children menu-item-155609\"><a href=\"https://www.fijitimes.com.fj/category/opinion/\">Opinion</a>\\n<ul class=\"sub-menu\">\\n\\t<li class=\"menu-item menu-item-type-post_type menu-item-object-page menu-item-has-children menu-item-29296\"><a href=\"https://www.fijitimes.com.fj/archive/\">Archive</a>\\n\\t<ul class=\"sub-menu\">\\n\\t\\t<li class=\"menu-item menu-item-type-taxonomy menu-item-object-category menu-item-155614\"><a href=\"https://www.fijitimes.com.fj/category/nai-lalakai/\">Nai Lalakai</a></li>\\n\\t</ul>\\n</li>\\n\\t<li class=\"menu-item menu-item-type-taxonomy menu-item-object-category menu-item-155612\"><a href=\"https://www.fijitimes.com.fj/category/opinion/letters-to-the-editors/\">Letters To The Editors</a></li>\\n\\t<li class=\"menu-item menu-item-type-taxonomy menu-item-object-category menu-item-155610\"><a href=\"https://www.fijitimes.com.fj/category/opinion/editors-comment/\">Editors Comment</a></li>\\n\\t<li class=\"menu-item menu-item-type-taxonomy menu-item-object-category menu-item-155611\"><a href=\"https://www.fijitimes.com.fj/category/opinion/from-the-crowd/\">From The Crowd</a></li>\\n</ul>\\n</li>\\n</ul></nav>\\t\\n\\t<hr /></div>\\n\\n\\n<div class=\"fijitimes-search-overlay\">\\n\\t<div class=\"fijitimes-search-overlay__close-container\">\\n\\t\\t<button class=\"fijitimes-search-overlay__close-menu\">\\n\\t\\t\\t<i class=\"bi bi-x-circle\"></i>\\n\\t\\t</button>\\n\\t</div>\\t\\n\\t\\n\\t<div class=\"fijitimes-search-overlay__search-input\">\\n\\t\\t<span>Search</span>\\n\\t\\t<form class=\"search-form\" method=\"get\" action=\"https://www.fijitimes.com.fj/\">\\r\\n    <input class=\"s\" type=\"search\" name=\"s\" placeholder=\"What are you looking for?\">\\r\\n    <button class=\"search-submit\" type=\"submit\">\\r\\n        Search\\r\\n        <i class=\"bi bi-chevron-compact-right\"></i>\\r\\n    </button> \\r\\n</form>\\t</div>\\n\\n\\t<div class=\"container\">\\n\\t\\t<div class=\"fijitimes-search-overlay__search-results\"></div>\\n\\t</div>\\n</div>\\n\\n<script type=\"text/javascript\">\\n\\tjQuery(window).on(\\'load\\', function(){\\n\\t\\t// $(\\'.menu-item-control\\').fadeOut();\\n\\t\\tif(parseInt(\\'0\\')) {\\n\\t\\t\\tjQuery(\\'.menu-item-logout\\').fadeIn();\\n\\t\\t\\tjQuery(\\'.menu-item-signin, .menu-item-register\\').fadeOut();\\n\\t\\t} else {\\n\\t\\t\\tjQuery(\\'.menu-item-signin, .menu-item-register\\').fadeIn();\\n\\t\\t\\tjQuery(\\'.menu-item-logout\\').fadeOut();\\n\\t\\t}\\n\\t});\\n</script>\\n\\n<script type=\"text/javascript\">\\n// Identify Section for DFP\\nvar Section = \"copratrade\\xe2\\x80\\x98dying\\xe2\\x80\\x99\"\\n</script> \\n\\n</div>\\n</header>\\r\\n\\r\\n\\r\\n<main class=\"wp-block-group is-layout-constrained wp-block-group-is-layout-constrained\">\\r\\n  \\r\\n  <div style=\"height: 30px\" aria-hidden=\"true\" class=\"wp-block-spacer\"></div>\\r\\n  \\r\\n\\r\\n  <h1 class=\"fijitimes_title wp-block-post-title has-x-large-font-size\">Copra trade \\xe2\\x80\\x98dying\\xe2\\x80\\x99</h1>\\r\\n\\r\\n  <div class=\"fijitimes_post__info\">\\r\\n    <span>\\r\\n        <a href=\"https://www.fijitimes.com.fj/category/news/local-news/\" rel=\"category tag\">Local News</a>, <a href=\"https://www.fijitimes.com.fj/category/news/\" rel=\"category tag\">News</a>        |\\r\\n    </span>\\r\\n    <span>\\r\\n        <time>Published: December 12, 2023</time>        |\\r\\n    </span>\\r\\n    <span>\\r\\n        <time>Last Updated: December 12, 2023</time>        |\\r\\n    </span>\\r\\n    <span>  \\r\\n        By Serafina Silaitoga    </span>\\r\\n</div>\\r\\n\\r\\n  \\r\\n  <div class=\"wp-block-columns is-layout-flex wp-container-5 wp-block-columns-is-layout-flex\">\\r\\n    \\r\\n    <div class=\"wp-block-column post_img_text is-layout-flow wp-block-column-is-layout-flow\" style=\"flex-basis: 70%\">\\r\\n      <div id=\"ps-tts-player\">\\r\\n    <p>Listen to this article: </p>\\r\\n    <button title=\"Play\"><i class=\"bi bi-play-circle-fill\"></i></button> \\r\\n    <!-- <button title=\"Start Over\"><i class=\"bi bi-stop-circle-fill\"></i></button>   -->\\r\\n</div>\\r\\n\\r\\n      \\r\\n      <div\\r\\n        style=\"height: 20px\"\\r\\n        aria-hidden=\"true\"\\r\\n        class=\"wp-block-spacer\"\\r\\n      ></div>\\r\\n      \\r\\n\\r\\n      <figure class=\"wp-block-ps-post-featured-image\">\\r\\n    <img width=\"1080\" height=\"511\" src=\"https://www.fijitimes.com.fj/wp-content/uploads/2023/12/Copra-mill-Labasa-02.jpg\" class=\"attachment-post-thumbnail size-post-thumbnail wp-post-image\" alt=\"\" decoding=\"async\" loading=\"lazy\" srcset=\"https://www.fijitimes.com.fj/wp-content/uploads/2023/12/Copra-mill-Labasa-02.jpg 1080w, https://www.fijitimes.com.fj/wp-content/uploads/2023/12/Copra-mill-Labasa-02-300x142.jpg 300w, https://www.fijitimes.com.fj/wp-content/uploads/2023/12/Copra-mill-Labasa-02-1024x485.jpg 1024w, https://www.fijitimes.com.fj/wp-content/uploads/2023/12/Copra-mill-Labasa-02-768x363.jpg 768w\" sizes=\"(max-width: 1080px) 100vw, 1080px\" />            <figcaption>The copra mill in Labasa which processes copra and coconuts purchased from farmers in Cakaudrove. Picture SUPPLIED</figcaption>\\r\\n        </figure>\\r\\n\\r\\n\\r\\n      \\r\\n      <div\\r\\n        style=\"height: 20px\"\\r\\n        aria-hidden=\"true\"\\r\\n        class=\"wp-block-spacer\"\\r\\n      ></div>\\r\\n      \\r\\n\\r\\n      \\r\\n      <div\\r\\n        style=\"height: 20px\"\\r\\n        aria-hidden=\"true\"\\r\\n        class=\"wp-block-spacer\"\\r\\n      ></div>\\r\\n      \\r\\n\\r\\n      <div class=\"entry-content post_content wp-block-post-content is-layout-flow wp-block-post-content-is-layout-flow\"><p>Copra farmers in Cakaudrove have questioned the Government&#8217;s appointment of the new board and management of Fiji Coconut Millers Ltd.</p>\\n<p>The farmers are concerned about issues that followed the appointment, including the absence of copra deals over the past two months. Frustrated farmers have called on the Government to fix the problem because the issues never arose with the previous board and management.</p>\\n<p>Farmer Karl Smith described &#8220;the new board and management as an incompetent team because the dying industry was suffering in their hands&#8221;.</p>\\n<p>&#8220;This has never happened before. Since the appointment of the new management and board, the situation has gotten worse. This is terrible,&#8221; he said.</p>\\n<p>&#8220;In this industry, 10 per cent of copra comes from freehold land while 90 per cent comes from the villages, so it&#8217;s the indigenous community that is directly affected.</p>\\n<p>&#8220;Our copra has not been purchased for the past two months and some farmers have had to transport their copra by boat from the villages and travel close to Savusavu to get to the mill.&#8221;</p>\\n<p>Mr Smith has called on the Government to urgently look into this issue.</p>\\n<p>Ministry of Public Enterprise permanent secretary Parmesh Chand said earlier this year, the boiler at the mill exploded which resulted in &#8216;no oil production from February this year&#8217;.</p>\\n<p>&#8220;Despite this, the company with the assistance of the Government continued to show commitment to the farmers by buying whole-nuts, raw and dry copra in areas around the Cakaudrove province,&#8221; he said.</p>\\n<p>&#8220;Through proper planning and implementation of effective strategies by the board and management, the factory in Savusavu commenced oil production on October 30, 2023.</p>\\n<p>&#8220;Therefore, there was no buying of whole-nuts, raw and dry copra from farmers for seven days only, that is from November 10-17, 2023.&#8221;</p>\\n<p>Farmers in Cakaudrove any closure advisory, pleading with the Government to improve services.</p>\\n</div>\\r\\n    </div>\\r\\n    \\r\\n\\r\\n    \\r\\n    <div\\r\\n      class=\"wp-block-column print_hide side-section is-layout-flow wp-block-column-is-layout-flow\"\\r\\n      style=\"flex-basis: 30%\"\\r\\n    >\\r\\n      \\r\\n<div class=\"wp-block-fijitimes-social-sharing\">\\r\\n    <a href=\"#\" rel=\"noopener noreferrer\" target=\"_blank\">\\r\\n        <div class=\"social-icon\">\\r\\n            <i class=\"bi bi-facebook\"></i>\\r\\n        </div>\\r\\n    </a>\\r\\n    <a href=\"#\" rel=\"noopener noreferrer\" target=\"_blank\">\\r\\n        <div class=\"social-icon\">\\r\\n            <i class=\"bi bi-twitter\"></i>\\r\\n        </div>\\r\\n    </a>\\r\\n    <a href=\"#\" rel=\"noopener noreferrer\" target=\"_blank\">\\r\\n        <div class=\"social-icon\">\\r\\n            <i class=\"bi bi-whatsapp\"></i>\\r\\n        </div>\\r\\n    </a>\\r\\n    <a href=\"#\" rel=\"noopener noreferrer\" target=\"_blank\">\\r\\n        <div class=\"social-icon\">\\r\\n            <i class=\"bi bi-linkedin\"></i>\\r\\n        </div>\\r\\n    </a>\\r\\n    <a href=\"#\" rel=\"noopener noreferrer\">\\r\\n        <div class=\"social-icon \">\\r\\n            <i class=\"bi bi-printer\"></i>\\r\\n        </div>\\r\\n    </a>\\r\\n</div>\\r\\n\\r\\n      <div class=\"exchange-calc\">\\n    <img decoding=\"async\" src=\"https://www.fijitimes.com.fj/wp-content/themes/fijitimes-fse/assets/exchange-calc-placeholder.png\" />\\n    <form>\\n        <div class=\"ec-top-inputs\">\\n            <label>\\n                Amount of FJD:\\n                <input type=\"text\" name=\"amount\" id=\"amountEC\">\\n            </label>\\n            <label>\\n                Convert To:\\n                <select class=\"theCurrency\">\\n                    <option value=0.67813011812313>Australian Dollar</option><option value=0.59901951241924>Canadian Dollar</option><option value=3.1768925048525>Chinese Yuan</option><option value=0.40803937361009>Euro</option><option value=0.34936351096481>U.K. Pound Sterling</option><option value=3.455268789969>Hong Kong Dollar</option><option value=6941.8477325944>Indonesian Rupiah</option><option value=36.579790952496>Indian Rupee</option><option value=66.412393938253>Japanese Yen</option><option value=588.71937257744>South Korean Won</option><option value=2.0935331465454>Malaysian Ringgit</option><option value=0.72445516625669>New Zealand Dollar</option><option value=24.751971184324>Philippine Peso</option><option value=0.59409605787371>Singapore Dollar</option><option value=15.864510586466>Thai Baht</option><option value=13.952993979926>New Taiwan Dollar </option><option value=0.44141075096438>U.S. Dollar</option><option value=10882.10656315>Vietnamese Dong</option><option value=0.39086356692809>Swiss Franc</option><option value=3.0429829968273>Danish Krone</option><option value=681.57395375983>Nigerian Naira</option><option value=1.6555493689968>Saudi Riyal</option><option value=267.71119981499>Central African CFA Franc</option><option value=267.71119981499>West African CFA Franc</option><option value=8.4556991033346>South African Rand</option><option value=1.6234465071538>U.A.E Dirham</option><option value=0.79840788884876>Bulgarian Lev</option><option value=2.1893650728737>Brazilian Real</option><option value=10.341750080719>Czech Koruna</option><option value=13.6359185177>Egyptian Pound</option><option value=160.55573123173>Hungarian Forint</option><option value=7.8602001117168>Moldova Lei</option><option value=7.5138846749868>Mexican Peso</option><option value=4.6633378829014>Norwegian Krone</option><option value=1.7627327741732>Polish Zloty</option><option value=2.0287039812043>Romanian New Leu</option><option value=47.888242531996>Serbian Dinar</option><option value=40.415107714613>Russian Rouble</option><option value=4.5654924947171>Swedish Krona</option><option value=13.846108499551>Turkish Lira</option><option value=16.844946964922>Ukrainian Hryvnia</option><option value=1.5727579813411>Israeli New Sheqel</option><option value=0.31296699094847>Jordanian Dinar</option><option value=39340.733179701>Lebanese Pound</option><option value=426.53219891073>Chilean Peso</option><option value=61.030254531774>Icelandic Krona</option><option value=178.90816971792>Armenia Dram</option><option value=0.74995684230339>Azerbaijan Manat</option><option value=48.575417486512>Bangladeshi taka</option><option value=25.911240375636>Dominican Peso</option><option value=59.46330820126>Algerian Dinar</option><option value=1.1758596163056>Georgian lari</option><option value=579.89777000941>Iraqi dinar</option><option value=18592.088494612>Iranian rial</option><option value=39.583395760201>Kyrgyzstan Som</option><option value=199.62702203221>Kazakhstani Tenge</option><option value=2.1384843871313>Libyan Dinar</option><option value=4.4658970515506>Moroccan Dirham</option><option value=123.20995730254>Pakistani Rupee</option><option value=4.8493164224004>Tajikistan Ruble</option><option value=1.5493350071679>New Turkmenistan Manat</option><option value=1.3806778469448>Tunisian Dinar</option><option value=5531.9508424224>Uzbekistan Sum</option><option value=1.4445599199541>Belarussian Ruble</option><option value=15.925662392255>Venezuelan Bolivar</option><option value=1.6645171935267>Peruvian Nuevo Sol</option><option value=371.99972378569>Argentine Peso</option><option value=3.0280777516156>Bolivian Boliviano</option><option value=1740.274569894>Colombian Peso</option><option value=226.84267947497>Costa Rican Col\\xc3\\xb3n</option><option value=58.221068094898>Haitian gourde</option><option value=0.44141075096438>Panamanian Balboa</option><option value=3221.3593102292>Paraguayan Guaran\\xc3\\xad</option><option value=17.21672590184>Uruguayan Peso</option><option value=32.351753258674>Afghan afghani</option><option value=42.431976884179>Albanian lek</option><option value=0.79618668955858>Neth. Antillean Guilder</option><option value=375.65551055212>Angolan kwanza</option><option value=0.7996551254708>Aruban florin</option><option value=0.80136425648021>Bosnia and Herzegovina convertible mark</option><option value=0.89198218262806>Barbadian Dollar</option><option value=0.16655010112848>Bahrain Dinar</option><option value=1262.3209169054>Burundian franc</option><option value=0.59479528808182>Brunei Dollar</option><option value=0.44141075096438>Bahamian Dollar</option><option value=6.0975778546712>Botswana Pula</option><option value=0.8904947192885>Belize dollar</option><option value=1222.9007633588>Congolese franc</option><option value=0.44141075096438>Cuban peso</option><option value=45.300771208226>Cape Verde escudo</option><option value=78.669642857142>Djiboutian franc</option><option value=6.6598639455782>Eritrean nakfa</option><option value=25.066856330014>Ethiopian birr</option><option value=5.5589905362776>Ghanaian Cedi</option><option value=0.34961510991191>Gibraltar pound</option><option value=29.969387755101>Gambian dalasi</option><option value=3797.8448275862>Guinean franc</option><option value=3.4478575621209>Guatemalan Quetzal</option><option value=92.426308612189>Guyanese dollar</option><option value=10.911455108359>Honduran Lempira</option><option value=69.105882352941>Jamaican Dollar</option><option value=64.720141031291>Kenyan shilling</option><option value=1798.1632653061>Cambodian riel</option><option value=201.02669404517>\\tComoro franc</option><option value=0.13593760847932>Kuwaiti Dinar</option><option value=9226.1780104711>Lao kip</option><option value=137.0188943317>Sri Lanka Rupee</option><option value=85.130434782608>Liberian dollar</option><option value=8.5007235890014>Lesotho loti</option><option value=1995.6964892413>Malagasy ariary</option><option value=25.182919858237>Macedonian denar</option><option value=927.96208530806>Myanma Kyat</option><option value=1502.3017902813>Mongolian togrog</option><option value=3.5628790942176>Macanese pataca</option><option value=17.604395604396>Mauritanian ouguiya</option><option value=20.20871559633>Mauritian Rupee</option><option value=6.8302325581396>Maldivian rufiyaa</option><option value=743.54430379746>Malawian kwacha</option><option value=28.240384615384>Mozambican metical</option><option value=8.5007235890014>Namibian dollar</option><option value=16.256457564576>Nicaraguan C\\xc3\\xb3rdoba</option><option value=58.609106329197>Nepalese Rupee</option><option value=0.17007682507818>Omani Rial</option><option value=1.6842205868298>Papua New Guinean kina</option><option value=1.6109333577109>Qatari Rial</option><option value=563.7236084453>Rwandan franc</option><option value=3.7067732435843>Solomon Islands dollar</option><option value=5.9074756956084>Seychelles rupee</option><option value=265.27171458678>Sudanese pound</option><option value=252.46418338109>Somali shilling</option><option value=15.63620230701>Surinamese dollar</option><option value=608.2844321712>South Sudanese pound</option><option value=10.115958668197>S\\xc3\\xa3o Tom\\xc3\\xa9 and Pr\\xc3\\xadncipe Dobra</option><option value=3.8678665496049>Salvadoran colon</option><option value=5740.0651465798>Syrian pound</option><option value=8.5007235890014>Swazi lilangeni</option><option value=1.0483669462788>Tongan pa\\xca\\xbbanga</option><option value=2.9984686064318>Trinidad Tobago Dollar</option><option value=1126.726342711>Tanzanian shilling</option><option value=1741.3043478261>Ugandan shilling</option><option value=53.492395956653>Vanuatu vatu</option><option value=1.2056650246305>Samoan tala</option><option value=1.1975535168196>East Caribbean Dollar</option><option value=48.773872128424>CFP Franc</option><option value=110.53126764097>Yemeni rial</option><option value=10.239395700174>Zambian kwacha</option>                </select>\\n            </label>\\n        </div>\\n        <div class=\"ec-bottom-inputs\">\\n            <label>\\n                Receive:\\n                <input type=\"text\" id=\"convertedEC\" name=\"convertedCurrency\" READONLY/>\\n            </label>\\n            <label>\\n                <input type=\"submit\" class=\"calc-submit\" value=\"Submit\">\\n            </label>\\n        </div>\\n    </form>\\n</div>\\r\\n    </div>\\r\\n    \\r\\n  </div>\\r\\n  \\r\\n\\r\\n  \\r\\n  <div style=\"height: 20px\" aria-hidden=\"true\" class=\"wp-block-spacer\"></div>\\r\\n  \\r\\n</main>\\r\\n\\r\\n\\r\\n\\r\\n<div class=\"wp-block-group is-layout-constrained wp-block-group-is-layout-constrained\">\\r\\n  \\t<div style=\"display:none\"><pre>Array\\n(\\n    [post_type] => post\\n    [post_status] => publish\\n    [orderby] => date\\n    [order] => DESC\\n    [update_post_term_cache] => \\n    [update_post_meta_cache] => \\n    [cache_results] => \\n    [category__in] => 1\\n    [posts_per_page] => 4\\n    [offset] => 0\\n    [no_found_rows] => 1\\n    [date_query] => Array\\n        (\\n            [0] => Array\\n                (\\n                    [after] => Array\\n                        (\\n                            [year] => 2023\\n                            [month] => 12\\n                            [day] => 02\\n                        )\\n\\n                    [inclusive] => 1\\n                )\\n\\n        )\\n\\n)\\n</div>\\r\\n<style type=\\'text/css\\'>\\r\\n        #wp-block-ps-post-category-block_94e877209dfbb793fd328097e896516a {\\r\\n            background-color: #F9F9F9;\\r\\n        }\\r\\n    </style><style type=\\'text/css\\'>\\r\\n            #wp-block-ps-post-category-block_94e877209dfbb793fd328097e896516a article > a::before {\\r\\n                background-image: url(https://www.fijitimes.com.fj/wp-content/uploads/2023/12/Fiji_placeholder.png);\\r\\n            }\\r\\n            </style>\\r\\n        \\r\\n    <div id=\"wp-block-ps-post-category-block_94e877209dfbb793fd328097e896516a\" class=\"ps-container ps-mx-auto wp-block-ps-post-category print_hide\">\\r\\n        <h2 class=\"ps-mb-4 ps-text-blockBlack !ps-font-bold\">UK News</h2>\\r\\n                    <div class=\"ps-grid md:ps-grid-cols-2 lg:ps-grid-cols-4 ps-gap-4\">\\r\\n                                <article>\\r\\n                                        <a href=\"https://www.fijitimes.com.fj/no-halt-to-kava-export/\" rel=\"noopener\">\\r\\n                        <img width=\"898\" height=\"600\" src=\"https://www.fijitimes.com.fj/wp-content/uploads/2024/01/DSC_0554.jpg\" class=\"attachment-post-thumbnail size-post-thumbnail wp-post-image\" alt=\"\" decoding=\"async\" fetchpriority=\"high\" srcset=\"https://www.fijitimes.com.fj/wp-content/uploads/2024/01/DSC_0554.jpg 898w, https://www.fijitimes.com.fj/wp-content/uploads/2024/01/DSC_0554-300x200.jpg 300w, https://www.fijitimes.com.fj/wp-content/uploads/2024/01/DSC_0554-768x513.jpg 768w\" sizes=\"(max-width: 898px) 100vw, 898px\" />  \\r\\n                    </a>\\r\\n                    <div class=\"post-content\">\\r\\n                                                        <a href=\"https://www.fijitimes.com.fj/category/uncategorized/\" rel=\"noopener\">Uncategorized</a>\\r\\n                                                        <a href=\"https://www.fijitimes.com.fj/no-halt-to-kava-export/\" class=\"ps-no-underline ps-leading-tight ps-text-blockBlack\" rel=\"noopener\">\\r\\n                                <h3 class=\"ps-no-underline ps-text-sm ps-leading-tight ps-font-semibold ps-mb-0 category-post-title\">\\xe2\\x80\\x98No halt to kava export\\xe2\\x80\\x99</h3>\\r\\n                            </a>\\r\\n                                                            <time class=\"ps-text-xs\">23 February, 2024</time>\\r\\n                                                </div>\\r\\n                                </article>\\r\\n                                <article>\\r\\n                                        <a href=\"https://www.fijitimes.com.fj/storm-join-fiji-book-drive/\" rel=\"noopener\">\\r\\n                        <img width=\"1888\" height=\"978\" src=\"https://www.fijitimes.com.fj/wp-content/uploads/2024/02/Kamikamica.jpg\" class=\"attachment-post-thumbnail size-post-thumbnail wp-post-image\" alt=\"\" decoding=\"async\" srcset=\"https://www.fijitimes.com.fj/wp-content/uploads/2024/02/Kamikamica.jpg 1888w, https://www.fijitimes.com.fj/wp-content/uploads/2024/02/Kamikamica-300x155.jpg 300w, https://www.fijitimes.com.fj/wp-content/uploads/2024/02/Kamikamica-1024x530.jpg 1024w, https://www.fijitimes.com.fj/wp-content/uploads/2024/02/Kamikamica-768x398.jpg 768w, https://www.fijitimes.com.fj/wp-content/uploads/2024/02/Kamikamica-1536x796.jpg 1536w\" sizes=\"(max-width: 1888px) 100vw, 1888px\" />  \\r\\n                    </a>\\r\\n                    <div class=\"post-content\">\\r\\n                                                        <a href=\"https://www.fijitimes.com.fj/category/uncategorized/\" rel=\"noopener\">Uncategorized</a>\\r\\n                                                        <a href=\"https://www.fijitimes.com.fj/storm-join-fiji-book-drive/\" class=\"ps-no-underline ps-leading-tight ps-text-blockBlack\" rel=\"noopener\">\\r\\n                                <h3 class=\"ps-no-underline ps-text-sm ps-leading-tight ps-font-semibold ps-mb-0 category-post-title\">Storm join Fiji book drive</h3>\\r\\n                            </a>\\r\\n                                                            <time class=\"ps-text-xs\">15 February, 2024</time>\\r\\n                                                </div>\\r\\n                                </article>\\r\\n                                <article>\\r\\n                                        <a href=\"https://www.fijitimes.com.fj/nfa-warns-schools-on-fire-safety/\" rel=\"noopener\">\\r\\n                        <img width=\"1600\" height=\"739\" src=\"https://www.fijitimes.com.fj/wp-content/uploads/2024/01/viber_image_2024-01-30_21-32-53-511.jpg\" class=\"attachment-post-thumbnail size-post-thumbnail wp-post-image\" alt=\"\" decoding=\"async\" srcset=\"https://www.fijitimes.com.fj/wp-content/uploads/2024/01/viber_image_2024-01-30_21-32-53-511.jpg 1600w, https://www.fijitimes.com.fj/wp-content/uploads/2024/01/viber_image_2024-01-30_21-32-53-511-300x139.jpg 300w, https://www.fijitimes.com.fj/wp-content/uploads/2024/01/viber_image_2024-01-30_21-32-53-511-1024x473.jpg 1024w, https://www.fijitimes.com.fj/wp-content/uploads/2024/01/viber_image_2024-01-30_21-32-53-511-768x355.jpg 768w, https://www.fijitimes.com.fj/wp-content/uploads/2024/01/viber_image_2024-01-30_21-32-53-511-1536x709.jpg 1536w\" sizes=\"(max-width: 1600px) 100vw, 1600px\" />  \\r\\n                    </a>\\r\\n                    <div class=\"post-content\">\\r\\n                                                        <a href=\"https://www.fijitimes.com.fj/category/uncategorized/\" rel=\"noopener\">Uncategorized</a>\\r\\n                                                        <a href=\"https://www.fijitimes.com.fj/nfa-warns-schools-on-fire-safety/\" class=\"ps-no-underline ps-leading-tight ps-text-blockBlack\" rel=\"noopener\">\\r\\n                                <h3 class=\"ps-no-underline ps-text-sm ps-leading-tight ps-font-semibold ps-mb-0 category-post-title\">NFA warns schools on fire safety</h3>\\r\\n                            </a>\\r\\n                                                            <time class=\"ps-text-xs\">2 February, 2024</time>\\r\\n                                                </div>\\r\\n                                </article>\\r\\n                                <article>\\r\\n                                        <a href=\"https://www.fijitimes.com.fj/2024-fifa-badge-for-narayan/\" rel=\"noopener\">\\r\\n                        <img width=\"1631\" height=\"1174\" src=\"https://www.fijitimes.com.fj/wp-content/uploads/2024/01/423224515_778959630923715_3183484661203554237_n.jpg\" class=\"attachment-post-thumbnail size-post-thumbnail wp-post-image\" alt=\"\" decoding=\"async\" loading=\"lazy\" srcset=\"https://www.fijitimes.com.fj/wp-content/uploads/2024/01/423224515_778959630923715_3183484661203554237_n.jpg 1631w, https://www.fijitimes.com.fj/wp-content/uploads/2024/01/423224515_778959630923715_3183484661203554237_n-300x216.jpg 300w, https://www.fijitimes.com.fj/wp-content/uploads/2024/01/423224515_778959630923715_3183484661203554237_n-1024x737.jpg 1024w, https://www.fijitimes.com.fj/wp-content/uploads/2024/01/423224515_778959630923715_3183484661203554237_n-768x553.jpg 768w, https://www.fijitimes.com.fj/wp-content/uploads/2024/01/423224515_778959630923715_3183484661203554237_n-1536x1106.jpg 1536w\" sizes=\"(max-width: 1631px) 100vw, 1631px\" />  \\r\\n                    </a>\\r\\n                    <div class=\"post-content\">\\r\\n                                                        <a href=\"https://www.fijitimes.com.fj/category/uncategorized/\" rel=\"noopener\">Uncategorized</a>\\r\\n                                                        <a href=\"https://www.fijitimes.com.fj/2024-fifa-badge-for-narayan/\" class=\"ps-no-underline ps-leading-tight ps-text-blockBlack\" rel=\"noopener\">\\r\\n                                <h3 class=\"ps-no-underline ps-text-sm ps-leading-tight ps-font-semibold ps-mb-0 category-post-title\">2024 FIFA badge for Narayan</h3>\\r\\n                            </a>\\r\\n                                                            <time class=\"ps-text-xs\">30 January, 2024</time>\\r\\n                                                </div>\\r\\n                                </article>\\r\\n                            </div> \\r\\n            \\r\\n                        \\r\\n    </div>\\r\\n\\r\\n</div>\\r\\n\\r\\n\\r\\n<footer class=\"print_hide wp-block-template-part\">\\r\\n<div class=\"wp-block-group is-layout-constrained wp-block-group-is-layout-constrained\"><footer id=\"fijitimes-footer\" class=\"container\">\\r\\n\\t\\t<div class=\"row\">\\t\\r\\n\\t\\t\\t<div class=\"col-md-4 col-sm-12\">\\r\\n\\t\\t\\t\\t<a href=\"https://www.fijitimes.com.fj/\" class=\"custom-logo-link\" rel=\"home\"><img loading=\"lazy\" width=\"400\" height=\"80\" src=\"https://www.fijitimes.com.fj/wp-content/uploads/2018/03/Fiji_Times_Logo.png\" class=\"custom-logo\" alt=\"The Fiji Times\" decoding=\"async\" srcset=\"https://www.fijitimes.com.fj/wp-content/uploads/2018/03/Fiji_Times_Logo.png 400w, https://www.fijitimes.com.fj/wp-content/uploads/2018/03/Fiji_Times_Logo-300x60.png 300w\" sizes=\"(max-width: 400px) 100vw, 400px\" /></a>\\t\\t\\t\\t<p class=\"copyright-text\">&copy; 2024 FijiTimes. All rights reserved.</p>\\r\\n\\t\\t\\t\\t<div class=\"d-flex flex-wrap gap-2 mb-3\">\\r\\n\\t\\t\\t\\t\\t<a href=\"https://www.facebook.com/fijitimesonline/\" target=\"_blank\" rel=\"noopener noreferrer\">\\r\\n\\t\\t\\t\\t\\t\\t<svg xmlns=\"http://www.w3.org/2000/svg\" width=\"14\" height=\"14\" fill=\"currentColor\" class=\"bi bi-facebook\" viewBox=\"0 0 16 16\">\\r\\n  \\t\\t\\t\\t\\t\\t\\t<path d=\"M16 8.049c0-4.446-3.582-8.05-8-8.05C3.58 0-.002 3.603-.002 8.05c0 4.017 2.926 7.347 6.75 7.951v-5.625h-2.03V8.05H6.75V6.275c0-2.017 1.195-3.131 3.022-3.131.876 0 1.791.157 1.791.157v1.98h-1.009c-.993 0-1.303.621-1.303 1.258v1.51h2.218l-.354 2.326H9.25V16c3.824-.604 6.75-3.934 6.75-7.951z\"/>\\r\\n\\t\\t\\t\\t\\t\\t</svg>\\r\\n\\t\\t\\t\\t\\t</a>\\r\\n\\t\\t\\t\\t\\t<a href=\"https://twitter.com/fijitimes/\" target=\"_blank\" rel=\"noopener noreferrer\">\\r\\n\\t\\t\\t\\t\\t\\t<svg xmlns=\"http://www.w3.org/2000/svg\" width=\"14\" height=\"14\" fill=\"currentColor\" class=\"bi bi-twitter\" viewBox=\"0 0 16 16\">\\r\\n\\t\\t\\t\\t\\t\\t\\t<path d=\"M5.026 15c6.038 0 9.341-5.003 9.341-9.334 0-.14 0-.282-.006-.422A6.685 6.685 0 0 0 16 3.542a6.658 6.658 0 0 1-1.889.518 3.301 3.301 0 0 0 1.447-1.817 6.533 6.533 0 0 1-2.087.793A3.286 3.286 0 0 0 7.875 6.03a9.325 9.325 0 0 1-6.767-3.429 3.289 3.289 0 0 0 1.018 4.382A3.323 3.323 0 0 1 .64 6.575v.045a3.288 3.288 0 0 0 2.632 3.218 3.203 3.203 0 0 1-.865.115 3.23 3.23 0 0 1-.614-.057 3.283 3.283 0 0 0 3.067 2.277A6.588 6.588 0 0 1 .78 13.58a6.32 6.32 0 0 1-.78-.045A9.344 9.344 0 0 0 5.026 15z\"/>\\r\\n\\t\\t\\t\\t\\t\\t</svg>\\r\\n\\t\\t\\t\\t\\t</a>\\r\\n\\r\\n\\t\\t\\t\\t\\t<a href=\"https://www.instagram.com/thefijitimes/\" target=\"_blank\" rel=\"noopener noreferrer\">\\r\\n\\t\\t\\t\\t\\t\\t<svg xmlns=\"http://www.w3.org/2000/svg\" width=\"14\" height=\"14\" fill=\"currentColor\" class=\"bi bi-instagram\" viewBox=\"0 0 16 16\">\\r\\n\\t\\t\\t\\t\\t\\t\\t<path d=\"M8 0C5.829 0 5.556.01 4.703.048 3.85.088 3.269.222 2.76.42a3.917 3.917 0 0 0-1.417.923A3.927 3.927 0 0 0 .42 2.76C.222 3.268.087 3.85.048 4.7.01 5.555 0 5.827 0 8.001c0 2.172.01 2.444.048 3.297.04.852.174 1.433.372 1.942.205.526.478.972.923 1.417.444.445.89.719 1.416.923.51.198 1.09.333 1.942.372C5.555 15.99 5.827 16 8 16s2.444-.01 3.298-.048c.851-.04 1.434-.174 1.943-.372a3.916 3.916 0 0 0 1.416-.923c.445-.445.718-.891.923-1.417.197-.509.332-1.09.372-1.942C15.99 10.445 16 10.173 16 8s-.01-2.445-.048-3.299c-.04-.851-.175-1.433-.372-1.941a3.926 3.926 0 0 0-.923-1.417A3.911 3.911 0 0 0 13.24.42c-.51-.198-1.092-.333-1.943-.372C10.443.01 10.172 0 7.998 0h.003zm-.717 1.442h.718c2.136 0 2.389.007 3.232.046.78.035 1.204.166 1.486.275.373.145.64.319.92.599.28.28.453.546.598.92.11.281.24.705.275 1.485.039.843.047 1.096.047 3.231s-.008 2.389-.047 3.232c-.035.78-.166 1.203-.275 1.485a2.47 2.47 0 0 1-.599.919c-.28.28-.546.453-.92.598-.28.11-.704.24-1.485.276-.843.038-1.096.047-3.232.047s-2.39-.009-3.233-.047c-.78-.036-1.203-.166-1.485-.276a2.478 2.478 0 0 1-.92-.598 2.48 2.48 0 0 1-.6-.92c-.109-.281-.24-.705-.275-1.485-.038-.843-.046-1.096-.046-3.233 0-2.136.008-2.388.046-3.231.036-.78.166-1.204.276-1.486.145-.373.319-.64.599-.92.28-.28.546-.453.92-.598.282-.11.705-.24 1.485-.276.738-.034 1.024-.044 2.515-.045v.002zm4.988 1.328a.96.96 0 1 0 0 1.92.96.96 0 0 0 0-1.92zm-4.27 1.122a4.109 4.109 0 1 0 0 8.217 4.109 4.109 0 0 0 0-8.217zm0 1.441a2.667 2.667 0 1 1 0 5.334 2.667 2.667 0 0 1 0-5.334z\"/>\\r\\n\\t\\t\\t\\t\\t\\t</svg>\\r\\n\\t\\t\\t\\t\\t</a>\\r\\n\\r\\n\\t\\t\\t\\t\\t<a href=\"https://www.linkedin.com/in/fijitimesonline/\" target=\"_blank\" rel=\"noopener noreferrer\">\\r\\n\\t\\t\\t\\t\\t\\t<svg xmlns=\"http://www.w3.org/2000/svg\" width=\"14\" height=\"14\" fill=\"currentColor\" class=\"bi bi-linkedin\" viewBox=\"0 0 16 16\">\\r\\n\\t\\t\\t\\t\\t\\t\\t<path d=\"M0 1.146C0 .513.526 0 1.175 0h13.65C15.474 0 16 .513 16 1.146v13.708c0 .633-.526 1.146-1.175 1.146H1.175C.526 16 0 15.487 0 14.854V1.146zm4.943 12.248V6.169H2.542v7.225h2.401zm-1.2-8.212c.837 0 1.358-.554 1.358-1.248-.015-.709-.52-1.248-1.342-1.248-.822 0-1.359.54-1.359 1.248 0 .694.521 1.248 1.327 1.248h.016zm4.908 8.212V9.359c0-.216.016-.432.08-.586.173-.431.568-.878 1.232-.878.869 0 1.216.662 1.216 1.634v3.865h2.401V9.25c0-2.22-1.184-3.252-2.764-3.252-1.274 0-1.845.7-2.165 1.193v.025h-.016a5.54 5.54 0 0 1 .016-.025V6.169h-2.4c.03.678 0 7.225 0 7.225h2.4z\"/>\\r\\n\\t\\t\\t\\t\\t\\t</svg>\\r\\n\\t\\t\\t\\t\\t</a>\\r\\n\\r\\n\\t\\t\\t\\t\\t<a href=\"https://www.fijitimes.com/feed/\" target=\"_blank\" rel=\"noopener\">\\r\\n\\t\\t\\t\\t\\t\\t<svg xmlns=\"http://www.w3.org/2000/svg\" width=\"14\" height=\"14\" fill=\"currentColor\" class=\"bi bi-rss-fill\" viewBox=\"0 0 16 16\">\\r\\n\\t\\t\\t\\t\\t\\t\\t<path d=\"M2 0a2 2 0 0 0-2 2v12a2 2 0 0 0 2 2h12a2 2 0 0 0 2-2V2a2 2 0 0 0-2-2H2zm1.5 2.5c5.523 0 10 4.477 10 10a1 1 0 1 1-2 0 8 8 0 0 0-8-8 1 1 0 0 1 0-2zm0 4a6 6 0 0 1 6 6 1 1 0 1 1-2 0 4 4 0 0 0-4-4 1 1 0 0 1 0-2zm.5 7a1.5 1.5 0 1 1 0-3 1.5 1.5 0 0 1 0 3z\"/>\\r\\n\\t\\t\\t\\t\\t\\t</svg>\\r\\n\\t\\t\\t\\t\\t</a>\\r\\n\\t\\t\\t\\t</div>\\t\\r\\n\\t\\t\\t</div> <!-- .col -->\\r\\n\\t\\t\\t<div class=\"col-md-4 col-sm-12\">\\r\\n\\t\\t\\t\\t<h5>Download our App</h5>\\r\\n\\t\\t\\t\\t<div class=\"download-app-wrapper\">\\r\\n\\t\\t\\t\\t\\t<a href=\"https://itunes.apple.com/gb/app/the-fiji-times/id1324959676?mt=8\" target=\"_blank\" title=\"FijiTimes IOS App\"><img decoding=\"async\" src=\"https://www.fijitimes.com.fj/wp-content/themes/fijitimes-fse/assets/ios-app.png\" alt=\"IOS app\" /></a>\\r\\n\\t\\t\\t\\t\\t<a href=\"https://play.google.com/store/apps/details?id=com.pagesuite.fijitimes&#038;hl=en_GB\" target=\"_blank\" title=\"FijiTimes Android App\"><img decoding=\"async\" src=\"https://www.fijitimes.com.fj/wp-content/themes/fijitimes-fse/assets/android-app.png\" alt=\"Android App\" /></a>\\r\\n\\t\\t\\t\\t</div>\\r\\n\\t\\t\\t</div> <!-- .col -->\\r\\n\\t\\t\\t<div class=\"col-md-4 col-sm-12\">\\r\\n\\t\\t\\t\\t<h5>Useful links</h5>\\r\\n\\t\\t\\t\\t\\t\\t\\t</div> <!-- .col -->\\r\\n\\t\\t</div> <!-- .row -->\\t \\r\\n\\t\\t<div class=\"row\">\\r\\n\\t\\t\\t<div class=\"col-md-12 site-powered-by-footer\">\\r\\n\\t\\t\\t\\t<p>Powered by <a href=\"https://www.pagesuite.com/\" rel=\"noopener noreferrer\" target=\"_blank\">PageSuite</a></p>\\r\\n\\t\\t\\t</div> <!-- .col -->\\r\\n\\t\\t</div> <!-- .row -->\\r\\n</footer><!-- #fijitimes-footer -->\\r\\n\\r\\n<div class=\"fijitimes-back-to-top\">\\r\\n\\t<button title=\"Go to top\">\\r\\n\\t\\t<i class=\"bi bi-chevron-up\"></i>\\t\\r\\n\\t</button>\\r\\n</div></div>\\r\\n\\r\\n</footer>\\r\\n</div>\\n\\n\\t\\t<style id=\"skip-link-styles\">\\n\\t\\t.skip-link.screen-reader-text {\\n\\t\\t\\tborder: 0;\\n\\t\\t\\tclip: rect(1px,1px,1px,1px);\\n\\t\\t\\tclip-path: inset(50%);\\n\\t\\t\\theight: 1px;\\n\\t\\t\\tmargin: -1px;\\n\\t\\t\\toverflow: hidden;\\n\\t\\t\\tpadding: 0;\\n\\t\\t\\tposition: absolute !important;\\n\\t\\t\\twidth: 1px;\\n\\t\\t\\tword-wrap: normal !important;\\n\\t\\t}\\n\\n\\t\\t.skip-link.screen-reader-text:focus {\\n\\t\\t\\tbackground-color: #eee;\\n\\t\\t\\tclip: auto !important;\\n\\t\\t\\tclip-path: none;\\n\\t\\t\\tcolor: #444;\\n\\t\\t\\tdisplay: block;\\n\\t\\t\\tfont-size: 1em;\\n\\t\\t\\theight: auto;\\n\\t\\t\\tleft: 5px;\\n\\t\\t\\tline-height: normal;\\n\\t\\t\\tpadding: 15px 23px 14px;\\n\\t\\t\\ttext-decoration: none;\\n\\t\\t\\ttop: 5px;\\n\\t\\t\\twidth: auto;\\n\\t\\t\\tz-index: 100000;\\n\\t\\t}\\n\\t</style>\\n\\t\\t<script>\\n\\t( function() {\\n\\t\\tvar skipLinkTarget = document.querySelector( \\'main\\' ),\\n\\t\\t\\tsibling,\\n\\t\\t\\tskipLinkTargetID,\\n\\t\\t\\tskipLink;\\n\\n\\t\\t// Early exit if a skip-link target can\\'t be located.\\n\\t\\tif ( ! skipLinkTarget ) {\\n\\t\\t\\treturn;\\n\\t\\t}\\n\\n\\t\\t/*\\n\\t\\t * Get the site wrapper.\\n\\t\\t * The skip-link will be injected in the beginning of it.\\n\\t\\t */\\n\\t\\tsibling = document.querySelector( \\'.wp-site-blocks\\' );\\n\\n\\t\\t// Early exit if the root element was not found.\\n\\t\\tif ( ! sibling ) {\\n\\t\\t\\treturn;\\n\\t\\t}\\n\\n\\t\\t// Get the skip-link target\\'s ID, and generate one if it doesn\\'t exist.\\n\\t\\tskipLinkTargetID = skipLinkTarget.id;\\n\\t\\tif ( ! skipLinkTargetID ) {\\n\\t\\t\\tskipLinkTargetID = \\'wp--skip-link--target\\';\\n\\t\\t\\tskipLinkTarget.id = skipLinkTargetID;\\n\\t\\t}\\n\\n\\t\\t// Create the skip link.\\n\\t\\tskipLink = document.createElement( \\'a\\' );\\n\\t\\tskipLink.classList.add( \\'skip-link\\', \\'screen-reader-text\\' );\\n\\t\\tskipLink.href = \\'#\\' + skipLinkTargetID;\\n\\t\\tskipLink.innerHTML = \\'Skip to content\\';\\n\\n\\t\\t// Inject the skip link.\\n\\t\\tsibling.parentElement.insertBefore( skipLink, sibling );\\n\\t}() );\\n\\t</script>\\n\\t<script src=\\'https://cdnjs.cloudflare.com/ajax/libs/lightbox2/2.11.4/js/lightbox.min.js?ver=1.5\\' id=\\'ps-lightbox2-scripts-js\\'></script>\\n<script id=\\'ps-block-scripts-js-extra\\'>\\nvar psparams = {\"ajaxurl\":\"https:\\\\/\\\\/www.fijitimes.com.fj\\\\/wp-admin\\\\/admin-ajax.php\",\"security\":\"1e8053dfbf\",\"posts_per_page\":\"20\"};\\n</script>\\n<script src=\\'https://www.fijitimes.com.fj/wp-content/plugins/pagesuite-blocks/build/index.js?ver=1.5\\' id=\\'ps-block-scripts-js\\'></script>\\n<script id=\\'fijitimes_main_script-js-extra\\'>\\nvar psData = {\"root_url\":\"https:\\\\/\\\\/www.fijitimes.com.fj\"};\\n</script>\\n<script src=\\'https://www.fijitimes.com.fj/wp-content/themes/fijitimes-fse/build/index.js?ver=6.3.2\\' id=\\'fijitimes_main_script-js\\'></script>\\n</body>\\n</html>\\n'"
      ]
     },
     "execution_count": 4,
     "metadata": {},
     "output_type": "execute_result"
    }
   ],
   "source": [
    "html_page"
   ]
  },
  {
   "cell_type": "code",
   "execution_count": 5,
   "metadata": {},
   "outputs": [
    {
     "data": {
      "text/plain": [
       "'\\n\\n\\n\\n\\n\\n\\nCopra trade ‘dying’ - The Fiji Times\\n\\n\\n\\n\\n\\n\\n\\n\\n\\n\\n\\n\\n\\n\\n\\n\\n\\n\\n\\n\\n\\n\\nCopra trade ‘dying’ - The Fiji Times\\n\\n\\n\\n\\n\\n\\n\\n\\n\\n\\n\\n\\n\\n\\n\\n\\n\\n\\n\\n\\n\\n\\n\\n\\n\\n\\n\\n\\n\\n\\n\\n\\n\\n\\n\\n\\n\\n\\n\\n\\n\\n\\n\\n\\n\\n\\n\\n\\n \\n \\n\\n\\n \\n \\n\\n\\nHome\\nNews\\n\\nLocal News\\nBusiness\\nRegional\\nPolitics\\nWorld\\n\\n\\nSport\\n\\nRugby\\nRugby League\\nFootball\\nNetball\\nCoca-Cola Games\\nFijian Drua\\nOther Sports\\n\\n\\nLifestyle\\n\\nCartoons\\nMusic\\nFashion Art\\nMotoring\\nBollybaat\\nThe Shopper\\nGames Puzzles\\nProperty Guide\\n\\n\\nKaila\\n\\nCompetitions\\nDYON\\n\\n\\nPeople\\nLocal Travel\\nDining & Entertainment\\nFijian Drua\\nOpinion\\n\\nArchive\\n\\nNai Lalakai\\n\\n\\nLetters To The Editors\\nEditors Comment\\nFrom The Crowd\\n\\n\\n\\n \\n\\n \\n\\n\\n\\n\\n\\n\\r\\n        Search\\r\\n        \\n\\n  \\n \\n \\n\\n\\n\\n\\n\\n\\n\\n\\n\\n\\n\\n \\n\\n\\n\\n\\n\\n\\n\\n\\n\\n\\n\\n\\n\\n\\n\\n\\n\\n\\n\\n\\nHome\\nNews\\n\\nLocal News\\nBusiness\\nRegional\\nPolitics\\nWorld\\n\\n\\nSport\\n\\nRugby\\nRugby League\\nFootball\\nNetball\\nCoca-Cola Games\\nFijian Drua\\nOther Sports\\n\\n\\nLifestyle\\n\\nCartoons\\nMusic\\nFashion Art\\nMotoring\\nBollybaat\\nThe Shopper\\nGames Puzzles\\nProperty Guide\\n\\n\\nKaila\\n\\nCompetitions\\nDYON\\n\\n\\nPeople\\nLocal Travel\\nDining & Entertainment\\nFijian Drua\\nOpinion\\n\\nArchive\\n\\nNai Lalakai\\n\\n\\nLetters To The Editors\\nEditors Comment\\nFrom The Crowd\\n\\n\\n\\n\\n\\n\\n\\n\\n\\n\\n\\nSearch\\n\\n\\n\\r\\n        Search\\r\\n        \\n\\n \\n\\n\\n\\n\\n\\n\\n\\n\\n\\n\\nCopra trade ‘dying’\\n\\n\\nLocal News, News        |\\r\\n    \\n\\nPublished: December 12, 2023        |\\r\\n    \\n\\nLast Updated: December 12, 2023        |\\r\\n    \\n  \\r\\n        By Serafina Silaitoga    \\n\\n\\n\\n\\nListen to this article: \\n\\n\\n\\n\\n\\n The copra mill in Labasa which processes copra and coconuts purchased from farmers in Cakaudrove. Picture SUPPLIED\\n\\n\\n\\nCopra farmers in Cakaudrove have questioned the Government’s appointment of the new board and management of Fiji Coconut Millers Ltd.\\nThe farmers are concerned about issues that followed the appointment, including the absence of copra deals over the past two months. Frustrated farmers have called on the Government to fix the problem because the issues never arose with the previous board and management.\\nFarmer Karl Smith described “the new board and management as an incompetent team because the dying industry was suffering in their hands”.\\n“This has never happened before. Since the appointment of the new management and board, the situation has gotten worse. This is terrible,” he said.\\n“In this industry, 10 per cent of copra comes from freehold land while 90 per cent comes from the villages, so it’s the indigenous community that is directly affected.\\n“Our copra has not been purchased for the past two months and some farmers have had to transport their copra by boat from the villages and travel close to Savusavu to get to the mill.”\\nMr Smith has called on the Government to urgently look into this issue.\\nMinistry of Public Enterprise permanent secretary Parmesh Chand said earlier this year, the boiler at the mill exploded which resulted in ‘no oil production from February this year’.\\n“Despite this, the company with the assistance of the Government continued to show commitment to the farmers by buying whole-nuts, raw and dry copra in areas around the Cakaudrove province,” he said.\\n“Through proper planning and implementation of effective strategies by the board and management, the factory in Savusavu commenced oil production on October 30, 2023.\\n“Therefore, there was no buying of whole-nuts, raw and dry copra from farmers for seven days only, that is from November 10-17, 2023.”\\nFarmers in Cakaudrove any closure advisory, pleading with the Government to improve services.\\n\\n\\n\\n\\n\\n\\n\\n\\n\\n\\n\\n\\n\\n\\n\\n\\n\\n\\n\\n\\n\\n\\n\\n\\n\\n\\n\\n\\n\\n\\n\\n\\n\\n\\n\\n                Amount of FJD:\\n                \\n\\n\\n                Convert To:\\n                \\nAustralian DollarCanadian DollarChinese YuanEuroU.K. Pound SterlingHong Kong DollarIndonesian RupiahIndian RupeeJapanese YenSouth Korean WonMalaysian RinggitNew Zealand DollarPhilippine PesoSingapore DollarThai BahtNew Taiwan Dollar U.S. DollarVietnamese DongSwiss FrancDanish KroneNigerian NairaSaudi RiyalCentral African CFA FrancWest African CFA FrancSouth African RandU.A.E DirhamBulgarian LevBrazilian RealCzech KorunaEgyptian PoundHungarian ForintMoldova LeiMexican PesoNorwegian KronePolish ZlotyRomanian New LeuSerbian DinarRussian RoubleSwedish KronaTurkish LiraUkrainian HryvniaIsraeli New SheqelJordanian DinarLebanese PoundChilean PesoIcelandic KronaArmenia DramAzerbaijan ManatBangladeshi takaDominican PesoAlgerian DinarGeorgian lariIraqi dinarIranian rialKyrgyzstan SomKazakhstani TengeLibyan DinarMoroccan DirhamPakistani RupeeTajikistan RubleNew Turkmenistan ManatTunisian DinarUzbekistan SumBelarussian RubleVenezuelan BolivarPeruvian Nuevo SolArgentine PesoBolivian BolivianoColombian PesoCosta Rican ColónHaitian gourdePanamanian BalboaParaguayan GuaraníUruguayan PesoAfghan afghaniAlbanian lekNeth. Antillean GuilderAngolan kwanzaAruban florinBosnia and Herzegovina convertible markBarbadian DollarBahrain DinarBurundian francBrunei DollarBahamian DollarBotswana PulaBelize dollarCongolese francCuban pesoCape Verde escudoDjiboutian francEritrean nakfaEthiopian birrGhanaian CediGibraltar poundGambian dalasiGuinean francGuatemalan QuetzalGuyanese dollarHonduran LempiraJamaican DollarKenyan shillingCambodian riel\\tComoro francKuwaiti DinarLao kipSri Lanka RupeeLiberian dollarLesotho lotiMalagasy ariaryMacedonian denarMyanma KyatMongolian togrogMacanese patacaMauritanian ouguiyaMauritian RupeeMaldivian rufiyaaMalawian kwachaMozambican meticalNamibian dollarNicaraguan CórdobaNepalese RupeeOmani RialPapua New Guinean kinaQatari RialRwandan francSolomon Islands dollarSeychelles rupeeSudanese poundSomali shillingSurinamese dollarSouth Sudanese poundSão Tomé and Príncipe DobraSalvadoran colonSyrian poundSwazi lilangeniTongan paʻangaTrinidad Tobago DollarTanzanian shillingUgandan shillingVanuatu vatuSamoan talaEast Caribbean DollarCFP FrancYemeni rialZambian kwacha \\n\\n\\n\\n\\n                Receive:\\n                \\n\\n\\n\\n\\n\\n\\n\\n\\n\\n\\n\\n\\nArray\\n(\\n    [post_type] => post\\n    [post_status] => publish\\n    [orderby] => date\\n    [order] => DESC\\n    [update_post_term_cache] => \\n    [update_post_meta_cache] => \\n    [cache_results] => \\n    [category__in] => 1\\n    [posts_per_page] => 4\\n    [offset] => 0\\n    [no_found_rows] => 1\\n    [date_query] => Array\\n        (\\n            [0] => Array\\n                (\\n                    [after] => Array\\n                        (\\n                            [year] => 2023\\n                            [month] => 12\\n                            [day] => 02\\n                        )\\n\\n                    [inclusive] => 1\\n                )\\n\\n        )\\n\\n)\\n\\n\\n\\nUK News\\n\\n\\n\\n\\n\\n\\nUncategorized\\n\\n‘No halt to kava export’\\n\\n23 February, 2024\\n\\n\\n\\n\\n\\n\\n\\nUncategorized\\n\\nStorm join Fiji book drive\\n\\n15 February, 2024\\n\\n\\n\\n\\n\\n\\n\\nUncategorized\\n\\nNFA warns schools on fire safety\\n\\n2 February, 2024\\n\\n\\n\\n\\n\\n\\n\\nUncategorized\\n\\n2024 FIFA badge for Narayan\\n\\n30 January, 2024\\n\\n\\n\\n\\n\\n\\n\\n\\n\\n © 2024 FijiTimes. All rights reserved.\\n\\n\\n\\n\\n\\n\\n\\n\\n\\n\\n\\n\\n\\n\\n\\n\\n\\n\\n\\n\\n\\n\\n\\n\\n\\n\\n\\n \\n\\nDownload our App\\n\\n\\n\\n\\n \\n\\nUseful links\\n \\n \\n\\n\\nPowered by PageSuite\\n \\n \\n\\n\\n\\n\\n\\n\\n\\n\\n\\n\\n\\n\\n\\n\\n\\n\\n\\n'"
      ]
     },
     "execution_count": 5,
     "metadata": {},
     "output_type": "execute_result"
    }
   ],
   "source": [
    "text_content"
   ]
  },
  {
   "cell_type": "code",
   "execution_count": 10,
   "metadata": {},
   "outputs": [
    {
     "name": "stderr",
     "output_type": "stream",
     "text": [
      "c:\\Users\\sahil\\AppData\\Local\\Programs\\Python\\Python311\\Lib\\site-packages\\urllib3\\connectionpool.py:1045: InsecureRequestWarning: Unverified HTTPS request is being made to host 'news.google.com'. Adding certificate verification is strongly advised. See: https://urllib3.readthedocs.io/en/1.26.x/advanced-usage.html#ssl-warnings\n",
      "  warnings.warn(\n",
      "c:\\Users\\sahil\\AppData\\Local\\Programs\\Python\\Python311\\Lib\\site-packages\\urllib3\\connectionpool.py:1045: InsecureRequestWarning: Unverified HTTPS request is being made to host 'sfbaytimes.com'. Adding certificate verification is strongly advised. See: https://urllib3.readthedocs.io/en/1.26.x/advanced-usage.html#ssl-warnings\n",
      "  warnings.warn(\n"
     ]
    },
    {
     "name": "stdout",
     "output_type": "stream",
     "text": [
      "<class 'str'>\n",
      "saved\n"
     ]
    },
    {
     "name": "stderr",
     "output_type": "stream",
     "text": [
      "c:\\Users\\sahil\\AppData\\Local\\Programs\\Python\\Python311\\Lib\\site-packages\\urllib3\\connectionpool.py:1045: InsecureRequestWarning: Unverified HTTPS request is being made to host 'news.google.com'. Adding certificate verification is strongly advised. See: https://urllib3.readthedocs.io/en/1.26.x/advanced-usage.html#ssl-warnings\n",
      "  warnings.warn(\n",
      "c:\\Users\\sahil\\AppData\\Local\\Programs\\Python\\Python311\\Lib\\site-packages\\urllib3\\connectionpool.py:1045: InsecureRequestWarning: Unverified HTTPS request is being made to host 'www.theinfatuation.com'. Adding certificate verification is strongly advised. See: https://urllib3.readthedocs.io/en/1.26.x/advanced-usage.html#ssl-warnings\n",
      "  warnings.warn(\n"
     ]
    },
    {
     "name": "stdout",
     "output_type": "stream",
     "text": [
      "<class 'str'>\n",
      "saved\n"
     ]
    },
    {
     "name": "stderr",
     "output_type": "stream",
     "text": [
      "c:\\Users\\sahil\\AppData\\Local\\Programs\\Python\\Python311\\Lib\\site-packages\\urllib3\\connectionpool.py:1045: InsecureRequestWarning: Unverified HTTPS request is being made to host 'news.google.com'. Adding certificate verification is strongly advised. See: https://urllib3.readthedocs.io/en/1.26.x/advanced-usage.html#ssl-warnings\n",
      "  warnings.warn(\n",
      "c:\\Users\\sahil\\AppData\\Local\\Programs\\Python\\Python311\\Lib\\site-packages\\urllib3\\connectionpool.py:1045: InsecureRequestWarning: Unverified HTTPS request is being made to host 'www.sfchronicle.com'. Adding certificate verification is strongly advised. See: https://urllib3.readthedocs.io/en/1.26.x/advanced-usage.html#ssl-warnings\n",
      "  warnings.warn(\n"
     ]
    },
    {
     "name": "stdout",
     "output_type": "stream",
     "text": [
      "Error fetching data from https://news.google.com/rss/articles/CBMiXGh0dHBzOi8vd3d3LnNmY2hyb25pY2xlLmNvbS9mb29kL3Jlc3RhdXJhbnRzL2FydGljbGUvY29wcmEtaW5kaWFuLXNhbi1mcmFuY2lzY28tMTc4OTQxMzkucGhw0gEA?oc=5&hl=en-IN&gl=IN&ceid=IN:en: 403 Client Error: Forbidden for url: https://www.sfchronicle.com/food/restaurants/article/copra-indian-san-francisco-17894139.php\n"
     ]
    },
    {
     "name": "stderr",
     "output_type": "stream",
     "text": [
      "c:\\Users\\sahil\\AppData\\Local\\Programs\\Python\\Python311\\Lib\\site-packages\\urllib3\\connectionpool.py:1045: InsecureRequestWarning: Unverified HTTPS request is being made to host 'news.google.com'. Adding certificate verification is strongly advised. See: https://urllib3.readthedocs.io/en/1.26.x/advanced-usage.html#ssl-warnings\n",
      "  warnings.warn(\n",
      "c:\\Users\\sahil\\AppData\\Local\\Programs\\Python\\Python311\\Lib\\site-packages\\urllib3\\connectionpool.py:1045: InsecureRequestWarning: Unverified HTTPS request is being made to host 'www.cbr.com'. Adding certificate verification is strongly advised. See: https://urllib3.readthedocs.io/en/1.26.x/advanced-usage.html#ssl-warnings\n",
      "  warnings.warn(\n"
     ]
    },
    {
     "name": "stdout",
     "output_type": "stream",
     "text": [
      "Error fetching data from https://news.google.com/rss/articles/CBMiMWh0dHBzOi8vd3d3LmNici5jb20vY29wcmEtbWljaGVsLWZpZmZlLWludGVydmlldy_SAQA?oc=5&hl=en-IN&gl=IN&ceid=IN:en: ('Connection aborted.', RemoteDisconnected('Remote end closed connection without response'))\n"
     ]
    },
    {
     "name": "stderr",
     "output_type": "stream",
     "text": [
      "c:\\Users\\sahil\\AppData\\Local\\Programs\\Python\\Python311\\Lib\\site-packages\\urllib3\\connectionpool.py:1045: InsecureRequestWarning: Unverified HTTPS request is being made to host 'news.google.com'. Adding certificate verification is strongly advised. See: https://urllib3.readthedocs.io/en/1.26.x/advanced-usage.html#ssl-warnings\n",
      "  warnings.warn(\n",
      "c:\\Users\\sahil\\AppData\\Local\\Programs\\Python\\Python311\\Lib\\site-packages\\urllib3\\connectionpool.py:1045: InsecureRequestWarning: Unverified HTTPS request is being made to host 'thebolditalic.com'. Adding certificate verification is strongly advised. See: https://urllib3.readthedocs.io/en/1.26.x/advanced-usage.html#ssl-warnings\n",
      "  warnings.warn(\n",
      "c:\\Users\\sahil\\AppData\\Local\\Programs\\Python\\Python311\\Lib\\site-packages\\urllib3\\connectionpool.py:1045: InsecureRequestWarning: Unverified HTTPS request is being made to host 'medium.com'. Adding certificate verification is strongly advised. See: https://urllib3.readthedocs.io/en/1.26.x/advanced-usage.html#ssl-warnings\n",
      "  warnings.warn(\n",
      "c:\\Users\\sahil\\AppData\\Local\\Programs\\Python\\Python311\\Lib\\site-packages\\urllib3\\connectionpool.py:1045: InsecureRequestWarning: Unverified HTTPS request is being made to host 'thebolditalic.com'. Adding certificate verification is strongly advised. See: https://urllib3.readthedocs.io/en/1.26.x/advanced-usage.html#ssl-warnings\n",
      "  warnings.warn(\n"
     ]
    },
    {
     "name": "stdout",
     "output_type": "stream",
     "text": [
      "<class 'str'>\n",
      "saved\n"
     ]
    },
    {
     "name": "stderr",
     "output_type": "stream",
     "text": [
      "c:\\Users\\sahil\\AppData\\Local\\Programs\\Python\\Python311\\Lib\\site-packages\\urllib3\\connectionpool.py:1045: InsecureRequestWarning: Unverified HTTPS request is being made to host 'news.google.com'. Adding certificate verification is strongly advised. See: https://urllib3.readthedocs.io/en/1.26.x/advanced-usage.html#ssl-warnings\n",
      "  warnings.warn(\n",
      "c:\\Users\\sahil\\AppData\\Local\\Programs\\Python\\Python311\\Lib\\site-packages\\urllib3\\connectionpool.py:1045: InsecureRequestWarning: Unverified HTTPS request is being made to host 'www.thehindu.com'. Adding certificate verification is strongly advised. See: https://urllib3.readthedocs.io/en/1.26.x/advanced-usage.html#ssl-warnings\n",
      "  warnings.warn(\n"
     ]
    },
    {
     "name": "stdout",
     "output_type": "stream",
     "text": [
      "<class 'str'>\n",
      "saved\n"
     ]
    },
    {
     "name": "stderr",
     "output_type": "stream",
     "text": [
      "c:\\Users\\sahil\\AppData\\Local\\Programs\\Python\\Python311\\Lib\\site-packages\\urllib3\\connectionpool.py:1045: InsecureRequestWarning: Unverified HTTPS request is being made to host 'news.google.com'. Adding certificate verification is strongly advised. See: https://urllib3.readthedocs.io/en/1.26.x/advanced-usage.html#ssl-warnings\n",
      "  warnings.warn(\n",
      "c:\\Users\\sahil\\AppData\\Local\\Programs\\Python\\Python311\\Lib\\site-packages\\urllib3\\connectionpool.py:1045: InsecureRequestWarning: Unverified HTTPS request is being made to host 'indiacurrents.com'. Adding certificate verification is strongly advised. See: https://urllib3.readthedocs.io/en/1.26.x/advanced-usage.html#ssl-warnings\n",
      "  warnings.warn(\n"
     ]
    },
    {
     "name": "stdout",
     "output_type": "stream",
     "text": [
      "<class 'str'>\n",
      "saved\n"
     ]
    },
    {
     "name": "stderr",
     "output_type": "stream",
     "text": [
      "c:\\Users\\sahil\\AppData\\Local\\Programs\\Python\\Python311\\Lib\\site-packages\\urllib3\\connectionpool.py:1045: InsecureRequestWarning: Unverified HTTPS request is being made to host 'news.google.com'. Adding certificate verification is strongly advised. See: https://urllib3.readthedocs.io/en/1.26.x/advanced-usage.html#ssl-warnings\n",
      "  warnings.warn(\n",
      "c:\\Users\\sahil\\AppData\\Local\\Programs\\Python\\Python311\\Lib\\site-packages\\urllib3\\connectionpool.py:1045: InsecureRequestWarning: Unverified HTTPS request is being made to host 'www.deccanherald.com'. Adding certificate verification is strongly advised. See: https://urllib3.readthedocs.io/en/1.26.x/advanced-usage.html#ssl-warnings\n",
      "  warnings.warn(\n"
     ]
    },
    {
     "name": "stdout",
     "output_type": "stream",
     "text": [
      "<class 'str'>\n",
      "saved\n"
     ]
    },
    {
     "name": "stderr",
     "output_type": "stream",
     "text": [
      "c:\\Users\\sahil\\AppData\\Local\\Programs\\Python\\Python311\\Lib\\site-packages\\urllib3\\connectionpool.py:1045: InsecureRequestWarning: Unverified HTTPS request is being made to host 'news.google.com'. Adding certificate verification is strongly advised. See: https://urllib3.readthedocs.io/en/1.26.x/advanced-usage.html#ssl-warnings\n",
      "  warnings.warn(\n",
      "c:\\Users\\sahil\\AppData\\Local\\Programs\\Python\\Python311\\Lib\\site-packages\\urllib3\\connectionpool.py:1045: InsecureRequestWarning: Unverified HTTPS request is being made to host 'www.globenewswire.com'. Adding certificate verification is strongly advised. See: https://urllib3.readthedocs.io/en/1.26.x/advanced-usage.html#ssl-warnings\n",
      "  warnings.warn(\n"
     ]
    },
    {
     "name": "stdout",
     "output_type": "stream",
     "text": [
      "<class 'str'>\n",
      "saved\n"
     ]
    },
    {
     "name": "stderr",
     "output_type": "stream",
     "text": [
      "c:\\Users\\sahil\\AppData\\Local\\Programs\\Python\\Python311\\Lib\\site-packages\\urllib3\\connectionpool.py:1045: InsecureRequestWarning: Unverified HTTPS request is being made to host 'news.google.com'. Adding certificate verification is strongly advised. See: https://urllib3.readthedocs.io/en/1.26.x/advanced-usage.html#ssl-warnings\n",
      "  warnings.warn(\n",
      "c:\\Users\\sahil\\AppData\\Local\\Programs\\Python\\Python311\\Lib\\site-packages\\urllib3\\connectionpool.py:1045: InsecureRequestWarning: Unverified HTTPS request is being made to host 'viacampesina.org'. Adding certificate verification is strongly advised. See: https://urllib3.readthedocs.io/en/1.26.x/advanced-usage.html#ssl-warnings\n",
      "  warnings.warn(\n"
     ]
    },
    {
     "name": "stdout",
     "output_type": "stream",
     "text": [
      "<class 'str'>\n",
      "saved\n"
     ]
    },
    {
     "name": "stderr",
     "output_type": "stream",
     "text": [
      "c:\\Users\\sahil\\AppData\\Local\\Programs\\Python\\Python311\\Lib\\site-packages\\urllib3\\connectionpool.py:1045: InsecureRequestWarning: Unverified HTTPS request is being made to host 'news.google.com'. Adding certificate verification is strongly advised. See: https://urllib3.readthedocs.io/en/1.26.x/advanced-usage.html#ssl-warnings\n",
      "  warnings.warn(\n",
      "c:\\Users\\sahil\\AppData\\Local\\Programs\\Python\\Python311\\Lib\\site-packages\\urllib3\\connectionpool.py:1045: InsecureRequestWarning: Unverified HTTPS request is being made to host 'www.cnbctv18.com'. Adding certificate verification is strongly advised. See: https://urllib3.readthedocs.io/en/1.26.x/advanced-usage.html#ssl-warnings\n",
      "  warnings.warn(\n"
     ]
    },
    {
     "name": "stdout",
     "output_type": "stream",
     "text": [
      "<class 'str'>\n",
      "saved\n"
     ]
    },
    {
     "name": "stderr",
     "output_type": "stream",
     "text": [
      "c:\\Users\\sahil\\AppData\\Local\\Programs\\Python\\Python311\\Lib\\site-packages\\urllib3\\connectionpool.py:1045: InsecureRequestWarning: Unverified HTTPS request is being made to host 'news.google.com'. Adding certificate verification is strongly advised. See: https://urllib3.readthedocs.io/en/1.26.x/advanced-usage.html#ssl-warnings\n",
      "  warnings.warn(\n",
      "c:\\Users\\sahil\\AppData\\Local\\Programs\\Python\\Python311\\Lib\\site-packages\\urllib3\\connectionpool.py:1045: InsecureRequestWarning: Unverified HTTPS request is being made to host 'sf.eater.com'. Adding certificate verification is strongly advised. See: https://urllib3.readthedocs.io/en/1.26.x/advanced-usage.html#ssl-warnings\n",
      "  warnings.warn(\n"
     ]
    },
    {
     "name": "stdout",
     "output_type": "stream",
     "text": [
      "<class 'str'>\n",
      "saved\n"
     ]
    },
    {
     "name": "stderr",
     "output_type": "stream",
     "text": [
      "c:\\Users\\sahil\\AppData\\Local\\Programs\\Python\\Python311\\Lib\\site-packages\\urllib3\\connectionpool.py:1045: InsecureRequestWarning: Unverified HTTPS request is being made to host 'news.google.com'. Adding certificate verification is strongly advised. See: https://urllib3.readthedocs.io/en/1.26.x/advanced-usage.html#ssl-warnings\n",
      "  warnings.warn(\n",
      "c:\\Users\\sahil\\AppData\\Local\\Programs\\Python\\Python311\\Lib\\site-packages\\urllib3\\connectionpool.py:1045: InsecureRequestWarning: Unverified HTTPS request is being made to host 'timesofindia.indiatimes.com'. Adding certificate verification is strongly advised. See: https://urllib3.readthedocs.io/en/1.26.x/advanced-usage.html#ssl-warnings\n",
      "  warnings.warn(\n"
     ]
    },
    {
     "name": "stdout",
     "output_type": "stream",
     "text": [
      "<class 'str'>\n",
      "saved\n"
     ]
    },
    {
     "name": "stderr",
     "output_type": "stream",
     "text": [
      "c:\\Users\\sahil\\AppData\\Local\\Programs\\Python\\Python311\\Lib\\site-packages\\urllib3\\connectionpool.py:1045: InsecureRequestWarning: Unverified HTTPS request is being made to host 'news.google.com'. Adding certificate verification is strongly advised. See: https://urllib3.readthedocs.io/en/1.26.x/advanced-usage.html#ssl-warnings\n",
      "  warnings.warn(\n",
      "c:\\Users\\sahil\\AppData\\Local\\Programs\\Python\\Python311\\Lib\\site-packages\\urllib3\\connectionpool.py:1045: InsecureRequestWarning: Unverified HTTPS request is being made to host 'www.thehindu.com'. Adding certificate verification is strongly advised. See: https://urllib3.readthedocs.io/en/1.26.x/advanced-usage.html#ssl-warnings\n",
      "  warnings.warn(\n"
     ]
    },
    {
     "name": "stdout",
     "output_type": "stream",
     "text": [
      "<class 'str'>\n",
      "saved\n"
     ]
    },
    {
     "name": "stderr",
     "output_type": "stream",
     "text": [
      "c:\\Users\\sahil\\AppData\\Local\\Programs\\Python\\Python311\\Lib\\site-packages\\urllib3\\connectionpool.py:1045: InsecureRequestWarning: Unverified HTTPS request is being made to host 'news.google.com'. Adding certificate verification is strongly advised. See: https://urllib3.readthedocs.io/en/1.26.x/advanced-usage.html#ssl-warnings\n",
      "  warnings.warn(\n",
      "c:\\Users\\sahil\\AppData\\Local\\Programs\\Python\\Python311\\Lib\\site-packages\\urllib3\\connectionpool.py:1045: InsecureRequestWarning: Unverified HTTPS request is being made to host 'www.deccanherald.com'. Adding certificate verification is strongly advised. See: https://urllib3.readthedocs.io/en/1.26.x/advanced-usage.html#ssl-warnings\n",
      "  warnings.warn(\n"
     ]
    },
    {
     "name": "stdout",
     "output_type": "stream",
     "text": [
      "<class 'str'>\n",
      "saved\n"
     ]
    },
    {
     "name": "stderr",
     "output_type": "stream",
     "text": [
      "c:\\Users\\sahil\\AppData\\Local\\Programs\\Python\\Python311\\Lib\\site-packages\\urllib3\\connectionpool.py:1045: InsecureRequestWarning: Unverified HTTPS request is being made to host 'news.google.com'. Adding certificate verification is strongly advised. See: https://urllib3.readthedocs.io/en/1.26.x/advanced-usage.html#ssl-warnings\n",
      "  warnings.warn(\n",
      "c:\\Users\\sahil\\AppData\\Local\\Programs\\Python\\Python311\\Lib\\site-packages\\urllib3\\connectionpool.py:1045: InsecureRequestWarning: Unverified HTTPS request is being made to host 'www.theinfatuation.com'. Adding certificate verification is strongly advised. See: https://urllib3.readthedocs.io/en/1.26.x/advanced-usage.html#ssl-warnings\n",
      "  warnings.warn(\n"
     ]
    },
    {
     "name": "stdout",
     "output_type": "stream",
     "text": [
      "<class 'str'>\n",
      "saved\n"
     ]
    },
    {
     "name": "stderr",
     "output_type": "stream",
     "text": [
      "c:\\Users\\sahil\\AppData\\Local\\Programs\\Python\\Python311\\Lib\\site-packages\\urllib3\\connectionpool.py:1045: InsecureRequestWarning: Unverified HTTPS request is being made to host 'news.google.com'. Adding certificate verification is strongly advised. See: https://urllib3.readthedocs.io/en/1.26.x/advanced-usage.html#ssl-warnings\n",
      "  warnings.warn(\n",
      "c:\\Users\\sahil\\AppData\\Local\\Programs\\Python\\Python311\\Lib\\site-packages\\urllib3\\connectionpool.py:1045: InsecureRequestWarning: Unverified HTTPS request is being made to host 'www.thehindu.com'. Adding certificate verification is strongly advised. See: https://urllib3.readthedocs.io/en/1.26.x/advanced-usage.html#ssl-warnings\n",
      "  warnings.warn(\n"
     ]
    },
    {
     "name": "stdout",
     "output_type": "stream",
     "text": [
      "<class 'str'>\n",
      "saved\n"
     ]
    },
    {
     "name": "stderr",
     "output_type": "stream",
     "text": [
      "c:\\Users\\sahil\\AppData\\Local\\Programs\\Python\\Python311\\Lib\\site-packages\\urllib3\\connectionpool.py:1045: InsecureRequestWarning: Unverified HTTPS request is being made to host 'news.google.com'. Adding certificate verification is strongly advised. See: https://urllib3.readthedocs.io/en/1.26.x/advanced-usage.html#ssl-warnings\n",
      "  warnings.warn(\n",
      "c:\\Users\\sahil\\AppData\\Local\\Programs\\Python\\Python311\\Lib\\site-packages\\urllib3\\connectionpool.py:1045: InsecureRequestWarning: Unverified HTTPS request is being made to host 'www.thehindu.com'. Adding certificate verification is strongly advised. See: https://urllib3.readthedocs.io/en/1.26.x/advanced-usage.html#ssl-warnings\n",
      "  warnings.warn(\n"
     ]
    },
    {
     "name": "stdout",
     "output_type": "stream",
     "text": [
      "<class 'str'>\n",
      "saved\n"
     ]
    },
    {
     "name": "stderr",
     "output_type": "stream",
     "text": [
      "c:\\Users\\sahil\\AppData\\Local\\Programs\\Python\\Python311\\Lib\\site-packages\\urllib3\\connectionpool.py:1045: InsecureRequestWarning: Unverified HTTPS request is being made to host 'news.google.com'. Adding certificate verification is strongly advised. See: https://urllib3.readthedocs.io/en/1.26.x/advanced-usage.html#ssl-warnings\n",
      "  warnings.warn(\n",
      "c:\\Users\\sahil\\AppData\\Local\\Programs\\Python\\Python311\\Lib\\site-packages\\urllib3\\connectionpool.py:1045: InsecureRequestWarning: Unverified HTTPS request is being made to host 'www.thehindu.com'. Adding certificate verification is strongly advised. See: https://urllib3.readthedocs.io/en/1.26.x/advanced-usage.html#ssl-warnings\n",
      "  warnings.warn(\n"
     ]
    },
    {
     "name": "stdout",
     "output_type": "stream",
     "text": [
      "<class 'str'>\n",
      "saved\n"
     ]
    },
    {
     "name": "stderr",
     "output_type": "stream",
     "text": [
      "c:\\Users\\sahil\\AppData\\Local\\Programs\\Python\\Python311\\Lib\\site-packages\\urllib3\\connectionpool.py:1045: InsecureRequestWarning: Unverified HTTPS request is being made to host 'news.google.com'. Adding certificate verification is strongly advised. See: https://urllib3.readthedocs.io/en/1.26.x/advanced-usage.html#ssl-warnings\n",
      "  warnings.warn(\n",
      "c:\\Users\\sahil\\AppData\\Local\\Programs\\Python\\Python311\\Lib\\site-packages\\urllib3\\connectionpool.py:1045: InsecureRequestWarning: Unverified HTTPS request is being made to host 'www.cntraveller.in'. Adding certificate verification is strongly advised. See: https://urllib3.readthedocs.io/en/1.26.x/advanced-usage.html#ssl-warnings\n",
      "  warnings.warn(\n"
     ]
    },
    {
     "name": "stdout",
     "output_type": "stream",
     "text": [
      "<class 'str'>\n",
      "saved\n"
     ]
    },
    {
     "name": "stderr",
     "output_type": "stream",
     "text": [
      "c:\\Users\\sahil\\AppData\\Local\\Programs\\Python\\Python311\\Lib\\site-packages\\urllib3\\connectionpool.py:1045: InsecureRequestWarning: Unverified HTTPS request is being made to host 'news.google.com'. Adding certificate verification is strongly advised. See: https://urllib3.readthedocs.io/en/1.26.x/advanced-usage.html#ssl-warnings\n",
      "  warnings.warn(\n",
      "c:\\Users\\sahil\\AppData\\Local\\Programs\\Python\\Python311\\Lib\\site-packages\\urllib3\\connectionpool.py:1045: InsecureRequestWarning: Unverified HTTPS request is being made to host 'www.thehindu.com'. Adding certificate verification is strongly advised. See: https://urllib3.readthedocs.io/en/1.26.x/advanced-usage.html#ssl-warnings\n",
      "  warnings.warn(\n"
     ]
    },
    {
     "name": "stdout",
     "output_type": "stream",
     "text": [
      "<class 'str'>\n",
      "saved\n"
     ]
    },
    {
     "name": "stderr",
     "output_type": "stream",
     "text": [
      "c:\\Users\\sahil\\AppData\\Local\\Programs\\Python\\Python311\\Lib\\site-packages\\urllib3\\connectionpool.py:1045: InsecureRequestWarning: Unverified HTTPS request is being made to host 'news.google.com'. Adding certificate verification is strongly advised. See: https://urllib3.readthedocs.io/en/1.26.x/advanced-usage.html#ssl-warnings\n",
      "  warnings.warn(\n",
      "c:\\Users\\sahil\\AppData\\Local\\Programs\\Python\\Python311\\Lib\\site-packages\\urllib3\\connectionpool.py:1045: InsecureRequestWarning: Unverified HTTPS request is being made to host 'www.deccanherald.com'. Adding certificate verification is strongly advised. See: https://urllib3.readthedocs.io/en/1.26.x/advanced-usage.html#ssl-warnings\n",
      "  warnings.warn(\n"
     ]
    },
    {
     "name": "stdout",
     "output_type": "stream",
     "text": [
      "<class 'str'>\n",
      "saved\n"
     ]
    },
    {
     "name": "stderr",
     "output_type": "stream",
     "text": [
      "c:\\Users\\sahil\\AppData\\Local\\Programs\\Python\\Python311\\Lib\\site-packages\\urllib3\\connectionpool.py:1045: InsecureRequestWarning: Unverified HTTPS request is being made to host 'news.google.com'. Adding certificate verification is strongly advised. See: https://urllib3.readthedocs.io/en/1.26.x/advanced-usage.html#ssl-warnings\n",
      "  warnings.warn(\n",
      "c:\\Users\\sahil\\AppData\\Local\\Programs\\Python\\Python311\\Lib\\site-packages\\urllib3\\connectionpool.py:1045: InsecureRequestWarning: Unverified HTTPS request is being made to host 'www.7x7.com'. Adding certificate verification is strongly advised. See: https://urllib3.readthedocs.io/en/1.26.x/advanced-usage.html#ssl-warnings\n",
      "  warnings.warn(\n"
     ]
    },
    {
     "name": "stdout",
     "output_type": "stream",
     "text": [
      "<class 'str'>\n",
      "saved\n"
     ]
    },
    {
     "name": "stderr",
     "output_type": "stream",
     "text": [
      "c:\\Users\\sahil\\AppData\\Local\\Programs\\Python\\Python311\\Lib\\site-packages\\urllib3\\connectionpool.py:1045: InsecureRequestWarning: Unverified HTTPS request is being made to host 'news.google.com'. Adding certificate verification is strongly advised. See: https://urllib3.readthedocs.io/en/1.26.x/advanced-usage.html#ssl-warnings\n",
      "  warnings.warn(\n",
      "c:\\Users\\sahil\\AppData\\Local\\Programs\\Python\\Python311\\Lib\\site-packages\\urllib3\\connectionpool.py:1045: InsecureRequestWarning: Unverified HTTPS request is being made to host 'www.deccanherald.com'. Adding certificate verification is strongly advised. See: https://urllib3.readthedocs.io/en/1.26.x/advanced-usage.html#ssl-warnings\n",
      "  warnings.warn(\n"
     ]
    },
    {
     "name": "stdout",
     "output_type": "stream",
     "text": [
      "<class 'str'>\n",
      "saved\n"
     ]
    },
    {
     "name": "stderr",
     "output_type": "stream",
     "text": [
      "c:\\Users\\sahil\\AppData\\Local\\Programs\\Python\\Python311\\Lib\\site-packages\\urllib3\\connectionpool.py:1045: InsecureRequestWarning: Unverified HTTPS request is being made to host 'news.google.com'. Adding certificate verification is strongly advised. See: https://urllib3.readthedocs.io/en/1.26.x/advanced-usage.html#ssl-warnings\n",
      "  warnings.warn(\n",
      "c:\\Users\\sahil\\AppData\\Local\\Programs\\Python\\Python311\\Lib\\site-packages\\urllib3\\connectionpool.py:1045: InsecureRequestWarning: Unverified HTTPS request is being made to host 'www.thehindu.com'. Adding certificate verification is strongly advised. See: https://urllib3.readthedocs.io/en/1.26.x/advanced-usage.html#ssl-warnings\n",
      "  warnings.warn(\n"
     ]
    },
    {
     "name": "stdout",
     "output_type": "stream",
     "text": [
      "<class 'str'>\n",
      "saved\n"
     ]
    },
    {
     "name": "stderr",
     "output_type": "stream",
     "text": [
      "c:\\Users\\sahil\\AppData\\Local\\Programs\\Python\\Python311\\Lib\\site-packages\\urllib3\\connectionpool.py:1045: InsecureRequestWarning: Unverified HTTPS request is being made to host 'news.google.com'. Adding certificate verification is strongly advised. See: https://urllib3.readthedocs.io/en/1.26.x/advanced-usage.html#ssl-warnings\n",
      "  warnings.warn(\n",
      "c:\\Users\\sahil\\AppData\\Local\\Programs\\Python\\Python311\\Lib\\site-packages\\urllib3\\connectionpool.py:1045: InsecureRequestWarning: Unverified HTTPS request is being made to host 'www.thehindu.com'. Adding certificate verification is strongly advised. See: https://urllib3.readthedocs.io/en/1.26.x/advanced-usage.html#ssl-warnings\n",
      "  warnings.warn(\n"
     ]
    },
    {
     "name": "stdout",
     "output_type": "stream",
     "text": [
      "<class 'str'>\n",
      "saved\n"
     ]
    },
    {
     "name": "stderr",
     "output_type": "stream",
     "text": [
      "c:\\Users\\sahil\\AppData\\Local\\Programs\\Python\\Python311\\Lib\\site-packages\\urllib3\\connectionpool.py:1045: InsecureRequestWarning: Unverified HTTPS request is being made to host 'news.google.com'. Adding certificate verification is strongly advised. See: https://urllib3.readthedocs.io/en/1.26.x/advanced-usage.html#ssl-warnings\n",
      "  warnings.warn(\n",
      "c:\\Users\\sahil\\AppData\\Local\\Programs\\Python\\Python311\\Lib\\site-packages\\urllib3\\connectionpool.py:1045: InsecureRequestWarning: Unverified HTTPS request is being made to host 'www.thehindu.com'. Adding certificate verification is strongly advised. See: https://urllib3.readthedocs.io/en/1.26.x/advanced-usage.html#ssl-warnings\n",
      "  warnings.warn(\n"
     ]
    },
    {
     "name": "stdout",
     "output_type": "stream",
     "text": [
      "<class 'str'>\n",
      "saved\n"
     ]
    },
    {
     "name": "stderr",
     "output_type": "stream",
     "text": [
      "c:\\Users\\sahil\\AppData\\Local\\Programs\\Python\\Python311\\Lib\\site-packages\\urllib3\\connectionpool.py:1045: InsecureRequestWarning: Unverified HTTPS request is being made to host 'news.google.com'. Adding certificate verification is strongly advised. See: https://urllib3.readthedocs.io/en/1.26.x/advanced-usage.html#ssl-warnings\n",
      "  warnings.warn(\n",
      "c:\\Users\\sahil\\AppData\\Local\\Programs\\Python\\Python311\\Lib\\site-packages\\urllib3\\connectionpool.py:1045: InsecureRequestWarning: Unverified HTTPS request is being made to host 'sf.eater.com'. Adding certificate verification is strongly advised. See: https://urllib3.readthedocs.io/en/1.26.x/advanced-usage.html#ssl-warnings\n",
      "  warnings.warn(\n"
     ]
    },
    {
     "name": "stdout",
     "output_type": "stream",
     "text": [
      "<class 'str'>\n",
      "saved\n"
     ]
    },
    {
     "name": "stderr",
     "output_type": "stream",
     "text": [
      "c:\\Users\\sahil\\AppData\\Local\\Programs\\Python\\Python311\\Lib\\site-packages\\urllib3\\connectionpool.py:1045: InsecureRequestWarning: Unverified HTTPS request is being made to host 'news.google.com'. Adding certificate verification is strongly advised. See: https://urllib3.readthedocs.io/en/1.26.x/advanced-usage.html#ssl-warnings\n",
      "  warnings.warn(\n",
      "c:\\Users\\sahil\\AppData\\Local\\Programs\\Python\\Python311\\Lib\\site-packages\\urllib3\\connectionpool.py:1045: InsecureRequestWarning: Unverified HTTPS request is being made to host 'www.thehindu.com'. Adding certificate verification is strongly advised. See: https://urllib3.readthedocs.io/en/1.26.x/advanced-usage.html#ssl-warnings\n",
      "  warnings.warn(\n"
     ]
    },
    {
     "name": "stdout",
     "output_type": "stream",
     "text": [
      "<class 'str'>\n",
      "saved\n"
     ]
    },
    {
     "name": "stderr",
     "output_type": "stream",
     "text": [
      "c:\\Users\\sahil\\AppData\\Local\\Programs\\Python\\Python311\\Lib\\site-packages\\urllib3\\connectionpool.py:1045: InsecureRequestWarning: Unverified HTTPS request is being made to host 'news.google.com'. Adding certificate verification is strongly advised. See: https://urllib3.readthedocs.io/en/1.26.x/advanced-usage.html#ssl-warnings\n",
      "  warnings.warn(\n",
      "c:\\Users\\sahil\\AppData\\Local\\Programs\\Python\\Python311\\Lib\\site-packages\\urllib3\\connectionpool.py:1045: InsecureRequestWarning: Unverified HTTPS request is being made to host 'www.newindianexpress.com'. Adding certificate verification is strongly advised. See: https://urllib3.readthedocs.io/en/1.26.x/advanced-usage.html#ssl-warnings\n",
      "  warnings.warn(\n"
     ]
    },
    {
     "name": "stdout",
     "output_type": "stream",
     "text": [
      "<class 'str'>\n",
      "saved\n"
     ]
    },
    {
     "name": "stderr",
     "output_type": "stream",
     "text": [
      "c:\\Users\\sahil\\AppData\\Local\\Programs\\Python\\Python311\\Lib\\site-packages\\urllib3\\connectionpool.py:1045: InsecureRequestWarning: Unverified HTTPS request is being made to host 'news.google.com'. Adding certificate verification is strongly advised. See: https://urllib3.readthedocs.io/en/1.26.x/advanced-usage.html#ssl-warnings\n",
      "  warnings.warn(\n",
      "c:\\Users\\sahil\\AppData\\Local\\Programs\\Python\\Python311\\Lib\\site-packages\\urllib3\\connectionpool.py:1045: InsecureRequestWarning: Unverified HTTPS request is being made to host 'www.thehindu.com'. Adding certificate verification is strongly advised. See: https://urllib3.readthedocs.io/en/1.26.x/advanced-usage.html#ssl-warnings\n",
      "  warnings.warn(\n"
     ]
    },
    {
     "name": "stdout",
     "output_type": "stream",
     "text": [
      "<class 'str'>\n",
      "saved\n"
     ]
    },
    {
     "name": "stderr",
     "output_type": "stream",
     "text": [
      "c:\\Users\\sahil\\AppData\\Local\\Programs\\Python\\Python311\\Lib\\site-packages\\urllib3\\connectionpool.py:1045: InsecureRequestWarning: Unverified HTTPS request is being made to host 'news.google.com'. Adding certificate verification is strongly advised. See: https://urllib3.readthedocs.io/en/1.26.x/advanced-usage.html#ssl-warnings\n",
      "  warnings.warn(\n",
      "c:\\Users\\sahil\\AppData\\Local\\Programs\\Python\\Python311\\Lib\\site-packages\\urllib3\\connectionpool.py:1045: InsecureRequestWarning: Unverified HTTPS request is being made to host 'www.bizjournals.com'. Adding certificate verification is strongly advised. See: https://urllib3.readthedocs.io/en/1.26.x/advanced-usage.html#ssl-warnings\n",
      "  warnings.warn(\n"
     ]
    },
    {
     "name": "stdout",
     "output_type": "stream",
     "text": [
      "<class 'str'>\n",
      "saved\n"
     ]
    },
    {
     "name": "stderr",
     "output_type": "stream",
     "text": [
      "c:\\Users\\sahil\\AppData\\Local\\Programs\\Python\\Python311\\Lib\\site-packages\\urllib3\\connectionpool.py:1045: InsecureRequestWarning: Unverified HTTPS request is being made to host 'news.google.com'. Adding certificate verification is strongly advised. See: https://urllib3.readthedocs.io/en/1.26.x/advanced-usage.html#ssl-warnings\n",
      "  warnings.warn(\n",
      "c:\\Users\\sahil\\AppData\\Local\\Programs\\Python\\Python311\\Lib\\site-packages\\urllib3\\connectionpool.py:1045: InsecureRequestWarning: Unverified HTTPS request is being made to host 'www.sfchronicle.com'. Adding certificate verification is strongly advised. See: https://urllib3.readthedocs.io/en/1.26.x/advanced-usage.html#ssl-warnings\n",
      "  warnings.warn(\n"
     ]
    },
    {
     "name": "stdout",
     "output_type": "stream",
     "text": [
      "Error fetching data from https://news.google.com/rss/articles/CBMiS2h0dHBzOi8vd3d3LnNmY2hyb25pY2xlLmNvbS9wcm9qZWN0cy9iZXN0LWluZGlhbi1mb29kLXJlc3RhdXJhbnRzLWJheS1hcmVhL9IBAA?oc=5&hl=en-IN&gl=IN&ceid=IN:en: 403 Client Error: Forbidden for url: https://www.sfchronicle.com/projects/best-indian-food-restaurants-bay-area/\n"
     ]
    },
    {
     "name": "stderr",
     "output_type": "stream",
     "text": [
      "c:\\Users\\sahil\\AppData\\Local\\Programs\\Python\\Python311\\Lib\\site-packages\\urllib3\\connectionpool.py:1045: InsecureRequestWarning: Unverified HTTPS request is being made to host 'news.google.com'. Adding certificate verification is strongly advised. See: https://urllib3.readthedocs.io/en/1.26.x/advanced-usage.html#ssl-warnings\n",
      "  warnings.warn(\n",
      "c:\\Users\\sahil\\AppData\\Local\\Programs\\Python\\Python311\\Lib\\site-packages\\urllib3\\connectionpool.py:1045: InsecureRequestWarning: Unverified HTTPS request is being made to host 'www.thehindubusinessline.com'. Adding certificate verification is strongly advised. See: https://urllib3.readthedocs.io/en/1.26.x/advanced-usage.html#ssl-warnings\n",
      "  warnings.warn(\n"
     ]
    },
    {
     "name": "stdout",
     "output_type": "stream",
     "text": [
      "<class 'str'>\n",
      "saved\n"
     ]
    },
    {
     "name": "stderr",
     "output_type": "stream",
     "text": [
      "c:\\Users\\sahil\\AppData\\Local\\Programs\\Python\\Python311\\Lib\\site-packages\\urllib3\\connectionpool.py:1045: InsecureRequestWarning: Unverified HTTPS request is being made to host 'news.google.com'. Adding certificate verification is strongly advised. See: https://urllib3.readthedocs.io/en/1.26.x/advanced-usage.html#ssl-warnings\n",
      "  warnings.warn(\n",
      "c:\\Users\\sahil\\AppData\\Local\\Programs\\Python\\Python311\\Lib\\site-packages\\urllib3\\connectionpool.py:1045: InsecureRequestWarning: Unverified HTTPS request is being made to host 'www.thehindu.com'. Adding certificate verification is strongly advised. See: https://urllib3.readthedocs.io/en/1.26.x/advanced-usage.html#ssl-warnings\n",
      "  warnings.warn(\n"
     ]
    },
    {
     "name": "stdout",
     "output_type": "stream",
     "text": [
      "<class 'str'>\n",
      "saved\n"
     ]
    },
    {
     "name": "stderr",
     "output_type": "stream",
     "text": [
      "c:\\Users\\sahil\\AppData\\Local\\Programs\\Python\\Python311\\Lib\\site-packages\\urllib3\\connectionpool.py:1045: InsecureRequestWarning: Unverified HTTPS request is being made to host 'news.google.com'. Adding certificate verification is strongly advised. See: https://urllib3.readthedocs.io/en/1.26.x/advanced-usage.html#ssl-warnings\n",
      "  warnings.warn(\n",
      "c:\\Users\\sahil\\AppData\\Local\\Programs\\Python\\Python311\\Lib\\site-packages\\urllib3\\connectionpool.py:1045: InsecureRequestWarning: Unverified HTTPS request is being made to host 'www.rappler.com'. Adding certificate verification is strongly advised. See: https://urllib3.readthedocs.io/en/1.26.x/advanced-usage.html#ssl-warnings\n",
      "  warnings.warn(\n"
     ]
    },
    {
     "name": "stdout",
     "output_type": "stream",
     "text": [
      "<class 'str'>\n",
      "saved\n"
     ]
    },
    {
     "name": "stderr",
     "output_type": "stream",
     "text": [
      "c:\\Users\\sahil\\AppData\\Local\\Programs\\Python\\Python311\\Lib\\site-packages\\urllib3\\connectionpool.py:1045: InsecureRequestWarning: Unverified HTTPS request is being made to host 'news.google.com'. Adding certificate verification is strongly advised. See: https://urllib3.readthedocs.io/en/1.26.x/advanced-usage.html#ssl-warnings\n",
      "  warnings.warn(\n",
      "c:\\Users\\sahil\\AppData\\Local\\Programs\\Python\\Python311\\Lib\\site-packages\\urllib3\\connectionpool.py:1045: InsecureRequestWarning: Unverified HTTPS request is being made to host 'www.business-standard.com'. Adding certificate verification is strongly advised. See: https://urllib3.readthedocs.io/en/1.26.x/advanced-usage.html#ssl-warnings\n",
      "  warnings.warn(\n"
     ]
    },
    {
     "name": "stdout",
     "output_type": "stream",
     "text": [
      "Error fetching data from https://news.google.com/rss/articles/CBMiiAFodHRwczovL3d3dy5idXNpbmVzcy1zdGFuZGFyZC5jb20vZWNvbm9teS9uZXdzL3VuaW9uLWNhYmluZXQtYXBwcm92ZXMtaW5jcmVhc2UtaW4tY29wcmEtbXNwLWZvci11cGNvbWluZy0yMDI0LXNlYXNvbi0xMjMxMjI3MDA3NTRfMS5odG1s0gGMAWh0dHBzOi8vd3d3LmJ1c2luZXNzLXN0YW5kYXJkLmNvbS9hbXAvZWNvbm9teS9uZXdzL3VuaW9uLWNhYmluZXQtYXBwcm92ZXMtaW5jcmVhc2UtaW4tY29wcmEtbXNwLWZvci11cGNvbWluZy0yMDI0LXNlYXNvbi0xMjMxMjI3MDA3NTRfMS5odG1s?oc=5&hl=en-IN&gl=IN&ceid=IN:en: 403 Client Error: Forbidden for url: https://www.business-standard.com/economy/news/union-cabinet-approves-increase-in-copra-msp-for-upcoming-2024-season-123122700754_1.html\n"
     ]
    },
    {
     "name": "stderr",
     "output_type": "stream",
     "text": [
      "c:\\Users\\sahil\\AppData\\Local\\Programs\\Python\\Python311\\Lib\\site-packages\\urllib3\\connectionpool.py:1045: InsecureRequestWarning: Unverified HTTPS request is being made to host 'news.google.com'. Adding certificate verification is strongly advised. See: https://urllib3.readthedocs.io/en/1.26.x/advanced-usage.html#ssl-warnings\n",
      "  warnings.warn(\n",
      "c:\\Users\\sahil\\AppData\\Local\\Programs\\Python\\Python311\\Lib\\site-packages\\urllib3\\connectionpool.py:1045: InsecureRequestWarning: Unverified HTTPS request is being made to host 'www.thehindu.com'. Adding certificate verification is strongly advised. See: https://urllib3.readthedocs.io/en/1.26.x/advanced-usage.html#ssl-warnings\n",
      "  warnings.warn(\n"
     ]
    },
    {
     "name": "stdout",
     "output_type": "stream",
     "text": [
      "<class 'str'>\n",
      "saved\n"
     ]
    },
    {
     "name": "stderr",
     "output_type": "stream",
     "text": [
      "c:\\Users\\sahil\\AppData\\Local\\Programs\\Python\\Python311\\Lib\\site-packages\\urllib3\\connectionpool.py:1045: InsecureRequestWarning: Unverified HTTPS request is being made to host 'news.google.com'. Adding certificate verification is strongly advised. See: https://urllib3.readthedocs.io/en/1.26.x/advanced-usage.html#ssl-warnings\n",
      "  warnings.warn(\n",
      "c:\\Users\\sahil\\AppData\\Local\\Programs\\Python\\Python311\\Lib\\site-packages\\urllib3\\connectionpool.py:1045: InsecureRequestWarning: Unverified HTTPS request is being made to host 'www.newindianexpress.com'. Adding certificate verification is strongly advised. See: https://urllib3.readthedocs.io/en/1.26.x/advanced-usage.html#ssl-warnings\n",
      "  warnings.warn(\n"
     ]
    },
    {
     "name": "stdout",
     "output_type": "stream",
     "text": [
      "<class 'str'>\n",
      "saved\n"
     ]
    },
    {
     "name": "stderr",
     "output_type": "stream",
     "text": [
      "c:\\Users\\sahil\\AppData\\Local\\Programs\\Python\\Python311\\Lib\\site-packages\\urllib3\\connectionpool.py:1045: InsecureRequestWarning: Unverified HTTPS request is being made to host 'news.google.com'. Adding certificate verification is strongly advised. See: https://urllib3.readthedocs.io/en/1.26.x/advanced-usage.html#ssl-warnings\n",
      "  warnings.warn(\n",
      "c:\\Users\\sahil\\AppData\\Local\\Programs\\Python\\Python311\\Lib\\site-packages\\urllib3\\connectionpool.py:1045: InsecureRequestWarning: Unverified HTTPS request is being made to host 'www.thehindu.com'. Adding certificate verification is strongly advised. See: https://urllib3.readthedocs.io/en/1.26.x/advanced-usage.html#ssl-warnings\n",
      "  warnings.warn(\n"
     ]
    },
    {
     "name": "stdout",
     "output_type": "stream",
     "text": [
      "<class 'str'>\n",
      "saved\n"
     ]
    },
    {
     "name": "stderr",
     "output_type": "stream",
     "text": [
      "c:\\Users\\sahil\\AppData\\Local\\Programs\\Python\\Python311\\Lib\\site-packages\\urllib3\\connectionpool.py:1045: InsecureRequestWarning: Unverified HTTPS request is being made to host 'news.google.com'. Adding certificate verification is strongly advised. See: https://urllib3.readthedocs.io/en/1.26.x/advanced-usage.html#ssl-warnings\n",
      "  warnings.warn(\n",
      "c:\\Users\\sahil\\AppData\\Local\\Programs\\Python\\Python311\\Lib\\site-packages\\urllib3\\connectionpool.py:1045: InsecureRequestWarning: Unverified HTTPS request is being made to host 'english.mathrubhumi.com'. Adding certificate verification is strongly advised. See: https://urllib3.readthedocs.io/en/1.26.x/advanced-usage.html#ssl-warnings\n",
      "  warnings.warn(\n"
     ]
    },
    {
     "name": "stdout",
     "output_type": "stream",
     "text": [
      "<class 'str'>\n",
      "saved\n"
     ]
    },
    {
     "name": "stderr",
     "output_type": "stream",
     "text": [
      "c:\\Users\\sahil\\AppData\\Local\\Programs\\Python\\Python311\\Lib\\site-packages\\urllib3\\connectionpool.py:1045: InsecureRequestWarning: Unverified HTTPS request is being made to host 'news.google.com'. Adding certificate verification is strongly advised. See: https://urllib3.readthedocs.io/en/1.26.x/advanced-usage.html#ssl-warnings\n",
      "  warnings.warn(\n",
      "c:\\Users\\sahil\\AppData\\Local\\Programs\\Python\\Python311\\Lib\\site-packages\\urllib3\\connectionpool.py:1045: InsecureRequestWarning: Unverified HTTPS request is being made to host 'www.sfchronicle.com'. Adding certificate verification is strongly advised. See: https://urllib3.readthedocs.io/en/1.26.x/advanced-usage.html#ssl-warnings\n",
      "  warnings.warn(\n"
     ]
    },
    {
     "name": "stdout",
     "output_type": "stream",
     "text": [
      "Error fetching data from https://news.google.com/rss/articles/CBMiVmh0dHBzOi8vd3d3LnNmY2hyb25pY2xlLmNvbS9mb29kL3Jlc3RhdXJhbnRzL2FydGljbGUvbmV3LWJheS1hcmVhLW9wZW5pbmctMTc4NTYyNzkucGhw0gEA?oc=5&hl=en-IN&gl=IN&ceid=IN:en: 403 Client Error: Forbidden for url: https://www.sfchronicle.com/food/restaurants/article/new-bay-area-opening-17856279.php\n"
     ]
    },
    {
     "name": "stderr",
     "output_type": "stream",
     "text": [
      "c:\\Users\\sahil\\AppData\\Local\\Programs\\Python\\Python311\\Lib\\site-packages\\urllib3\\connectionpool.py:1045: InsecureRequestWarning: Unverified HTTPS request is being made to host 'news.google.com'. Adding certificate verification is strongly advised. See: https://urllib3.readthedocs.io/en/1.26.x/advanced-usage.html#ssl-warnings\n",
      "  warnings.warn(\n",
      "c:\\Users\\sahil\\AppData\\Local\\Programs\\Python\\Python311\\Lib\\site-packages\\urllib3\\connectionpool.py:1045: InsecureRequestWarning: Unverified HTTPS request is being made to host 'www.thehindu.com'. Adding certificate verification is strongly advised. See: https://urllib3.readthedocs.io/en/1.26.x/advanced-usage.html#ssl-warnings\n",
      "  warnings.warn(\n"
     ]
    },
    {
     "name": "stdout",
     "output_type": "stream",
     "text": [
      "<class 'str'>\n",
      "saved\n"
     ]
    },
    {
     "name": "stderr",
     "output_type": "stream",
     "text": [
      "c:\\Users\\sahil\\AppData\\Local\\Programs\\Python\\Python311\\Lib\\site-packages\\urllib3\\connectionpool.py:1045: InsecureRequestWarning: Unverified HTTPS request is being made to host 'news.google.com'. Adding certificate verification is strongly advised. See: https://urllib3.readthedocs.io/en/1.26.x/advanced-usage.html#ssl-warnings\n",
      "  warnings.warn(\n",
      "c:\\Users\\sahil\\AppData\\Local\\Programs\\Python\\Python311\\Lib\\site-packages\\urllib3\\connectionpool.py:1045: InsecureRequestWarning: Unverified HTTPS request is being made to host 'timesofindia.indiatimes.com'. Adding certificate verification is strongly advised. See: https://urllib3.readthedocs.io/en/1.26.x/advanced-usage.html#ssl-warnings\n",
      "  warnings.warn(\n"
     ]
    },
    {
     "name": "stdout",
     "output_type": "stream",
     "text": [
      "<class 'str'>\n",
      "saved\n"
     ]
    },
    {
     "name": "stderr",
     "output_type": "stream",
     "text": [
      "c:\\Users\\sahil\\AppData\\Local\\Programs\\Python\\Python311\\Lib\\site-packages\\urllib3\\connectionpool.py:1045: InsecureRequestWarning: Unverified HTTPS request is being made to host 'news.google.com'. Adding certificate verification is strongly advised. See: https://urllib3.readthedocs.io/en/1.26.x/advanced-usage.html#ssl-warnings\n",
      "  warnings.warn(\n",
      "c:\\Users\\sahil\\AppData\\Local\\Programs\\Python\\Python311\\Lib\\site-packages\\urllib3\\connectionpool.py:1045: InsecureRequestWarning: Unverified HTTPS request is being made to host 'www.thehindubusinessline.com'. Adding certificate verification is strongly advised. See: https://urllib3.readthedocs.io/en/1.26.x/advanced-usage.html#ssl-warnings\n",
      "  warnings.warn(\n"
     ]
    },
    {
     "name": "stdout",
     "output_type": "stream",
     "text": [
      "<class 'str'>\n",
      "saved\n"
     ]
    },
    {
     "name": "stderr",
     "output_type": "stream",
     "text": [
      "c:\\Users\\sahil\\AppData\\Local\\Programs\\Python\\Python311\\Lib\\site-packages\\urllib3\\connectionpool.py:1045: InsecureRequestWarning: Unverified HTTPS request is being made to host 'news.google.com'. Adding certificate verification is strongly advised. See: https://urllib3.readthedocs.io/en/1.26.x/advanced-usage.html#ssl-warnings\n",
      "  warnings.warn(\n",
      "c:\\Users\\sahil\\AppData\\Local\\Programs\\Python\\Python311\\Lib\\site-packages\\urllib3\\connectionpool.py:1045: InsecureRequestWarning: Unverified HTTPS request is being made to host 'robbreport.com'. Adding certificate verification is strongly advised. See: https://urllib3.readthedocs.io/en/1.26.x/advanced-usage.html#ssl-warnings\n",
      "  warnings.warn(\n"
     ]
    },
    {
     "name": "stdout",
     "output_type": "stream",
     "text": [
      "<class 'str'>\n",
      "saved\n"
     ]
    },
    {
     "name": "stderr",
     "output_type": "stream",
     "text": [
      "c:\\Users\\sahil\\AppData\\Local\\Programs\\Python\\Python311\\Lib\\site-packages\\urllib3\\connectionpool.py:1045: InsecureRequestWarning: Unverified HTTPS request is being made to host 'news.google.com'. Adding certificate verification is strongly advised. See: https://urllib3.readthedocs.io/en/1.26.x/advanced-usage.html#ssl-warnings\n",
      "  warnings.warn(\n",
      "c:\\Users\\sahil\\AppData\\Local\\Programs\\Python\\Python311\\Lib\\site-packages\\urllib3\\connectionpool.py:1045: InsecureRequestWarning: Unverified HTTPS request is being made to host 'www.zeebiz.com'. Adding certificate verification is strongly advised. See: https://urllib3.readthedocs.io/en/1.26.x/advanced-usage.html#ssl-warnings\n",
      "  warnings.warn(\n"
     ]
    },
    {
     "name": "stdout",
     "output_type": "stream",
     "text": [
      "<class 'str'>\n",
      "saved\n"
     ]
    },
    {
     "name": "stderr",
     "output_type": "stream",
     "text": [
      "c:\\Users\\sahil\\AppData\\Local\\Programs\\Python\\Python311\\Lib\\site-packages\\urllib3\\connectionpool.py:1045: InsecureRequestWarning: Unverified HTTPS request is being made to host 'news.google.com'. Adding certificate verification is strongly advised. See: https://urllib3.readthedocs.io/en/1.26.x/advanced-usage.html#ssl-warnings\n",
      "  warnings.warn(\n",
      "c:\\Users\\sahil\\AppData\\Local\\Programs\\Python\\Python311\\Lib\\site-packages\\urllib3\\connectionpool.py:1045: InsecureRequestWarning: Unverified HTTPS request is being made to host 'manilastandard.net'. Adding certificate verification is strongly advised. See: https://urllib3.readthedocs.io/en/1.26.x/advanced-usage.html#ssl-warnings\n",
      "  warnings.warn(\n"
     ]
    },
    {
     "name": "stdout",
     "output_type": "stream",
     "text": [
      "<class 'str'>\n",
      "saved\n"
     ]
    },
    {
     "name": "stderr",
     "output_type": "stream",
     "text": [
      "c:\\Users\\sahil\\AppData\\Local\\Programs\\Python\\Python311\\Lib\\site-packages\\urllib3\\connectionpool.py:1045: InsecureRequestWarning: Unverified HTTPS request is being made to host 'news.google.com'. Adding certificate verification is strongly advised. See: https://urllib3.readthedocs.io/en/1.26.x/advanced-usage.html#ssl-warnings\n",
      "  warnings.warn(\n",
      "c:\\Users\\sahil\\AppData\\Local\\Programs\\Python\\Python311\\Lib\\site-packages\\urllib3\\connectionpool.py:1045: InsecureRequestWarning: Unverified HTTPS request is being made to host 'www.newindianexpress.com'. Adding certificate verification is strongly advised. See: https://urllib3.readthedocs.io/en/1.26.x/advanced-usage.html#ssl-warnings\n",
      "  warnings.warn(\n"
     ]
    },
    {
     "name": "stdout",
     "output_type": "stream",
     "text": [
      "<class 'str'>\n",
      "saved\n"
     ]
    },
    {
     "name": "stderr",
     "output_type": "stream",
     "text": [
      "c:\\Users\\sahil\\AppData\\Local\\Programs\\Python\\Python311\\Lib\\site-packages\\urllib3\\connectionpool.py:1045: InsecureRequestWarning: Unverified HTTPS request is being made to host 'news.google.com'. Adding certificate verification is strongly advised. See: https://urllib3.readthedocs.io/en/1.26.x/advanced-usage.html#ssl-warnings\n",
      "  warnings.warn(\n",
      "c:\\Users\\sahil\\AppData\\Local\\Programs\\Python\\Python311\\Lib\\site-packages\\urllib3\\connectionpool.py:1045: InsecureRequestWarning: Unverified HTTPS request is being made to host 'www.newindianexpress.com'. Adding certificate verification is strongly advised. See: https://urllib3.readthedocs.io/en/1.26.x/advanced-usage.html#ssl-warnings\n",
      "  warnings.warn(\n"
     ]
    },
    {
     "name": "stdout",
     "output_type": "stream",
     "text": [
      "<class 'str'>\n",
      "saved\n"
     ]
    },
    {
     "name": "stderr",
     "output_type": "stream",
     "text": [
      "c:\\Users\\sahil\\AppData\\Local\\Programs\\Python\\Python311\\Lib\\site-packages\\urllib3\\connectionpool.py:1045: InsecureRequestWarning: Unverified HTTPS request is being made to host 'news.google.com'. Adding certificate verification is strongly advised. See: https://urllib3.readthedocs.io/en/1.26.x/advanced-usage.html#ssl-warnings\n",
      "  warnings.warn(\n",
      "c:\\Users\\sahil\\AppData\\Local\\Programs\\Python\\Python311\\Lib\\site-packages\\urllib3\\connectionpool.py:1045: InsecureRequestWarning: Unverified HTTPS request is being made to host 'www.dtnext.in'. Adding certificate verification is strongly advised. See: https://urllib3.readthedocs.io/en/1.26.x/advanced-usage.html#ssl-warnings\n",
      "  warnings.warn(\n"
     ]
    },
    {
     "name": "stdout",
     "output_type": "stream",
     "text": [
      "<class 'str'>\n",
      "saved\n"
     ]
    },
    {
     "name": "stderr",
     "output_type": "stream",
     "text": [
      "c:\\Users\\sahil\\AppData\\Local\\Programs\\Python\\Python311\\Lib\\site-packages\\urllib3\\connectionpool.py:1045: InsecureRequestWarning: Unverified HTTPS request is being made to host 'news.google.com'. Adding certificate verification is strongly advised. See: https://urllib3.readthedocs.io/en/1.26.x/advanced-usage.html#ssl-warnings\n",
      "  warnings.warn(\n",
      "c:\\Users\\sahil\\AppData\\Local\\Programs\\Python\\Python311\\Lib\\site-packages\\urllib3\\connectionpool.py:1045: InsecureRequestWarning: Unverified HTTPS request is being made to host 'bnnbreaking.com'. Adding certificate verification is strongly advised. See: https://urllib3.readthedocs.io/en/1.26.x/advanced-usage.html#ssl-warnings\n",
      "  warnings.warn(\n"
     ]
    },
    {
     "name": "stdout",
     "output_type": "stream",
     "text": [
      "<class 'str'>\n",
      "saved\n"
     ]
    },
    {
     "name": "stderr",
     "output_type": "stream",
     "text": [
      "c:\\Users\\sahil\\AppData\\Local\\Programs\\Python\\Python311\\Lib\\site-packages\\urllib3\\connectionpool.py:1045: InsecureRequestWarning: Unverified HTTPS request is being made to host 'news.google.com'. Adding certificate verification is strongly advised. See: https://urllib3.readthedocs.io/en/1.26.x/advanced-usage.html#ssl-warnings\n",
      "  warnings.warn(\n",
      "c:\\Users\\sahil\\AppData\\Local\\Programs\\Python\\Python311\\Lib\\site-packages\\urllib3\\connectionpool.py:1045: InsecureRequestWarning: Unverified HTTPS request is being made to host 'm.economictimes.com'. Adding certificate verification is strongly advised. See: https://urllib3.readthedocs.io/en/1.26.x/advanced-usage.html#ssl-warnings\n",
      "  warnings.warn(\n",
      "c:\\Users\\sahil\\AppData\\Local\\Programs\\Python\\Python311\\Lib\\site-packages\\urllib3\\connectionpool.py:1045: InsecureRequestWarning: Unverified HTTPS request is being made to host 'economictimes.indiatimes.com'. Adding certificate verification is strongly advised. See: https://urllib3.readthedocs.io/en/1.26.x/advanced-usage.html#ssl-warnings\n",
      "  warnings.warn(\n"
     ]
    },
    {
     "name": "stdout",
     "output_type": "stream",
     "text": [
      "<class 'str'>\n",
      "saved\n"
     ]
    },
    {
     "name": "stderr",
     "output_type": "stream",
     "text": [
      "c:\\Users\\sahil\\AppData\\Local\\Programs\\Python\\Python311\\Lib\\site-packages\\urllib3\\connectionpool.py:1045: InsecureRequestWarning: Unverified HTTPS request is being made to host 'news.google.com'. Adding certificate verification is strongly advised. See: https://urllib3.readthedocs.io/en/1.26.x/advanced-usage.html#ssl-warnings\n",
      "  warnings.warn(\n",
      "c:\\Users\\sahil\\AppData\\Local\\Programs\\Python\\Python311\\Lib\\site-packages\\urllib3\\connectionpool.py:1045: InsecureRequestWarning: Unverified HTTPS request is being made to host 'www.moneycontrol.com'. Adding certificate verification is strongly advised. See: https://urllib3.readthedocs.io/en/1.26.x/advanced-usage.html#ssl-warnings\n",
      "  warnings.warn(\n"
     ]
    },
    {
     "name": "stdout",
     "output_type": "stream",
     "text": [
      "<class 'str'>\n",
      "saved\n"
     ]
    },
    {
     "name": "stderr",
     "output_type": "stream",
     "text": [
      "c:\\Users\\sahil\\AppData\\Local\\Programs\\Python\\Python311\\Lib\\site-packages\\urllib3\\connectionpool.py:1045: InsecureRequestWarning: Unverified HTTPS request is being made to host 'news.google.com'. Adding certificate verification is strongly advised. See: https://urllib3.readthedocs.io/en/1.26.x/advanced-usage.html#ssl-warnings\n",
      "  warnings.warn(\n",
      "c:\\Users\\sahil\\AppData\\Local\\Programs\\Python\\Python311\\Lib\\site-packages\\urllib3\\connectionpool.py:1045: InsecureRequestWarning: Unverified HTTPS request is being made to host 'www.thehindubusinessline.com'. Adding certificate verification is strongly advised. See: https://urllib3.readthedocs.io/en/1.26.x/advanced-usage.html#ssl-warnings\n",
      "  warnings.warn(\n"
     ]
    },
    {
     "name": "stdout",
     "output_type": "stream",
     "text": [
      "<class 'str'>\n",
      "saved\n"
     ]
    },
    {
     "name": "stderr",
     "output_type": "stream",
     "text": [
      "c:\\Users\\sahil\\AppData\\Local\\Programs\\Python\\Python311\\Lib\\site-packages\\urllib3\\connectionpool.py:1045: InsecureRequestWarning: Unverified HTTPS request is being made to host 'news.google.com'. Adding certificate verification is strongly advised. See: https://urllib3.readthedocs.io/en/1.26.x/advanced-usage.html#ssl-warnings\n",
      "  warnings.warn(\n",
      "c:\\Users\\sahil\\AppData\\Local\\Programs\\Python\\Python311\\Lib\\site-packages\\urllib3\\connectionpool.py:1045: InsecureRequestWarning: Unverified HTTPS request is being made to host 'english.mathrubhumi.com'. Adding certificate verification is strongly advised. See: https://urllib3.readthedocs.io/en/1.26.x/advanced-usage.html#ssl-warnings\n",
      "  warnings.warn(\n"
     ]
    },
    {
     "name": "stdout",
     "output_type": "stream",
     "text": [
      "<class 'str'>\n",
      "saved\n"
     ]
    },
    {
     "name": "stderr",
     "output_type": "stream",
     "text": [
      "c:\\Users\\sahil\\AppData\\Local\\Programs\\Python\\Python311\\Lib\\site-packages\\urllib3\\connectionpool.py:1045: InsecureRequestWarning: Unverified HTTPS request is being made to host 'news.google.com'. Adding certificate verification is strongly advised. See: https://urllib3.readthedocs.io/en/1.26.x/advanced-usage.html#ssl-warnings\n",
      "  warnings.warn(\n",
      "c:\\Users\\sahil\\AppData\\Local\\Programs\\Python\\Python311\\Lib\\site-packages\\urllib3\\connectionpool.py:1045: InsecureRequestWarning: Unverified HTTPS request is being made to host 'www.thehindu.com'. Adding certificate verification is strongly advised. See: https://urllib3.readthedocs.io/en/1.26.x/advanced-usage.html#ssl-warnings\n",
      "  warnings.warn(\n"
     ]
    },
    {
     "name": "stdout",
     "output_type": "stream",
     "text": [
      "<class 'str'>\n",
      "saved\n"
     ]
    },
    {
     "name": "stderr",
     "output_type": "stream",
     "text": [
      "c:\\Users\\sahil\\AppData\\Local\\Programs\\Python\\Python311\\Lib\\site-packages\\urllib3\\connectionpool.py:1045: InsecureRequestWarning: Unverified HTTPS request is being made to host 'news.google.com'. Adding certificate verification is strongly advised. See: https://urllib3.readthedocs.io/en/1.26.x/advanced-usage.html#ssl-warnings\n",
      "  warnings.warn(\n",
      "c:\\Users\\sahil\\AppData\\Local\\Programs\\Python\\Python311\\Lib\\site-packages\\urllib3\\connectionpool.py:1045: InsecureRequestWarning: Unverified HTTPS request is being made to host 'www.sfchronicle.com'. Adding certificate verification is strongly advised. See: https://urllib3.readthedocs.io/en/1.26.x/advanced-usage.html#ssl-warnings\n",
      "  warnings.warn(\n"
     ]
    },
    {
     "name": "stdout",
     "output_type": "stream",
     "text": [
      "Error fetching data from https://news.google.com/rss/articles/CBMiXGh0dHBzOi8vd3d3LnNmY2hyb25pY2xlLmNvbS9mb29kL3Jlc3RhdXJhbnRzL2FydGljbGUvY29wcmEtaW5kaWFuLXNhbi1mcmFuY2lzY28tMTc3ODYxMjIucGhw0gEA?oc=5&hl=en-IN&gl=IN&ceid=IN:en: 403 Client Error: Forbidden for url: https://www.sfchronicle.com/food/restaurants/article/copra-indian-san-francisco-17786122.php\n"
     ]
    },
    {
     "name": "stderr",
     "output_type": "stream",
     "text": [
      "c:\\Users\\sahil\\AppData\\Local\\Programs\\Python\\Python311\\Lib\\site-packages\\urllib3\\connectionpool.py:1045: InsecureRequestWarning: Unverified HTTPS request is being made to host 'news.google.com'. Adding certificate verification is strongly advised. See: https://urllib3.readthedocs.io/en/1.26.x/advanced-usage.html#ssl-warnings\n",
      "  warnings.warn(\n",
      "c:\\Users\\sahil\\AppData\\Local\\Programs\\Python\\Python311\\Lib\\site-packages\\urllib3\\connectionpool.py:1045: InsecureRequestWarning: Unverified HTTPS request is being made to host 'www.thehindu.com'. Adding certificate verification is strongly advised. See: https://urllib3.readthedocs.io/en/1.26.x/advanced-usage.html#ssl-warnings\n",
      "  warnings.warn(\n"
     ]
    },
    {
     "name": "stdout",
     "output_type": "stream",
     "text": [
      "<class 'str'>\n",
      "saved\n"
     ]
    },
    {
     "name": "stderr",
     "output_type": "stream",
     "text": [
      "c:\\Users\\sahil\\AppData\\Local\\Programs\\Python\\Python311\\Lib\\site-packages\\urllib3\\connectionpool.py:1045: InsecureRequestWarning: Unverified HTTPS request is being made to host 'news.google.com'. Adding certificate verification is strongly advised. See: https://urllib3.readthedocs.io/en/1.26.x/advanced-usage.html#ssl-warnings\n",
      "  warnings.warn(\n",
      "c:\\Users\\sahil\\AppData\\Local\\Programs\\Python\\Python311\\Lib\\site-packages\\urllib3\\connectionpool.py:1045: InsecureRequestWarning: Unverified HTTPS request is being made to host 'www.eff.org'. Adding certificate verification is strongly advised. See: https://urllib3.readthedocs.io/en/1.26.x/advanced-usage.html#ssl-warnings\n",
      "  warnings.warn(\n"
     ]
    },
    {
     "name": "stdout",
     "output_type": "stream",
     "text": [
      "<class 'str'>\n",
      "saved\n"
     ]
    },
    {
     "name": "stderr",
     "output_type": "stream",
     "text": [
      "c:\\Users\\sahil\\AppData\\Local\\Programs\\Python\\Python311\\Lib\\site-packages\\urllib3\\connectionpool.py:1045: InsecureRequestWarning: Unverified HTTPS request is being made to host 'news.google.com'. Adding certificate verification is strongly advised. See: https://urllib3.readthedocs.io/en/1.26.x/advanced-usage.html#ssl-warnings\n",
      "  warnings.warn(\n",
      "c:\\Users\\sahil\\AppData\\Local\\Programs\\Python\\Python311\\Lib\\site-packages\\urllib3\\connectionpool.py:1045: InsecureRequestWarning: Unverified HTTPS request is being made to host 'sfist.com'. Adding certificate verification is strongly advised. See: https://urllib3.readthedocs.io/en/1.26.x/advanced-usage.html#ssl-warnings\n",
      "  warnings.warn(\n"
     ]
    },
    {
     "name": "stdout",
     "output_type": "stream",
     "text": [
      "<class 'str'>\n",
      "saved\n"
     ]
    },
    {
     "name": "stderr",
     "output_type": "stream",
     "text": [
      "c:\\Users\\sahil\\AppData\\Local\\Programs\\Python\\Python311\\Lib\\site-packages\\urllib3\\connectionpool.py:1045: InsecureRequestWarning: Unverified HTTPS request is being made to host 'news.google.com'. Adding certificate verification is strongly advised. See: https://urllib3.readthedocs.io/en/1.26.x/advanced-usage.html#ssl-warnings\n",
      "  warnings.warn(\n",
      "c:\\Users\\sahil\\AppData\\Local\\Programs\\Python\\Python311\\Lib\\site-packages\\urllib3\\connectionpool.py:1045: InsecureRequestWarning: Unverified HTTPS request is being made to host 'english.mathrubhumi.com'. Adding certificate verification is strongly advised. See: https://urllib3.readthedocs.io/en/1.26.x/advanced-usage.html#ssl-warnings\n",
      "  warnings.warn(\n"
     ]
    },
    {
     "name": "stdout",
     "output_type": "stream",
     "text": [
      "<class 'str'>\n",
      "saved\n"
     ]
    },
    {
     "name": "stderr",
     "output_type": "stream",
     "text": [
      "c:\\Users\\sahil\\AppData\\Local\\Programs\\Python\\Python311\\Lib\\site-packages\\urllib3\\connectionpool.py:1045: InsecureRequestWarning: Unverified HTTPS request is being made to host 'news.google.com'. Adding certificate verification is strongly advised. See: https://urllib3.readthedocs.io/en/1.26.x/advanced-usage.html#ssl-warnings\n",
      "  warnings.warn(\n",
      "c:\\Users\\sahil\\AppData\\Local\\Programs\\Python\\Python311\\Lib\\site-packages\\urllib3\\connectionpool.py:1045: InsecureRequestWarning: Unverified HTTPS request is being made to host 'robbreport.com'. Adding certificate verification is strongly advised. See: https://urllib3.readthedocs.io/en/1.26.x/advanced-usage.html#ssl-warnings\n",
      "  warnings.warn(\n"
     ]
    },
    {
     "name": "stdout",
     "output_type": "stream",
     "text": [
      "<class 'str'>\n",
      "saved\n"
     ]
    },
    {
     "name": "stderr",
     "output_type": "stream",
     "text": [
      "c:\\Users\\sahil\\AppData\\Local\\Programs\\Python\\Python311\\Lib\\site-packages\\urllib3\\connectionpool.py:1045: InsecureRequestWarning: Unverified HTTPS request is being made to host 'news.google.com'. Adding certificate verification is strongly advised. See: https://urllib3.readthedocs.io/en/1.26.x/advanced-usage.html#ssl-warnings\n",
      "  warnings.warn(\n",
      "c:\\Users\\sahil\\AppData\\Local\\Programs\\Python\\Python311\\Lib\\site-packages\\urllib3\\connectionpool.py:1045: InsecureRequestWarning: Unverified HTTPS request is being made to host 'www.thehindu.com'. Adding certificate verification is strongly advised. See: https://urllib3.readthedocs.io/en/1.26.x/advanced-usage.html#ssl-warnings\n",
      "  warnings.warn(\n"
     ]
    },
    {
     "name": "stdout",
     "output_type": "stream",
     "text": [
      "<class 'str'>\n",
      "saved\n"
     ]
    },
    {
     "name": "stderr",
     "output_type": "stream",
     "text": [
      "c:\\Users\\sahil\\AppData\\Local\\Programs\\Python\\Python311\\Lib\\site-packages\\urllib3\\connectionpool.py:1045: InsecureRequestWarning: Unverified HTTPS request is being made to host 'news.google.com'. Adding certificate verification is strongly advised. See: https://urllib3.readthedocs.io/en/1.26.x/advanced-usage.html#ssl-warnings\n",
      "  warnings.warn(\n",
      "c:\\Users\\sahil\\AppData\\Local\\Programs\\Python\\Python311\\Lib\\site-packages\\urllib3\\connectionpool.py:1045: InsecureRequestWarning: Unverified HTTPS request is being made to host 'theprint.in'. Adding certificate verification is strongly advised. See: https://urllib3.readthedocs.io/en/1.26.x/advanced-usage.html#ssl-warnings\n",
      "  warnings.warn(\n"
     ]
    },
    {
     "name": "stdout",
     "output_type": "stream",
     "text": [
      "<class 'str'>\n",
      "saved\n"
     ]
    },
    {
     "name": "stderr",
     "output_type": "stream",
     "text": [
      "c:\\Users\\sahil\\AppData\\Local\\Programs\\Python\\Python311\\Lib\\site-packages\\urllib3\\connectionpool.py:1045: InsecureRequestWarning: Unverified HTTPS request is being made to host 'news.google.com'. Adding certificate verification is strongly advised. See: https://urllib3.readthedocs.io/en/1.26.x/advanced-usage.html#ssl-warnings\n",
      "  warnings.warn(\n",
      "c:\\Users\\sahil\\AppData\\Local\\Programs\\Python\\Python311\\Lib\\site-packages\\urllib3\\connectionpool.py:1045: InsecureRequestWarning: Unverified HTTPS request is being made to host 'www.dtnext.in'. Adding certificate verification is strongly advised. See: https://urllib3.readthedocs.io/en/1.26.x/advanced-usage.html#ssl-warnings\n",
      "  warnings.warn(\n"
     ]
    },
    {
     "name": "stdout",
     "output_type": "stream",
     "text": [
      "<class 'str'>\n",
      "saved\n"
     ]
    },
    {
     "name": "stderr",
     "output_type": "stream",
     "text": [
      "c:\\Users\\sahil\\AppData\\Local\\Programs\\Python\\Python311\\Lib\\site-packages\\urllib3\\connectionpool.py:1045: InsecureRequestWarning: Unverified HTTPS request is being made to host 'news.google.com'. Adding certificate verification is strongly advised. See: https://urllib3.readthedocs.io/en/1.26.x/advanced-usage.html#ssl-warnings\n",
      "  warnings.warn(\n",
      "c:\\Users\\sahil\\AppData\\Local\\Programs\\Python\\Python311\\Lib\\site-packages\\urllib3\\connectionpool.py:1045: InsecureRequestWarning: Unverified HTTPS request is being made to host 'swarajyamag.com'. Adding certificate verification is strongly advised. See: https://urllib3.readthedocs.io/en/1.26.x/advanced-usage.html#ssl-warnings\n",
      "  warnings.warn(\n"
     ]
    },
    {
     "name": "stdout",
     "output_type": "stream",
     "text": [
      "<class 'str'>\n",
      "saved\n"
     ]
    },
    {
     "name": "stderr",
     "output_type": "stream",
     "text": [
      "c:\\Users\\sahil\\AppData\\Local\\Programs\\Python\\Python311\\Lib\\site-packages\\urllib3\\connectionpool.py:1045: InsecureRequestWarning: Unverified HTTPS request is being made to host 'news.google.com'. Adding certificate verification is strongly advised. See: https://urllib3.readthedocs.io/en/1.26.x/advanced-usage.html#ssl-warnings\n",
      "  warnings.warn(\n",
      "c:\\Users\\sahil\\AppData\\Local\\Programs\\Python\\Python311\\Lib\\site-packages\\urllib3\\connectionpool.py:1045: InsecureRequestWarning: Unverified HTTPS request is being made to host 'english.mathrubhumi.com'. Adding certificate verification is strongly advised. See: https://urllib3.readthedocs.io/en/1.26.x/advanced-usage.html#ssl-warnings\n",
      "  warnings.warn(\n"
     ]
    },
    {
     "name": "stdout",
     "output_type": "stream",
     "text": [
      "<class 'str'>\n",
      "saved\n"
     ]
    },
    {
     "name": "stderr",
     "output_type": "stream",
     "text": [
      "c:\\Users\\sahil\\AppData\\Local\\Programs\\Python\\Python311\\Lib\\site-packages\\urllib3\\connectionpool.py:1045: InsecureRequestWarning: Unverified HTTPS request is being made to host 'news.google.com'. Adding certificate verification is strongly advised. See: https://urllib3.readthedocs.io/en/1.26.x/advanced-usage.html#ssl-warnings\n",
      "  warnings.warn(\n",
      "c:\\Users\\sahil\\AppData\\Local\\Programs\\Python\\Python311\\Lib\\site-packages\\urllib3\\connectionpool.py:1045: InsecureRequestWarning: Unverified HTTPS request is being made to host 'www.thehindu.com'. Adding certificate verification is strongly advised. See: https://urllib3.readthedocs.io/en/1.26.x/advanced-usage.html#ssl-warnings\n",
      "  warnings.warn(\n"
     ]
    },
    {
     "name": "stdout",
     "output_type": "stream",
     "text": [
      "<class 'str'>\n",
      "saved\n"
     ]
    },
    {
     "name": "stderr",
     "output_type": "stream",
     "text": [
      "c:\\Users\\sahil\\AppData\\Local\\Programs\\Python\\Python311\\Lib\\site-packages\\urllib3\\connectionpool.py:1045: InsecureRequestWarning: Unverified HTTPS request is being made to host 'news.google.com'. Adding certificate verification is strongly advised. See: https://urllib3.readthedocs.io/en/1.26.x/advanced-usage.html#ssl-warnings\n",
      "  warnings.warn(\n",
      "c:\\Users\\sahil\\AppData\\Local\\Programs\\Python\\Python311\\Lib\\site-packages\\urllib3\\connectionpool.py:1045: InsecureRequestWarning: Unverified HTTPS request is being made to host 'www.newindianexpress.com'. Adding certificate verification is strongly advised. See: https://urllib3.readthedocs.io/en/1.26.x/advanced-usage.html#ssl-warnings\n",
      "  warnings.warn(\n"
     ]
    },
    {
     "name": "stdout",
     "output_type": "stream",
     "text": [
      "<class 'str'>\n",
      "saved\n"
     ]
    },
    {
     "name": "stderr",
     "output_type": "stream",
     "text": [
      "c:\\Users\\sahil\\AppData\\Local\\Programs\\Python\\Python311\\Lib\\site-packages\\urllib3\\connectionpool.py:1045: InsecureRequestWarning: Unverified HTTPS request is being made to host 'news.google.com'. Adding certificate verification is strongly advised. See: https://urllib3.readthedocs.io/en/1.26.x/advanced-usage.html#ssl-warnings\n",
      "  warnings.warn(\n"
     ]
    },
    {
     "name": "stdout",
     "output_type": "stream",
     "text": [
      "Error fetching data from https://news.google.com/rss/articles/CBMilQFodHRwczovL3d3dy50aGVoaW5kdWJ1c2luZXNzbGluZS5jb20vZWNvbm9teS9hZ3JpLWJ1c2luZXNzL2NhYmluZXQtYXBwcm92ZXMtMjUwLTMwMC1wZXItcXVpbnRhbC1oaWtlLWluLWNvcHJhLW1zcC1mb3ItMjAyNC1zZWFzb24vYXJ0aWNsZTY3Njc5OTg0LmVjZdIBmgFodHRwczovL3d3dy50aGVoaW5kdWJ1c2luZXNzbGluZS5jb20vZWNvbm9teS9hZ3JpLWJ1c2luZXNzL2NhYmluZXQtYXBwcm92ZXMtMjUwLTMwMC1wZXItcXVpbnRhbC1oaWtlLWluLWNvcHJhLW1zcC1mb3ItMjAyNC1zZWFzb24vYXJ0aWNsZTY3Njc5OTg0LmVjZS9hbXAv?oc=5&hl=en-IN&gl=IN&ceid=IN:en: ('Connection aborted.', RemoteDisconnected('Remote end closed connection without response'))\n"
     ]
    },
    {
     "name": "stderr",
     "output_type": "stream",
     "text": [
      "c:\\Users\\sahil\\AppData\\Local\\Programs\\Python\\Python311\\Lib\\site-packages\\urllib3\\connectionpool.py:1045: InsecureRequestWarning: Unverified HTTPS request is being made to host 'news.google.com'. Adding certificate verification is strongly advised. See: https://urllib3.readthedocs.io/en/1.26.x/advanced-usage.html#ssl-warnings\n",
      "  warnings.warn(\n",
      "c:\\Users\\sahil\\AppData\\Local\\Programs\\Python\\Python311\\Lib\\site-packages\\urllib3\\connectionpool.py:1045: InsecureRequestWarning: Unverified HTTPS request is being made to host 'www.philstar.com'. Adding certificate verification is strongly advised. See: https://urllib3.readthedocs.io/en/1.26.x/advanced-usage.html#ssl-warnings\n",
      "  warnings.warn(\n"
     ]
    },
    {
     "name": "stdout",
     "output_type": "stream",
     "text": [
      "<class 'str'>\n",
      "saved\n"
     ]
    },
    {
     "name": "stderr",
     "output_type": "stream",
     "text": [
      "c:\\Users\\sahil\\AppData\\Local\\Programs\\Python\\Python311\\Lib\\site-packages\\urllib3\\connectionpool.py:1045: InsecureRequestWarning: Unverified HTTPS request is being made to host 'news.google.com'. Adding certificate verification is strongly advised. See: https://urllib3.readthedocs.io/en/1.26.x/advanced-usage.html#ssl-warnings\n",
      "  warnings.warn(\n",
      "c:\\Users\\sahil\\AppData\\Local\\Programs\\Python\\Python311\\Lib\\site-packages\\urllib3\\connectionpool.py:1045: InsecureRequestWarning: Unverified HTTPS request is being made to host 'www.philstar.com'. Adding certificate verification is strongly advised. See: https://urllib3.readthedocs.io/en/1.26.x/advanced-usage.html#ssl-warnings\n",
      "  warnings.warn(\n"
     ]
    },
    {
     "name": "stdout",
     "output_type": "stream",
     "text": [
      "<class 'str'>\n",
      "saved\n"
     ]
    },
    {
     "name": "stderr",
     "output_type": "stream",
     "text": [
      "c:\\Users\\sahil\\AppData\\Local\\Programs\\Python\\Python311\\Lib\\site-packages\\urllib3\\connectionpool.py:1045: InsecureRequestWarning: Unverified HTTPS request is being made to host 'news.google.com'. Adding certificate verification is strongly advised. See: https://urllib3.readthedocs.io/en/1.26.x/advanced-usage.html#ssl-warnings\n",
      "  warnings.warn(\n",
      "c:\\Users\\sahil\\AppData\\Local\\Programs\\Python\\Python311\\Lib\\site-packages\\urllib3\\connectionpool.py:1045: InsecureRequestWarning: Unverified HTTPS request is being made to host 'timesofindia.indiatimes.com'. Adding certificate verification is strongly advised. See: https://urllib3.readthedocs.io/en/1.26.x/advanced-usage.html#ssl-warnings\n",
      "  warnings.warn(\n"
     ]
    },
    {
     "name": "stdout",
     "output_type": "stream",
     "text": [
      "<class 'str'>\n",
      "saved\n"
     ]
    },
    {
     "name": "stderr",
     "output_type": "stream",
     "text": [
      "c:\\Users\\sahil\\AppData\\Local\\Programs\\Python\\Python311\\Lib\\site-packages\\urllib3\\connectionpool.py:1045: InsecureRequestWarning: Unverified HTTPS request is being made to host 'news.google.com'. Adding certificate verification is strongly advised. See: https://urllib3.readthedocs.io/en/1.26.x/advanced-usage.html#ssl-warnings\n",
      "  warnings.warn(\n",
      "c:\\Users\\sahil\\AppData\\Local\\Programs\\Python\\Python311\\Lib\\site-packages\\urllib3\\connectionpool.py:1045: InsecureRequestWarning: Unverified HTTPS request is being made to host 'www.thehindu.com'. Adding certificate verification is strongly advised. See: https://urllib3.readthedocs.io/en/1.26.x/advanced-usage.html#ssl-warnings\n",
      "  warnings.warn(\n"
     ]
    },
    {
     "name": "stdout",
     "output_type": "stream",
     "text": [
      "<class 'str'>\n",
      "saved\n"
     ]
    },
    {
     "name": "stderr",
     "output_type": "stream",
     "text": [
      "c:\\Users\\sahil\\AppData\\Local\\Programs\\Python\\Python311\\Lib\\site-packages\\urllib3\\connectionpool.py:1045: InsecureRequestWarning: Unverified HTTPS request is being made to host 'news.google.com'. Adding certificate verification is strongly advised. See: https://urllib3.readthedocs.io/en/1.26.x/advanced-usage.html#ssl-warnings\n",
      "  warnings.warn(\n",
      "c:\\Users\\sahil\\AppData\\Local\\Programs\\Python\\Python311\\Lib\\site-packages\\urllib3\\connectionpool.py:1045: InsecureRequestWarning: Unverified HTTPS request is being made to host 'www.onmanorama.com'. Adding certificate verification is strongly advised. See: https://urllib3.readthedocs.io/en/1.26.x/advanced-usage.html#ssl-warnings\n",
      "  warnings.warn(\n"
     ]
    },
    {
     "name": "stdout",
     "output_type": "stream",
     "text": [
      "<class 'str'>\n",
      "saved\n"
     ]
    },
    {
     "name": "stderr",
     "output_type": "stream",
     "text": [
      "c:\\Users\\sahil\\AppData\\Local\\Programs\\Python\\Python311\\Lib\\site-packages\\urllib3\\connectionpool.py:1045: InsecureRequestWarning: Unverified HTTPS request is being made to host 'news.google.com'. Adding certificate verification is strongly advised. See: https://urllib3.readthedocs.io/en/1.26.x/advanced-usage.html#ssl-warnings\n",
      "  warnings.warn(\n"
     ]
    },
    {
     "name": "stdout",
     "output_type": "stream",
     "text": [
      "<class 'str'>\n",
      "saved\n"
     ]
    },
    {
     "name": "stderr",
     "output_type": "stream",
     "text": [
      "c:\\Users\\sahil\\AppData\\Local\\Programs\\Python\\Python311\\Lib\\site-packages\\urllib3\\connectionpool.py:1045: InsecureRequestWarning: Unverified HTTPS request is being made to host 'news.google.com'. Adding certificate verification is strongly advised. See: https://urllib3.readthedocs.io/en/1.26.x/advanced-usage.html#ssl-warnings\n",
      "  warnings.warn(\n",
      "c:\\Users\\sahil\\AppData\\Local\\Programs\\Python\\Python311\\Lib\\site-packages\\urllib3\\connectionpool.py:1045: InsecureRequestWarning: Unverified HTTPS request is being made to host 'www.newsclick.in'. Adding certificate verification is strongly advised. See: https://urllib3.readthedocs.io/en/1.26.x/advanced-usage.html#ssl-warnings\n",
      "  warnings.warn(\n"
     ]
    },
    {
     "name": "stdout",
     "output_type": "stream",
     "text": [
      "<class 'str'>\n",
      "saved\n"
     ]
    },
    {
     "name": "stderr",
     "output_type": "stream",
     "text": [
      "c:\\Users\\sahil\\AppData\\Local\\Programs\\Python\\Python311\\Lib\\site-packages\\urllib3\\connectionpool.py:1045: InsecureRequestWarning: Unverified HTTPS request is being made to host 'news.google.com'. Adding certificate verification is strongly advised. See: https://urllib3.readthedocs.io/en/1.26.x/advanced-usage.html#ssl-warnings\n",
      "  warnings.warn(\n",
      "c:\\Users\\sahil\\AppData\\Local\\Programs\\Python\\Python311\\Lib\\site-packages\\urllib3\\connectionpool.py:1045: InsecureRequestWarning: Unverified HTTPS request is being made to host 'www.livemint.com'. Adding certificate verification is strongly advised. See: https://urllib3.readthedocs.io/en/1.26.x/advanced-usage.html#ssl-warnings\n",
      "  warnings.warn(\n"
     ]
    },
    {
     "name": "stdout",
     "output_type": "stream",
     "text": [
      "<class 'str'>\n",
      "saved\n"
     ]
    },
    {
     "name": "stderr",
     "output_type": "stream",
     "text": [
      "c:\\Users\\sahil\\AppData\\Local\\Programs\\Python\\Python311\\Lib\\site-packages\\urllib3\\connectionpool.py:1045: InsecureRequestWarning: Unverified HTTPS request is being made to host 'news.google.com'. Adding certificate verification is strongly advised. See: https://urllib3.readthedocs.io/en/1.26.x/advanced-usage.html#ssl-warnings\n",
      "  warnings.warn(\n",
      "c:\\Users\\sahil\\AppData\\Local\\Programs\\Python\\Python311\\Lib\\site-packages\\urllib3\\connectionpool.py:1045: InsecureRequestWarning: Unverified HTTPS request is being made to host 'www.indiatvnews.com'. Adding certificate verification is strongly advised. See: https://urllib3.readthedocs.io/en/1.26.x/advanced-usage.html#ssl-warnings\n",
      "  warnings.warn(\n"
     ]
    },
    {
     "name": "stdout",
     "output_type": "stream",
     "text": [
      "<class 'str'>\n",
      "saved\n"
     ]
    },
    {
     "name": "stderr",
     "output_type": "stream",
     "text": [
      "c:\\Users\\sahil\\AppData\\Local\\Programs\\Python\\Python311\\Lib\\site-packages\\urllib3\\connectionpool.py:1045: InsecureRequestWarning: Unverified HTTPS request is being made to host 'news.google.com'. Adding certificate verification is strongly advised. See: https://urllib3.readthedocs.io/en/1.26.x/advanced-usage.html#ssl-warnings\n",
      "  warnings.warn(\n",
      "c:\\Users\\sahil\\AppData\\Local\\Programs\\Python\\Python311\\Lib\\site-packages\\urllib3\\connectionpool.py:1045: InsecureRequestWarning: Unverified HTTPS request is being made to host 'www.fbcnews.com.fj'. Adding certificate verification is strongly advised. See: https://urllib3.readthedocs.io/en/1.26.x/advanced-usage.html#ssl-warnings\n",
      "  warnings.warn(\n"
     ]
    },
    {
     "name": "stdout",
     "output_type": "stream",
     "text": [
      "<class 'str'>\n",
      "saved\n"
     ]
    },
    {
     "name": "stderr",
     "output_type": "stream",
     "text": [
      "c:\\Users\\sahil\\AppData\\Local\\Programs\\Python\\Python311\\Lib\\site-packages\\urllib3\\connectionpool.py:1045: InsecureRequestWarning: Unverified HTTPS request is being made to host 'news.google.com'. Adding certificate verification is strongly advised. See: https://urllib3.readthedocs.io/en/1.26.x/advanced-usage.html#ssl-warnings\n",
      "  warnings.warn(\n",
      "c:\\Users\\sahil\\AppData\\Local\\Programs\\Python\\Python311\\Lib\\site-packages\\urllib3\\connectionpool.py:1045: InsecureRequestWarning: Unverified HTTPS request is being made to host 'www.asianage.com'. Adding certificate verification is strongly advised. See: https://urllib3.readthedocs.io/en/1.26.x/advanced-usage.html#ssl-warnings\n",
      "  warnings.warn(\n"
     ]
    },
    {
     "name": "stdout",
     "output_type": "stream",
     "text": [
      "<class 'str'>\n",
      "saved\n"
     ]
    },
    {
     "name": "stderr",
     "output_type": "stream",
     "text": [
      "c:\\Users\\sahil\\AppData\\Local\\Programs\\Python\\Python311\\Lib\\site-packages\\urllib3\\connectionpool.py:1045: InsecureRequestWarning: Unverified HTTPS request is being made to host 'news.google.com'. Adding certificate verification is strongly advised. See: https://urllib3.readthedocs.io/en/1.26.x/advanced-usage.html#ssl-warnings\n",
      "  warnings.warn(\n",
      "c:\\Users\\sahil\\AppData\\Local\\Programs\\Python\\Python311\\Lib\\site-packages\\urllib3\\connectionpool.py:1045: InsecureRequestWarning: Unverified HTTPS request is being made to host 'www.newindianexpress.com'. Adding certificate verification is strongly advised. See: https://urllib3.readthedocs.io/en/1.26.x/advanced-usage.html#ssl-warnings\n",
      "  warnings.warn(\n"
     ]
    },
    {
     "name": "stdout",
     "output_type": "stream",
     "text": [
      "<class 'str'>\n",
      "saved\n"
     ]
    },
    {
     "name": "stderr",
     "output_type": "stream",
     "text": [
      "c:\\Users\\sahil\\AppData\\Local\\Programs\\Python\\Python311\\Lib\\site-packages\\urllib3\\connectionpool.py:1045: InsecureRequestWarning: Unverified HTTPS request is being made to host 'news.google.com'. Adding certificate verification is strongly advised. See: https://urllib3.readthedocs.io/en/1.26.x/advanced-usage.html#ssl-warnings\n",
      "  warnings.warn(\n",
      "c:\\Users\\sahil\\AppData\\Local\\Programs\\Python\\Python311\\Lib\\site-packages\\urllib3\\connectionpool.py:1045: InsecureRequestWarning: Unverified HTTPS request is being made to host 'zeenews.india.com'. Adding certificate verification is strongly advised. See: https://urllib3.readthedocs.io/en/1.26.x/advanced-usage.html#ssl-warnings\n",
      "  warnings.warn(\n"
     ]
    },
    {
     "name": "stdout",
     "output_type": "stream",
     "text": [
      "Error fetching data from https://news.google.com/rss/articles/CBMib2h0dHBzOi8vemVlbmV3cy5pbmRpYS5jb20vZWNvbm9teS9jYWJpbmV0LWFwcHJvdmVzLW1pbmltdW0tc3VwcG9ydC1wcmljZS1mb3ItY29wcmEtZm9yLTIwMjQtc2Vhc29uLTI3MDMzMzUuaHRtbNIBc2h0dHBzOi8vemVlbmV3cy5pbmRpYS5jb20vZWNvbm9teS9jYWJpbmV0LWFwcHJvdmVzLW1pbmltdW0tc3VwcG9ydC1wcmljZS1mb3ItY29wcmEtZm9yLTIwMjQtc2Vhc29uLTI3MDMzMzUuaHRtbC9hbXA?oc=5&hl=en-IN&gl=IN&ceid=IN:en: 403 Client Error: Forbidden for url: https://zeenews.india.com/economy/cabinet-approves-minimum-support-price-for-copra-for-2024-season-2703335.html\n"
     ]
    },
    {
     "name": "stderr",
     "output_type": "stream",
     "text": [
      "c:\\Users\\sahil\\AppData\\Local\\Programs\\Python\\Python311\\Lib\\site-packages\\urllib3\\connectionpool.py:1045: InsecureRequestWarning: Unverified HTTPS request is being made to host 'news.google.com'. Adding certificate verification is strongly advised. See: https://urllib3.readthedocs.io/en/1.26.x/advanced-usage.html#ssl-warnings\n",
      "  warnings.warn(\n",
      "c:\\Users\\sahil\\AppData\\Local\\Programs\\Python\\Python311\\Lib\\site-packages\\urllib3\\connectionpool.py:1045: InsecureRequestWarning: Unverified HTTPS request is being made to host 'newsline.ph'. Adding certificate verification is strongly advised. See: https://urllib3.readthedocs.io/en/1.26.x/advanced-usage.html#ssl-warnings\n",
      "  warnings.warn(\n"
     ]
    },
    {
     "name": "stdout",
     "output_type": "stream",
     "text": [
      "Error fetching data from https://news.google.com/rss/articles/CBMidGh0dHBzOi8vbmV3c2xpbmUucGgvdG9wLXN0b3JpZXMvMjAyMy8wOC8yNi9pbnRlZ3JhdGVkLXdoaXRlLWNvcHJhLWFuZC1jb2NvbnV0LW9pbC1wcm9jZXNzaW5nLWZhY2lsaXR5LWJyZWFrcy1ncm91bmQv0gEA?oc=5&hl=en-IN&gl=IN&ceid=IN:en: 406 Client Error: Not Acceptable for url: https://newsline.ph/top-stories/2023/08/26/integrated-white-copra-and-coconut-oil-processing-facility-breaks-ground/\n"
     ]
    },
    {
     "name": "stderr",
     "output_type": "stream",
     "text": [
      "c:\\Users\\sahil\\AppData\\Local\\Programs\\Python\\Python311\\Lib\\site-packages\\urllib3\\connectionpool.py:1045: InsecureRequestWarning: Unverified HTTPS request is being made to host 'news.google.com'. Adding certificate verification is strongly advised. See: https://urllib3.readthedocs.io/en/1.26.x/advanced-usage.html#ssl-warnings\n",
      "  warnings.warn(\n",
      "c:\\Users\\sahil\\AppData\\Local\\Programs\\Python\\Python311\\Lib\\site-packages\\urllib3\\connectionpool.py:1045: InsecureRequestWarning: Unverified HTTPS request is being made to host 'timesofindia.indiatimes.com'. Adding certificate verification is strongly advised. See: https://urllib3.readthedocs.io/en/1.26.x/advanced-usage.html#ssl-warnings\n",
      "  warnings.warn(\n"
     ]
    },
    {
     "name": "stdout",
     "output_type": "stream",
     "text": [
      "<class 'str'>\n",
      "saved\n"
     ]
    },
    {
     "name": "stderr",
     "output_type": "stream",
     "text": [
      "c:\\Users\\sahil\\AppData\\Local\\Programs\\Python\\Python311\\Lib\\site-packages\\urllib3\\connectionpool.py:1045: InsecureRequestWarning: Unverified HTTPS request is being made to host 'news.google.com'. Adding certificate verification is strongly advised. See: https://urllib3.readthedocs.io/en/1.26.x/advanced-usage.html#ssl-warnings\n",
      "  warnings.warn(\n",
      "c:\\Users\\sahil\\AppData\\Local\\Programs\\Python\\Python311\\Lib\\site-packages\\urllib3\\connectionpool.py:1045: InsecureRequestWarning: Unverified HTTPS request is being made to host 'businessmirror.com.ph'. Adding certificate verification is strongly advised. See: https://urllib3.readthedocs.io/en/1.26.x/advanced-usage.html#ssl-warnings\n",
      "  warnings.warn(\n"
     ]
    },
    {
     "name": "stdout",
     "output_type": "stream",
     "text": [
      "<class 'str'>\n",
      "saved\n"
     ]
    },
    {
     "name": "stderr",
     "output_type": "stream",
     "text": [
      "c:\\Users\\sahil\\AppData\\Local\\Programs\\Python\\Python311\\Lib\\site-packages\\urllib3\\connectionpool.py:1045: InsecureRequestWarning: Unverified HTTPS request is being made to host 'news.google.com'. Adding certificate verification is strongly advised. See: https://urllib3.readthedocs.io/en/1.26.x/advanced-usage.html#ssl-warnings\n",
      "  warnings.warn(\n",
      "c:\\Users\\sahil\\AppData\\Local\\Programs\\Python\\Python311\\Lib\\site-packages\\urllib3\\connectionpool.py:1045: InsecureRequestWarning: Unverified HTTPS request is being made to host 'www.narendramodi.in'. Adding certificate verification is strongly advised. See: https://urllib3.readthedocs.io/en/1.26.x/advanced-usage.html#ssl-warnings\n",
      "  warnings.warn(\n"
     ]
    },
    {
     "name": "stdout",
     "output_type": "stream",
     "text": [
      "Error fetching data from https://news.google.com/rss/articles/CBMiY2h0dHBzOi8vd3d3Lm5hcmVuZHJhbW9kaS5pbi9jYWJpbmV0LWFwcHJvdmVzLW1pbmltdW0tc3VwcG9ydC1wcmljZS1mb3ItY29wcmEtZm9yLTIwMjQtc2Vhc29uLTU3NzQ5M9IBZ2h0dHBzOi8vd3d3Lm5hcmVuZHJhbW9kaS5pbi9hbXAvY2FiaW5ldC1hcHByb3Zlcy1taW5pbXVtLXN1cHBvcnQtcHJpY2UtZm9yLWNvcHJhLWZvci0yMDI0LXNlYXNvbi01Nzc0OTM?oc=5&hl=en-IN&gl=IN&ceid=IN:en: 403 Client Error: Forbidden for url: https://www.narendramodi.in/cabinet-approves-minimum-support-price-for-copra-for-2024-season-577493\n"
     ]
    },
    {
     "name": "stderr",
     "output_type": "stream",
     "text": [
      "c:\\Users\\sahil\\AppData\\Local\\Programs\\Python\\Python311\\Lib\\site-packages\\urllib3\\connectionpool.py:1045: InsecureRequestWarning: Unverified HTTPS request is being made to host 'news.google.com'. Adding certificate verification is strongly advised. See: https://urllib3.readthedocs.io/en/1.26.x/advanced-usage.html#ssl-warnings\n",
      "  warnings.warn(\n",
      "c:\\Users\\sahil\\AppData\\Local\\Programs\\Python\\Python311\\Lib\\site-packages\\urllib3\\connectionpool.py:1045: InsecureRequestWarning: Unverified HTTPS request is being made to host 'www.dtnext.in'. Adding certificate verification is strongly advised. See: https://urllib3.readthedocs.io/en/1.26.x/advanced-usage.html#ssl-warnings\n",
      "  warnings.warn(\n"
     ]
    },
    {
     "name": "stdout",
     "output_type": "stream",
     "text": [
      "<class 'str'>\n",
      "saved\n"
     ]
    },
    {
     "name": "stderr",
     "output_type": "stream",
     "text": [
      "c:\\Users\\sahil\\AppData\\Local\\Programs\\Python\\Python311\\Lib\\site-packages\\urllib3\\connectionpool.py:1045: InsecureRequestWarning: Unverified HTTPS request is being made to host 'news.google.com'. Adding certificate verification is strongly advised. See: https://urllib3.readthedocs.io/en/1.26.x/advanced-usage.html#ssl-warnings\n",
      "  warnings.warn(\n",
      "c:\\Users\\sahil\\AppData\\Local\\Programs\\Python\\Python311\\Lib\\site-packages\\urllib3\\connectionpool.py:1045: InsecureRequestWarning: Unverified HTTPS request is being made to host 'www.republicworld.com'. Adding certificate verification is strongly advised. See: https://urllib3.readthedocs.io/en/1.26.x/advanced-usage.html#ssl-warnings\n",
      "  warnings.warn(\n"
     ]
    },
    {
     "name": "stdout",
     "output_type": "stream",
     "text": [
      "<class 'str'>\n",
      "saved\n"
     ]
    },
    {
     "name": "stderr",
     "output_type": "stream",
     "text": [
      "c:\\Users\\sahil\\AppData\\Local\\Programs\\Python\\Python311\\Lib\\site-packages\\urllib3\\connectionpool.py:1045: InsecureRequestWarning: Unverified HTTPS request is being made to host 'news.google.com'. Adding certificate verification is strongly advised. See: https://urllib3.readthedocs.io/en/1.26.x/advanced-usage.html#ssl-warnings\n",
      "  warnings.warn(\n",
      "c:\\Users\\sahil\\AppData\\Local\\Programs\\Python\\Python311\\Lib\\site-packages\\urllib3\\connectionpool.py:1045: InsecureRequestWarning: Unverified HTTPS request is being made to host 'www.news18.com'. Adding certificate verification is strongly advised. See: https://urllib3.readthedocs.io/en/1.26.x/advanced-usage.html#ssl-warnings\n",
      "  warnings.warn(\n"
     ]
    },
    {
     "name": "stdout",
     "output_type": "stream",
     "text": [
      "<class 'str'>\n",
      "saved\n"
     ]
    },
    {
     "name": "stderr",
     "output_type": "stream",
     "text": [
      "c:\\Users\\sahil\\AppData\\Local\\Programs\\Python\\Python311\\Lib\\site-packages\\urllib3\\connectionpool.py:1045: InsecureRequestWarning: Unverified HTTPS request is being made to host 'news.google.com'. Adding certificate verification is strongly advised. See: https://urllib3.readthedocs.io/en/1.26.x/advanced-usage.html#ssl-warnings\n",
      "  warnings.warn(\n",
      "c:\\Users\\sahil\\AppData\\Local\\Programs\\Python\\Python311\\Lib\\site-packages\\urllib3\\connectionpool.py:1045: InsecureRequestWarning: Unverified HTTPS request is being made to host 'www.dtnext.in'. Adding certificate verification is strongly advised. See: https://urllib3.readthedocs.io/en/1.26.x/advanced-usage.html#ssl-warnings\n",
      "  warnings.warn(\n"
     ]
    },
    {
     "name": "stdout",
     "output_type": "stream",
     "text": [
      "<class 'str'>\n",
      "saved\n"
     ]
    },
    {
     "name": "stderr",
     "output_type": "stream",
     "text": [
      "c:\\Users\\sahil\\AppData\\Local\\Programs\\Python\\Python311\\Lib\\site-packages\\urllib3\\connectionpool.py:1045: InsecureRequestWarning: Unverified HTTPS request is being made to host 'news.google.com'. Adding certificate verification is strongly advised. See: https://urllib3.readthedocs.io/en/1.26.x/advanced-usage.html#ssl-warnings\n",
      "  warnings.warn(\n",
      "c:\\Users\\sahil\\AppData\\Local\\Programs\\Python\\Python311\\Lib\\site-packages\\urllib3\\connectionpool.py:1045: InsecureRequestWarning: Unverified HTTPS request is being made to host 'www.dtnext.in'. Adding certificate verification is strongly advised. See: https://urllib3.readthedocs.io/en/1.26.x/advanced-usage.html#ssl-warnings\n",
      "  warnings.warn(\n"
     ]
    },
    {
     "name": "stdout",
     "output_type": "stream",
     "text": [
      "<class 'str'>\n",
      "saved\n"
     ]
    },
    {
     "name": "stderr",
     "output_type": "stream",
     "text": [
      "c:\\Users\\sahil\\AppData\\Local\\Programs\\Python\\Python311\\Lib\\site-packages\\urllib3\\connectionpool.py:1045: InsecureRequestWarning: Unverified HTTPS request is being made to host 'news.google.com'. Adding certificate verification is strongly advised. See: https://urllib3.readthedocs.io/en/1.26.x/advanced-usage.html#ssl-warnings\n",
      "  warnings.warn(\n",
      "c:\\Users\\sahil\\AppData\\Local\\Programs\\Python\\Python311\\Lib\\site-packages\\urllib3\\connectionpool.py:1045: InsecureRequestWarning: Unverified HTTPS request is being made to host 'www.dtnext.in'. Adding certificate verification is strongly advised. See: https://urllib3.readthedocs.io/en/1.26.x/advanced-usage.html#ssl-warnings\n",
      "  warnings.warn(\n"
     ]
    },
    {
     "name": "stdout",
     "output_type": "stream",
     "text": [
      "<class 'str'>\n",
      "saved\n"
     ]
    },
    {
     "name": "stderr",
     "output_type": "stream",
     "text": [
      "c:\\Users\\sahil\\AppData\\Local\\Programs\\Python\\Python311\\Lib\\site-packages\\urllib3\\connectionpool.py:1045: InsecureRequestWarning: Unverified HTTPS request is being made to host 'news.google.com'. Adding certificate verification is strongly advised. See: https://urllib3.readthedocs.io/en/1.26.x/advanced-usage.html#ssl-warnings\n",
      "  warnings.warn(\n",
      "c:\\Users\\sahil\\AppData\\Local\\Programs\\Python\\Python311\\Lib\\site-packages\\urllib3\\connectionpool.py:1045: InsecureRequestWarning: Unverified HTTPS request is being made to host 'www.pna.gov.ph'. Adding certificate verification is strongly advised. See: https://urllib3.readthedocs.io/en/1.26.x/advanced-usage.html#ssl-warnings\n",
      "  warnings.warn(\n"
     ]
    },
    {
     "name": "stdout",
     "output_type": "stream",
     "text": [
      "Error fetching data from https://news.google.com/rss/articles/CBMiJ2h0dHBzOi8vd3d3LnBuYS5nb3YucGgvYXJ0aWNsZXMvMTIwNDI1OdIBAA?oc=5&hl=en-IN&gl=IN&ceid=IN:en: 403 Client Error: Forbidden for url: https://www.pna.gov.ph/articles/1204259\n"
     ]
    },
    {
     "name": "stderr",
     "output_type": "stream",
     "text": [
      "c:\\Users\\sahil\\AppData\\Local\\Programs\\Python\\Python311\\Lib\\site-packages\\urllib3\\connectionpool.py:1045: InsecureRequestWarning: Unverified HTTPS request is being made to host 'news.google.com'. Adding certificate verification is strongly advised. See: https://urllib3.readthedocs.io/en/1.26.x/advanced-usage.html#ssl-warnings\n",
      "  warnings.warn(\n",
      "c:\\Users\\sahil\\AppData\\Local\\Programs\\Python\\Python311\\Lib\\site-packages\\urllib3\\connectionpool.py:1045: InsecureRequestWarning: Unverified HTTPS request is being made to host 'www.en.etemaaddaily.com'. Adding certificate verification is strongly advised. See: https://urllib3.readthedocs.io/en/1.26.x/advanced-usage.html#ssl-warnings\n",
      "  warnings.warn(\n"
     ]
    },
    {
     "name": "stdout",
     "output_type": "stream",
     "text": [
      "<class 'str'>\n",
      "saved\n"
     ]
    },
    {
     "name": "stderr",
     "output_type": "stream",
     "text": [
      "c:\\Users\\sahil\\AppData\\Local\\Programs\\Python\\Python311\\Lib\\site-packages\\urllib3\\connectionpool.py:1045: InsecureRequestWarning: Unverified HTTPS request is being made to host 'news.google.com'. Adding certificate verification is strongly advised. See: https://urllib3.readthedocs.io/en/1.26.x/advanced-usage.html#ssl-warnings\n",
      "  warnings.warn(\n",
      "c:\\Users\\sahil\\AppData\\Local\\Programs\\Python\\Python311\\Lib\\site-packages\\urllib3\\connectionpool.py:1045: InsecureRequestWarning: Unverified HTTPS request is being made to host 'www.fortuneindia.com'. Adding certificate verification is strongly advised. See: https://urllib3.readthedocs.io/en/1.26.x/advanced-usage.html#ssl-warnings\n",
      "  warnings.warn(\n"
     ]
    },
    {
     "name": "stdout",
     "output_type": "stream",
     "text": [
      "<class 'str'>\n",
      "saved\n"
     ]
    },
    {
     "name": "stderr",
     "output_type": "stream",
     "text": [
      "c:\\Users\\sahil\\AppData\\Local\\Programs\\Python\\Python311\\Lib\\site-packages\\urllib3\\connectionpool.py:1045: InsecureRequestWarning: Unverified HTTPS request is being made to host 'news.google.com'. Adding certificate verification is strongly advised. See: https://urllib3.readthedocs.io/en/1.26.x/advanced-usage.html#ssl-warnings\n",
      "  warnings.warn(\n",
      "c:\\Users\\sahil\\AppData\\Local\\Programs\\Python\\Python311\\Lib\\site-packages\\urllib3\\connectionpool.py:1045: InsecureRequestWarning: Unverified HTTPS request is being made to host 'www.bworldonline.com'. Adding certificate verification is strongly advised. See: https://urllib3.readthedocs.io/en/1.26.x/advanced-usage.html#ssl-warnings\n",
      "  warnings.warn(\n"
     ]
    },
    {
     "name": "stdout",
     "output_type": "stream",
     "text": [
      "<class 'str'>\n",
      "saved\n"
     ]
    },
    {
     "name": "stderr",
     "output_type": "stream",
     "text": [
      "c:\\Users\\sahil\\AppData\\Local\\Programs\\Python\\Python311\\Lib\\site-packages\\urllib3\\connectionpool.py:1045: InsecureRequestWarning: Unverified HTTPS request is being made to host 'news.google.com'. Adding certificate verification is strongly advised. See: https://urllib3.readthedocs.io/en/1.26.x/advanced-usage.html#ssl-warnings\n",
      "  warnings.warn(\n",
      "c:\\Users\\sahil\\AppData\\Local\\Programs\\Python\\Python311\\Lib\\site-packages\\urllib3\\connectionpool.py:1045: InsecureRequestWarning: Unverified HTTPS request is being made to host 'www.dtnext.in'. Adding certificate verification is strongly advised. See: https://urllib3.readthedocs.io/en/1.26.x/advanced-usage.html#ssl-warnings\n",
      "  warnings.warn(\n"
     ]
    },
    {
     "name": "stdout",
     "output_type": "stream",
     "text": [
      "<class 'str'>\n",
      "saved\n"
     ]
    }
   ],
   "source": [
    "\n",
    "\n",
    "def save_pdf(url, counter):\n",
    "    try:\n",
    "        res = requests.get(url, verify=False)\n",
    "        res.raise_for_status()\n",
    "\n",
    "        html_page = res.content\n",
    "\n",
    "        # Use BeautifulSoup to parse the HTML content\n",
    "        soup = BeautifulSoup(html_page, 'html.parser')\n",
    "        text_content = soup.get_text()\n",
    "\n",
    "        print(type(text_content))\n",
    "\n",
    "        # Specify the full path for saving the PDF\n",
    "        output_path = os.path.join(\"C:/Users/sahil/OneDrive/Desktop/Sreamlit train/Sreamlit train/data/pdf\", f\"output{counter}.pdf\")\n",
    "\n",
    "        # Initialize document object\n",
    "        document = ap.Document()\n",
    "\n",
    "        # Add page\n",
    "        page = document.pages.add()\n",
    "\n",
    "        # Initialize textfragment object\n",
    "        text_fragment = ap.text.TextFragment(text_content)\n",
    "\n",
    "        # Add text fragment to new page\n",
    "        page.paragraphs.add(text_fragment)\n",
    "\n",
    "        # Save updated PDF to the specified location\n",
    "        document.save(output_path)\n",
    "        print('saved',counter)\n",
    "\n",
    "    except requests.exceptions.RequestException as e:\n",
    "        print(f\"Error fetching data from {url}: {e}\")\n",
    "    except Exception as e:\n",
    "        print(f\"An unexpected error occurred: {e}\")\n",
    "\n",
    "# Assuming df is a DataFrame with a column named 'url'\n",
    "# Iterate through each URL and apply the function with a counter\n",
    "for i, url in enumerate(df['url'], start=1):\n",
    "    save_pdf(url, i)\n"
   ]
  }
 ],
 "metadata": {
  "kernelspec": {
   "display_name": "Python 3",
   "language": "python",
   "name": "python3"
  },
  "language_info": {
   "codemirror_mode": {
    "name": "ipython",
    "version": 3
   },
   "file_extension": ".py",
   "mimetype": "text/x-python",
   "name": "python",
   "nbconvert_exporter": "python",
   "pygments_lexer": "ipython3",
   "version": "3.11.3"
  }
 },
 "nbformat": 4,
 "nbformat_minor": 2
}
